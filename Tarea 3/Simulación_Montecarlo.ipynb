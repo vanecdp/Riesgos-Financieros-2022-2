{
  "nbformat": 4,
  "nbformat_minor": 0,
  "metadata": {
    "colab": {
      "name": "Simulación Montecarlo.ipynb",
      "provenance": [],
      "collapsed_sections": [],
      "toc_visible": true
    },
    "kernelspec": {
      "name": "python3",
      "display_name": "Python 3"
    },
    "accelerator": "GPU"
  },
  "cells": [
    {
      "cell_type": "markdown",
      "source": [
        "#Tarea 3. Riesgo de Mercado por Simulación Montecarlo\n",
        "\n",
        "> Nombre: Sánchez Rodríguez Ursula Vanessa\n",
        "\n",
        "> Correo: vanecdp@ciencias.unam.mx\n",
        "\n",
        "> No. de cuenta: 316039161"
      ],
      "metadata": {
        "id": "7ZHNb-W-1GKZ"
      }
    },
    {
      "cell_type": "code",
      "source": [
        "%load_ext rpy2.ipython\n",
        "!rm -rf Riesgos-Financieros\n",
        "!git clone \"https://github.com/act-prma/RiesgosFinancieros\""
      ],
      "metadata": {
        "colab": {
          "base_uri": "https://localhost:8080/"
        },
        "id": "BSoVsL5i1Qrz",
        "outputId": "c20d7f31-f241-4838-c8db-48c62c13767a"
      },
      "execution_count": 1,
      "outputs": [
        {
          "output_type": "stream",
          "name": "stdout",
          "text": [
            "Cloning into 'RiesgosFinancieros'...\n",
            "remote: Enumerating objects: 584, done.\u001b[K\n",
            "remote: Total 584 (delta 0), reused 0 (delta 0), pack-reused 584\u001b[K\n",
            "Receiving objects: 100% (584/584), 25.87 MiB | 24.83 MiB/s, done.\n",
            "Resolving deltas: 100% (372/372), done.\n"
          ]
        }
      ]
    },
    {
      "cell_type": "code",
      "metadata": {
        "id": "CQO2WUGWbAKN",
        "outputId": "672c1b93-8fe4-4720-84f1-8b5d86a10894",
        "colab": {
          "base_uri": "https://localhost:8080/"
        }
      },
      "source": [
        "%%R\n",
        "#require(quantmod)\n",
        "install.packages(\"quantmod\")\n",
        "library(quantmod)\n",
        "#require(data.table)\n",
        "install.packages(\"data.table\")\n",
        "library(data.table)\n",
        "#require(\"PerformanceAnalytics\")\n",
        "install.packages(\"PerformanceAnalytics\")\n",
        "library(\"PerformanceAnalytics\")\n",
        "\n",
        "install.packages(\"Deriv\")\n",
        "library(Deriv)\n",
        "\n",
        "\n",
        "library(dplyr)\n",
        "con = gzcon(url('https://github.com/systematicinvestor/SIT/raw/master/sit.gz', 'rb'))\n",
        "source(con)\n",
        "close(con)"
      ],
      "execution_count": 2,
      "outputs": [
        {
          "output_type": "stream",
          "name": "stderr",
          "text": [
            "R[write to console]: Installing package into ‘/usr/local/lib/R/site-library’\n",
            "(as ‘lib’ is unspecified)\n",
            "\n",
            "R[write to console]: also installing the dependencies ‘xts’, ‘zoo’, ‘TTR’\n",
            "\n",
            "\n",
            "R[write to console]: trying URL 'https://cran.rstudio.com/src/contrib/xts_0.12.1.tar.gz'\n",
            "\n",
            "R[write to console]: Content type 'application/x-gzip'\n",
            "R[write to console]:  length 517875 bytes (505 KB)\n",
            "\n",
            "R[write to console]: =\n",
            "R[write to console]: =\n",
            "R[write to console]: =\n",
            "R[write to console]: =\n",
            "R[write to console]: =\n",
            "R[write to console]: =\n",
            "R[write to console]: =\n",
            "R[write to console]: =\n",
            "R[write to console]: =\n",
            "R[write to console]: =\n",
            "R[write to console]: =\n",
            "R[write to console]: =\n",
            "R[write to console]: =\n",
            "R[write to console]: =\n",
            "R[write to console]: =\n",
            "R[write to console]: =\n",
            "R[write to console]: =\n",
            "R[write to console]: =\n",
            "R[write to console]: =\n",
            "R[write to console]: =\n",
            "R[write to console]: =\n",
            "R[write to console]: =\n",
            "R[write to console]: =\n",
            "R[write to console]: =\n",
            "R[write to console]: =\n",
            "R[write to console]: =\n",
            "R[write to console]: =\n",
            "R[write to console]: =\n",
            "R[write to console]: =\n",
            "R[write to console]: =\n",
            "R[write to console]: =\n",
            "R[write to console]: =\n",
            "R[write to console]: =\n",
            "R[write to console]: =\n",
            "R[write to console]: =\n",
            "R[write to console]: =\n",
            "R[write to console]: =\n",
            "R[write to console]: =\n",
            "R[write to console]: =\n",
            "R[write to console]: =\n",
            "R[write to console]: =\n",
            "R[write to console]: =\n",
            "R[write to console]: =\n",
            "R[write to console]: =\n",
            "R[write to console]: =\n",
            "R[write to console]: =\n",
            "R[write to console]: =\n",
            "R[write to console]: =\n",
            "R[write to console]: =\n",
            "R[write to console]: =\n",
            "R[write to console]: \n",
            "\n",
            "R[write to console]: downloaded 505 KB\n",
            "\n",
            "\n",
            "R[write to console]: trying URL 'https://cran.rstudio.com/src/contrib/zoo_1.8-10.tar.gz'\n",
            "\n",
            "R[write to console]: Content type 'application/x-gzip'\n",
            "R[write to console]:  length 808943 bytes (789 KB)\n",
            "\n",
            "R[write to console]: =\n",
            "R[write to console]: =\n",
            "R[write to console]: =\n",
            "R[write to console]: =\n",
            "R[write to console]: =\n",
            "R[write to console]: =\n",
            "R[write to console]: =\n",
            "R[write to console]: =\n",
            "R[write to console]: =\n",
            "R[write to console]: =\n",
            "R[write to console]: =\n",
            "R[write to console]: =\n",
            "R[write to console]: =\n",
            "R[write to console]: =\n",
            "R[write to console]: =\n",
            "R[write to console]: =\n",
            "R[write to console]: =\n",
            "R[write to console]: =\n",
            "R[write to console]: =\n",
            "R[write to console]: =\n",
            "R[write to console]: =\n",
            "R[write to console]: =\n",
            "R[write to console]: =\n",
            "R[write to console]: =\n",
            "R[write to console]: =\n",
            "R[write to console]: =\n",
            "R[write to console]: =\n",
            "R[write to console]: =\n",
            "R[write to console]: =\n",
            "R[write to console]: =\n",
            "R[write to console]: =\n",
            "R[write to console]: =\n",
            "R[write to console]: =\n",
            "R[write to console]: =\n",
            "R[write to console]: =\n",
            "R[write to console]: =\n",
            "R[write to console]: =\n",
            "R[write to console]: =\n",
            "R[write to console]: =\n",
            "R[write to console]: =\n",
            "R[write to console]: =\n",
            "R[write to console]: =\n",
            "R[write to console]: =\n",
            "R[write to console]: =\n",
            "R[write to console]: =\n",
            "R[write to console]: =\n",
            "R[write to console]: =\n",
            "R[write to console]: =\n",
            "R[write to console]: =\n",
            "R[write to console]: =\n",
            "R[write to console]: \n",
            "\n",
            "R[write to console]: downloaded 789 KB\n",
            "\n",
            "\n",
            "R[write to console]: trying URL 'https://cran.rstudio.com/src/contrib/TTR_0.24.3.tar.gz'\n",
            "\n",
            "R[write to console]: Content type 'application/x-gzip'\n",
            "R[write to console]:  length 317338 bytes (309 KB)\n",
            "\n",
            "R[write to console]: =\n",
            "R[write to console]: =\n",
            "R[write to console]: =\n",
            "R[write to console]: =\n",
            "R[write to console]: =\n",
            "R[write to console]: =\n",
            "R[write to console]: =\n",
            "R[write to console]: =\n",
            "R[write to console]: =\n",
            "R[write to console]: =\n",
            "R[write to console]: =\n",
            "R[write to console]: =\n",
            "R[write to console]: =\n",
            "R[write to console]: =\n",
            "R[write to console]: =\n",
            "R[write to console]: =\n",
            "R[write to console]: =\n",
            "R[write to console]: =\n",
            "R[write to console]: =\n",
            "R[write to console]: =\n",
            "R[write to console]: =\n",
            "R[write to console]: =\n",
            "R[write to console]: =\n",
            "R[write to console]: =\n",
            "R[write to console]: =\n",
            "R[write to console]: =\n",
            "R[write to console]: =\n",
            "R[write to console]: =\n",
            "R[write to console]: =\n",
            "R[write to console]: =\n",
            "R[write to console]: =\n",
            "R[write to console]: =\n",
            "R[write to console]: =\n",
            "R[write to console]: =\n",
            "R[write to console]: =\n",
            "R[write to console]: =\n",
            "R[write to console]: =\n",
            "R[write to console]: =\n",
            "R[write to console]: =\n",
            "R[write to console]: =\n",
            "R[write to console]: =\n",
            "R[write to console]: =\n",
            "R[write to console]: =\n",
            "R[write to console]: =\n",
            "R[write to console]: =\n",
            "R[write to console]: =\n",
            "R[write to console]: =\n",
            "R[write to console]: =\n",
            "R[write to console]: =\n",
            "R[write to console]: =\n",
            "R[write to console]: \n",
            "\n",
            "R[write to console]: downloaded 309 KB\n",
            "\n",
            "\n",
            "R[write to console]: trying URL 'https://cran.rstudio.com/src/contrib/quantmod_0.4.20.tar.gz'\n",
            "\n",
            "R[write to console]: Content type 'application/x-gzip'\n",
            "R[write to console]:  length 156640 bytes (152 KB)\n",
            "\n",
            "R[write to console]: =\n",
            "R[write to console]: =\n",
            "R[write to console]: =\n",
            "R[write to console]: =\n",
            "R[write to console]: =\n",
            "R[write to console]: =\n",
            "R[write to console]: =\n",
            "R[write to console]: =\n",
            "R[write to console]: =\n",
            "R[write to console]: =\n",
            "R[write to console]: =\n",
            "R[write to console]: =\n",
            "R[write to console]: =\n",
            "R[write to console]: =\n",
            "R[write to console]: =\n",
            "R[write to console]: =\n",
            "R[write to console]: =\n",
            "R[write to console]: =\n",
            "R[write to console]: =\n",
            "R[write to console]: =\n",
            "R[write to console]: =\n",
            "R[write to console]: =\n",
            "R[write to console]: =\n",
            "R[write to console]: =\n",
            "R[write to console]: =\n",
            "R[write to console]: =\n",
            "R[write to console]: =\n",
            "R[write to console]: =\n",
            "R[write to console]: =\n",
            "R[write to console]: =\n",
            "R[write to console]: =\n",
            "R[write to console]: =\n",
            "R[write to console]: =\n",
            "R[write to console]: =\n",
            "R[write to console]: =\n",
            "R[write to console]: =\n",
            "R[write to console]: =\n",
            "R[write to console]: =\n",
            "R[write to console]: =\n",
            "R[write to console]: =\n",
            "R[write to console]: =\n",
            "R[write to console]: =\n",
            "R[write to console]: =\n",
            "R[write to console]: =\n",
            "R[write to console]: =\n",
            "R[write to console]: =\n",
            "R[write to console]: =\n",
            "R[write to console]: =\n",
            "R[write to console]: =\n",
            "R[write to console]: =\n",
            "R[write to console]: \n",
            "\n",
            "R[write to console]: downloaded 152 KB\n",
            "\n",
            "\n",
            "R[write to console]: \n",
            "\n",
            "R[write to console]: \n",
            "R[write to console]: The downloaded source packages are in\n",
            "\t‘/tmp/Rtmpoh860n/downloaded_packages’\n",
            "R[write to console]: \n",
            "R[write to console]: \n",
            "\n",
            "R[write to console]: Loading required package: xts\n",
            "\n",
            "R[write to console]: Loading required package: zoo\n",
            "\n",
            "R[write to console]: \n",
            "Attaching package: ‘zoo’\n",
            "\n",
            "\n",
            "R[write to console]: The following objects are masked from ‘package:base’:\n",
            "\n",
            "    as.Date, as.Date.numeric\n",
            "\n",
            "\n",
            "R[write to console]: Loading required package: TTR\n",
            "\n",
            "R[write to console]: Registered S3 method overwritten by 'quantmod':\n",
            "  method            from\n",
            "  as.zoo.data.frame zoo \n",
            "\n",
            "R[write to console]: Installing package into ‘/usr/local/lib/R/site-library’\n",
            "(as ‘lib’ is unspecified)\n",
            "\n",
            "R[write to console]: trying URL 'https://cran.rstudio.com/src/contrib/data.table_1.14.2.tar.gz'\n",
            "\n",
            "R[write to console]: Content type 'application/x-gzip'\n",
            "R[write to console]:  length 5301817 bytes (5.1 MB)\n",
            "\n",
            "R[write to console]: =\n",
            "R[write to console]: =\n",
            "R[write to console]: =\n",
            "R[write to console]: =\n",
            "R[write to console]: =\n",
            "R[write to console]: =\n",
            "R[write to console]: =\n",
            "R[write to console]: =\n",
            "R[write to console]: =\n",
            "R[write to console]: =\n",
            "R[write to console]: =\n",
            "R[write to console]: =\n",
            "R[write to console]: =\n",
            "R[write to console]: =\n",
            "R[write to console]: =\n",
            "R[write to console]: =\n",
            "R[write to console]: =\n",
            "R[write to console]: =\n",
            "R[write to console]: =\n",
            "R[write to console]: =\n",
            "R[write to console]: =\n",
            "R[write to console]: =\n",
            "R[write to console]: =\n",
            "R[write to console]: =\n",
            "R[write to console]: =\n",
            "R[write to console]: =\n",
            "R[write to console]: =\n",
            "R[write to console]: =\n",
            "R[write to console]: =\n",
            "R[write to console]: =\n",
            "R[write to console]: =\n",
            "R[write to console]: =\n",
            "R[write to console]: =\n",
            "R[write to console]: =\n",
            "R[write to console]: =\n",
            "R[write to console]: =\n",
            "R[write to console]: =\n",
            "R[write to console]: =\n",
            "R[write to console]: =\n",
            "R[write to console]: =\n",
            "R[write to console]: =\n",
            "R[write to console]: =\n",
            "R[write to console]: =\n",
            "R[write to console]: =\n",
            "R[write to console]: =\n",
            "R[write to console]: =\n",
            "R[write to console]: =\n",
            "R[write to console]: =\n",
            "R[write to console]: =\n",
            "R[write to console]: =\n",
            "R[write to console]: \n",
            "\n",
            "R[write to console]: downloaded 5.1 MB\n",
            "\n",
            "\n",
            "R[write to console]: \n",
            "\n",
            "R[write to console]: \n",
            "R[write to console]: The downloaded source packages are in\n",
            "\t‘/tmp/Rtmpoh860n/downloaded_packages’\n",
            "R[write to console]: \n",
            "R[write to console]: \n",
            "\n",
            "R[write to console]: data.table 1.14.2 using 1 threads (see ?getDTthreads).  Latest news: r-datatable.com\n",
            "\n",
            "R[write to console]: \n",
            "Attaching package: ‘data.table’\n",
            "\n",
            "\n",
            "R[write to console]: The following objects are masked from ‘package:xts’:\n",
            "\n",
            "    first, last\n",
            "\n",
            "\n",
            "R[write to console]: Installing package into ‘/usr/local/lib/R/site-library’\n",
            "(as ‘lib’ is unspecified)\n",
            "\n",
            "R[write to console]: also installing the dependency ‘quadprog’\n",
            "\n",
            "\n",
            "R[write to console]: trying URL 'https://cran.rstudio.com/src/contrib/quadprog_1.5-8.tar.gz'\n",
            "\n",
            "R[write to console]: Content type 'application/x-gzip'\n",
            "R[write to console]:  length 36141 bytes (35 KB)\n",
            "\n",
            "R[write to console]: =\n",
            "R[write to console]: =\n",
            "R[write to console]: =\n",
            "R[write to console]: =\n",
            "R[write to console]: =\n",
            "R[write to console]: =\n",
            "R[write to console]: =\n",
            "R[write to console]: =\n",
            "R[write to console]: =\n",
            "R[write to console]: =\n",
            "R[write to console]: =\n",
            "R[write to console]: =\n",
            "R[write to console]: =\n",
            "R[write to console]: =\n",
            "R[write to console]: =\n",
            "R[write to console]: =\n",
            "R[write to console]: =\n",
            "R[write to console]: =\n",
            "R[write to console]: =\n",
            "R[write to console]: =\n",
            "R[write to console]: =\n",
            "R[write to console]: =\n",
            "R[write to console]: =\n",
            "R[write to console]: =\n",
            "R[write to console]: =\n",
            "R[write to console]: =\n",
            "R[write to console]: =\n",
            "R[write to console]: =\n",
            "R[write to console]: =\n",
            "R[write to console]: =\n",
            "R[write to console]: =\n",
            "R[write to console]: =\n",
            "R[write to console]: =\n",
            "R[write to console]: =\n",
            "R[write to console]: =\n",
            "R[write to console]: =\n",
            "R[write to console]: =\n",
            "R[write to console]: =\n",
            "R[write to console]: =\n",
            "R[write to console]: =\n",
            "R[write to console]: =\n",
            "R[write to console]: =\n",
            "R[write to console]: =\n",
            "R[write to console]: =\n",
            "R[write to console]: =\n",
            "R[write to console]: =\n",
            "R[write to console]: =\n",
            "R[write to console]: =\n",
            "R[write to console]: =\n",
            "R[write to console]: =\n",
            "R[write to console]: \n",
            "\n",
            "R[write to console]: downloaded 35 KB\n",
            "\n",
            "\n",
            "R[write to console]: trying URL 'https://cran.rstudio.com/src/contrib/PerformanceAnalytics_2.0.4.tar.gz'\n",
            "\n",
            "R[write to console]: Content type 'application/x-gzip'\n",
            "R[write to console]:  length 2455098 bytes (2.3 MB)\n",
            "\n",
            "R[write to console]: =\n",
            "R[write to console]: =\n",
            "R[write to console]: =\n",
            "R[write to console]: =\n",
            "R[write to console]: =\n",
            "R[write to console]: =\n",
            "R[write to console]: =\n",
            "R[write to console]: =\n",
            "R[write to console]: =\n",
            "R[write to console]: =\n",
            "R[write to console]: =\n",
            "R[write to console]: =\n",
            "R[write to console]: =\n",
            "R[write to console]: =\n",
            "R[write to console]: =\n",
            "R[write to console]: =\n",
            "R[write to console]: =\n",
            "R[write to console]: =\n",
            "R[write to console]: =\n",
            "R[write to console]: =\n",
            "R[write to console]: =\n",
            "R[write to console]: =\n",
            "R[write to console]: =\n",
            "R[write to console]: =\n",
            "R[write to console]: =\n",
            "R[write to console]: =\n",
            "R[write to console]: =\n",
            "R[write to console]: =\n",
            "R[write to console]: =\n",
            "R[write to console]: =\n",
            "R[write to console]: =\n",
            "R[write to console]: =\n",
            "R[write to console]: =\n",
            "R[write to console]: =\n",
            "R[write to console]: =\n",
            "R[write to console]: =\n",
            "R[write to console]: =\n",
            "R[write to console]: =\n",
            "R[write to console]: =\n",
            "R[write to console]: =\n",
            "R[write to console]: =\n",
            "R[write to console]: =\n",
            "R[write to console]: =\n",
            "R[write to console]: =\n",
            "R[write to console]: =\n",
            "R[write to console]: =\n",
            "R[write to console]: =\n",
            "R[write to console]: =\n",
            "R[write to console]: =\n",
            "R[write to console]: =\n",
            "R[write to console]: \n",
            "\n",
            "R[write to console]: downloaded 2.3 MB\n",
            "\n",
            "\n",
            "R[write to console]: \n",
            "\n",
            "R[write to console]: \n",
            "R[write to console]: The downloaded source packages are in\n",
            "\t‘/tmp/Rtmpoh860n/downloaded_packages’\n",
            "R[write to console]: \n",
            "R[write to console]: \n",
            "\n",
            "R[write to console]: \n",
            "Attaching package: ‘PerformanceAnalytics’\n",
            "\n",
            "\n",
            "R[write to console]: The following object is masked from ‘package:graphics’:\n",
            "\n",
            "    legend\n",
            "\n",
            "\n",
            "R[write to console]: Installing package into ‘/usr/local/lib/R/site-library’\n",
            "(as ‘lib’ is unspecified)\n",
            "\n",
            "R[write to console]: trying URL 'https://cran.rstudio.com/src/contrib/Deriv_4.1.3.tar.gz'\n",
            "\n",
            "R[write to console]: Content type 'application/x-gzip'\n",
            "R[write to console]:  length 37214 bytes (36 KB)\n",
            "\n",
            "R[write to console]: =\n",
            "R[write to console]: =\n",
            "R[write to console]: =\n",
            "R[write to console]: =\n",
            "R[write to console]: =\n",
            "R[write to console]: =\n",
            "R[write to console]: =\n",
            "R[write to console]: =\n",
            "R[write to console]: =\n",
            "R[write to console]: =\n",
            "R[write to console]: =\n",
            "R[write to console]: =\n",
            "R[write to console]: =\n",
            "R[write to console]: =\n",
            "R[write to console]: =\n",
            "R[write to console]: =\n",
            "R[write to console]: =\n",
            "R[write to console]: =\n",
            "R[write to console]: =\n",
            "R[write to console]: =\n",
            "R[write to console]: =\n",
            "R[write to console]: =\n",
            "R[write to console]: =\n",
            "R[write to console]: =\n",
            "R[write to console]: =\n",
            "R[write to console]: =\n",
            "R[write to console]: =\n",
            "R[write to console]: =\n",
            "R[write to console]: =\n",
            "R[write to console]: =\n",
            "R[write to console]: =\n",
            "R[write to console]: =\n",
            "R[write to console]: =\n",
            "R[write to console]: =\n",
            "R[write to console]: =\n",
            "R[write to console]: =\n",
            "R[write to console]: =\n",
            "R[write to console]: =\n",
            "R[write to console]: =\n",
            "R[write to console]: =\n",
            "R[write to console]: =\n",
            "R[write to console]: =\n",
            "R[write to console]: =\n",
            "R[write to console]: =\n",
            "R[write to console]: =\n",
            "R[write to console]: =\n",
            "R[write to console]: =\n",
            "R[write to console]: =\n",
            "R[write to console]: =\n",
            "R[write to console]: =\n",
            "R[write to console]: \n",
            "\n",
            "R[write to console]: downloaded 36 KB\n",
            "\n",
            "\n",
            "R[write to console]: \n",
            "\n",
            "R[write to console]: \n",
            "R[write to console]: The downloaded source packages are in\n",
            "\t‘/tmp/Rtmpoh860n/downloaded_packages’\n",
            "R[write to console]: \n",
            "R[write to console]: \n",
            "\n",
            "R[write to console]: \n",
            "Attaching package: ‘dplyr’\n",
            "\n",
            "\n",
            "R[write to console]: The following objects are masked from ‘package:data.table’:\n",
            "\n",
            "    between, first, last\n",
            "\n",
            "\n",
            "R[write to console]: The following objects are masked from ‘package:xts’:\n",
            "\n",
            "    first, last\n",
            "\n",
            "\n",
            "R[write to console]: The following objects are masked from ‘package:stats’:\n",
            "\n",
            "    filter, lag\n",
            "\n",
            "\n",
            "R[write to console]: The following objects are masked from ‘package:base’:\n",
            "\n",
            "    intersect, setdiff, setequal, union\n",
            "\n",
            "\n"
          ]
        }
      ]
    },
    {
      "cell_type": "code",
      "metadata": {
        "id": "Qw6AthHnXMx4"
      },
      "source": [
        "%%R\n",
        "#FUNCIÓN DE INTERPOLACIÓN ALAMBRADA\n",
        "\n",
        "talamb=function(nodos,curva,plazos) #función de interpolación de tasas por el método alamabrada\n",
        "{\n",
        "  n=max(ncol(plazos),1)\n",
        "  m=max(ncol(nodos),1)\n",
        "  TC=matrix(0,1,n)\n",
        "  TL=matrix(0,1,n)\n",
        "  TF=matrix(0,1,n)\n",
        "  for (j in 1:n)\n",
        "  {\n",
        "    i=1\n",
        "    repeat\n",
        "    {\n",
        "      if(nodos[i]<= plazos[j] && plazos[j] <=nodos[i+1])\n",
        "      {\n",
        "        TC[j]=curva[i]\n",
        "        TL[j]=curva[i+1]\n",
        "        TF[j]=((((1+TL[j]*nodos[i+1]/360)/(1+TC[j]*nodos[i]/360))^((plazos[j]-nodos[i])/(nodos[i+1]-nodos[i]))*(1+TC[j]*nodos[i]/360))-1)*360/plazos[j]\n",
        "        break\n",
        "      }\n",
        "      else if (plazos[j]<nodos[1])\n",
        "      {\n",
        "        TC[j]=curva[1]\n",
        "        TL[j]=curva[1]\n",
        "        TF[j]=curva[1]\n",
        "        break\n",
        "      }\n",
        "      else if (plazos[j]>nodos[m])\n",
        "      {\n",
        "        TC[j]=curva[m]\n",
        "        TL[j]=curva[m]\n",
        "        TF[j]=curva[m]\n",
        "        break\n",
        "      }\n",
        "      else\n",
        "      {i=i+1}\n",
        "    }\n",
        "  }\n",
        "  as.matrix(t(as.numeric(rbind(TF))))\n",
        "}\n",
        "\n",
        "\n",
        "#funciones necesarias\n",
        "diagv=function(x)\t\t\t#función para diagonalizar un vector\n",
        "{\n",
        "  n01=nrow(as.matrix(x))\n",
        "  m01=ncol(as.matrix(x))\n",
        "  dimmax=max(n01,m01)\n",
        "  res=matrix(0,dimmax,dimmax)\n",
        "  for (i in 1:dimmax)\n",
        "  {\n",
        "    res[i,i]=x[i]\n",
        "  }\n",
        "  res\n",
        "}\n",
        "\n",
        "#interpolación\n",
        "talamb=function(nodos,curva,plazos) #función de interpolación de tasas por el método alamabrada\n",
        "{\n",
        "  n=max(ncol(plazos),1)\n",
        "  m=max(ncol(nodos),1)\n",
        "  TC=matrix(0,1,n)\n",
        "  TL=matrix(0,1,n)\n",
        "  TF=matrix(0,1,n)\n",
        "  for (j in 1:n)\n",
        "  {\n",
        "    i=1\n",
        "    repeat\n",
        "    {\n",
        "      if(nodos[i]<= plazos[j] && plazos[j] <=nodos[i+1])\n",
        "      {\n",
        "        TC[j]=curva[i]\n",
        "        TL[j]=curva[i+1]\n",
        "        TF[j]=((((1+TL[j]*nodos[i+1]/360)/(1+TC[j]*nodos[i]/360))^((plazos[j]-nodos[i])/(nodos[i+1]-nodos[i]))*(1+TC[j]*nodos[i]/360))-1)*360/plazos[j]\n",
        "        break\n",
        "      }\n",
        "      else if (plazos[j]<nodos[1])\n",
        "      {\n",
        "        TC[j]=curva[1]\n",
        "        TL[j]=curva[1]\n",
        "        TF[j]=curva[1]\n",
        "        break\n",
        "      }\n",
        "      else if (plazos[j]>nodos[m])\n",
        "      {\n",
        "        TC[j]=curva[m]\n",
        "        TL[j]=curva[m]\n",
        "        TF[j]=curva[m]\n",
        "        break\n",
        "      }\n",
        "      else\n",
        "      {i=i+1}\n",
        "    }\n",
        "  }\n",
        "  as.matrix(t(as.numeric(rbind(TF))))\n",
        "}\n"
      ],
      "execution_count": 3,
      "outputs": []
    },
    {
      "cell_type": "markdown",
      "metadata": {
        "id": "hdBgOc9db2vM"
      },
      "source": [
        "# Definición de parámetros para valorar:\n"
      ]
    },
    {
      "cell_type": "markdown",
      "metadata": {
        "id": "bZvhy8zdccGi"
      },
      "source": [
        "Cargamos parámetros para valoración:"
      ]
    },
    {
      "cell_type": "code",
      "metadata": {
        "id": "9xQDSuPQRWMH"
      },
      "source": [
        "%%R\n",
        "fval=as.Date(\"20220331\",format=\"%Y%m%d\")#Fecha de valoración\n",
        "itpl=0 #poner 0 si se quiere interpolación lineal o 1 si se quiere tasa alambrada\n",
        "alpha=0.98 #Nivel de confianza para obtener estimaciones de riesgo\n",
        "\n",
        "#ACCIONES Y DIVISAS\n",
        "#Cargar los símbolos de yahoo finance para EQ\n",
        "Symbols<-c  (\"AMXL.MX\", \"GCARSOA1.MX\", \"WALMEX.MX\" )#tienen que ir en orden alfabético\n",
        "pos_eq=c(-5000,1000,1200) #monto inicial invertido en acciones\n",
        "\n",
        "#Cargar los símbolos de yahoo finance para FX\n",
        "SymbolsFX<-c(\"EURUSD=X\",\"GBPUSD=X\",\"USDMXN=X\" ) #tienen que ir en orden alfabético\n",
        "pos_fx=c(700,-600,1500) #monto inicial invertido en divisas\n",
        "\n",
        "#CETES\n",
        "base=\"RiesgosFinancieros/2022-2/Tarea/tasa_guber.txt\"\n",
        "plazos_bcc= cbind(180)\n",
        "contratos_bcc= cbind(150)\n",
        "nominal_bcc= 10 \n",
        "\n",
        "#BONOS M\n",
        "btasadesc_bm=\"RiesgosFinancieros/2022-2/Tarea/tasa_yield.txt\"\n",
        "tfcupon_bm=cbind(0.065) #Tasa fija del cupón\n",
        "plazos_bm=cbind(3600) #Vencimiento del bono\n",
        "plazocupon_bm=cbind(182) #plazos fijos de cada cupón\n",
        "contratos_bm=cbind(10) #posición invertida\n",
        "nominal_bm=100\n",
        "\n",
        "#BONDES D\n",
        "btasadescst=\"RiesgosFinancieros/2022-2/Tarea/tasa_guber_st.txt\"\n",
        "btasafondeo=\"RiesgosFinancieros/2022-2/Tarea/tfondeo.txt\"\n",
        "plazos_bdm=cbind(707) #Vencimiento del bono\n",
        "plazocupon_bdm=cbind(28) #plazos_bdm fijos de cada cupón\n",
        "contratos_bdm=cbind(-1000) #posición invertida\n",
        "nominal_bdm=100\n",
        "\n",
        "#FUTUROS TDC\n",
        "bext=\"RiesgosFinancieros/2022-2/Tarea/tasa_libor.txt\"\n",
        "bdom=\"RiesgosFinancieros/2022-2/Tarea/tasa_fwd.txt\"\n",
        "SymbolsFX_ftdc<-cbind(\"USDMXN=X\", \"GBPUSD=X\" ) \n",
        "plazos_fwd=cbind(5)\n",
        "contratos_fwd=cbind(100)\n",
        "kst_fwd=cbind(20.83)\n",
        "nominal_fwd=1\n",
        "yext=1 #1 si se carga información de yahoo en la fecha definida por fval o SymbolsFX, en caso contrario se utiliza información que se tendrá que cargar de tasas_spot.txt\n",
        "trlib=1 #1 si la curva libor viene a 182 0 si no.\n",
        "\n",
        "#FUTUROS DE IPC\n",
        "#Descontamos con gubernamental\n",
        "base=\"RiesgosFinancieros/2022-2/Tarea/tasa_guber.txt\"\n",
        "SymbolsEQ_find<-c(\"^MXX\",  \"GCARSOA1.MX\") \n",
        "plazos_fwd_ind=cbind(53)\n",
        "contratos_fwd_ind=cbind(50)\n",
        "kst_fwd_ind=c(49525)\n",
        "nominal_fwd_ind=1\n",
        "\n",
        "#SWAP \n",
        "btasadesc_sw=\"RiesgosFinancieros/2022-2/Tarea/tasa_TIIE_SW_OP.txt\"\n",
        "btasacupvar_sw=\"RiesgosFinancieros/2022-2/Tarea/tasa_DIRS_SW_OP.txt\"\n",
        "tasafija_sw= cbind(0.06,0.059) #se establece la tasa fija a pagar para cada swap\n",
        "plazos_sw= cbind(588,270) #se establece el número de días que vivirá el swap\n",
        "plazocupon_sw= cbind(28,28)#se establece el número de días que se pagará cada cupón\n",
        "contratos_sw= cbind(16000000,-12000000) #se establece el número de contratos_sw de cada swap\n",
        "nominal_sw= cbind(1,1) #se establece el nominal_sw de cada swap\n",
        "por_sw=cbind(0,1) #se establece 0 si se paga tasa fija y 1 si se paga tasa variable\n",
        "\n",
        "#OPCIONES \n",
        "btasadesc_oir=\"RiesgosFinancieros/2022-2/Tarea/tasa_TIIE_SW_OP.txt\"\n",
        "btasaspot_oir=\"RiesgosFinancieros/2022-2/Tarea/tasa_DIRS_SW_OP.txt\"\n",
        "bvolspot_oir=\"RiesgosFinancieros/2022-2/Tarea/tvoltiie_opc.txt\"\n",
        "plazos_oir=cbind(1700, 700) #T-t\n",
        "pr_oir=28 #plazo de referencia  \n",
        "dct_oir=360 #d_base\n",
        "cp_oir=cbind(1,0) #si es call (cap) o put (floor)\n",
        "K_oir=cbind(0.058,0.06)\n",
        "contratos_oir=cbind(1000,500)\n",
        "nominal_oir=1\n",
        "cs_oir=1 #1 si es continua la tasa 0 si es simple"
      ],
      "execution_count": 4,
      "outputs": []
    },
    {
      "cell_type": "markdown",
      "metadata": {
        "id": "wYq9vgjOcix0"
      },
      "source": [
        "# Carga de datos"
      ]
    },
    {
      "cell_type": "code",
      "source": [
        "%%R\n",
        "#ACCIONES\n",
        "pos=cbind(t(pos_fx),t(pos_eq))\n",
        "\n",
        "#Creación del objeto para guardar los datos\n",
        "dataEnv<-new.env()\n",
        "dataEnvFX<-new.env()\n",
        "\n",
        "#obtener los datos\n",
        "getSymbols.yahoo(Symbols,env=dataEnv,to=fval)\n",
        "getSymbols.yahoo(SymbolsFX,env=dataEnvFX,to=fval)\n",
        "\n",
        "#limpiarlos, alinearnos y quedarnos con el precio de cierre \n",
        "bt.prep(dataEnv,align='remove.na',fill.gaps = T)\n",
        "bt.prep(dataEnvFX,align='remove.na',fill.gaps=T)\n",
        "#muestra de datos\n",
        "#head(dataEnv$prices)\n",
        "#head(dataEnvFX$prices)\n",
        "\n",
        "#Nos quedamos con los precios de cierre\n",
        "stock_prices = dataEnv$prices\n",
        "stock_pricesFX=dataEnvFX$prices\n",
        "\n",
        "#cambiar todo a pesos mexicanos\n",
        "stock_pricesFX=cbind(stock_pricesFX[,1,with=F]*stock_pricesFX[,3,with=F],stock_pricesFX[,2,with=F]*stock_pricesFX[,3,with=F],stock_pricesFX[,3,with=F])\n",
        "stock_prices_EQFX=merge(stock_pricesFX,stock_prices,join = \"inner\")\n",
        "\n",
        "#Precios actuales\n",
        "x0=stock_prices_EQFX[nrow(stock_prices_EQFX),]\n",
        "#x0\n",
        "\n",
        "aux2=data.table(Date=as.Date(index(stock_prices_EQFX)),coredata(stock_prices_EQFX))"
      ],
      "metadata": {
        "id": "0YK1O-7Qa2Mp"
      },
      "execution_count": 5,
      "outputs": []
    },
    {
      "cell_type": "code",
      "source": [
        "%%R\n",
        "#CETES \n",
        "\n",
        "data<-read.table(base)\n",
        "n<-nrow(data)\n",
        "m_gov=ncol(data)\n",
        "\n",
        "#x_orig_gov=data.frame(data[2:n,1:m_gov])\n",
        "\n",
        "x_orig_gov=as.data.table(mutate(data[2:n,1:m_gov],Date=as.Date(V1,format=\"%Y%m%d\")))\n",
        "x_orig_gov=x_orig_gov%>%select(-V1)\n",
        "\n",
        "nodos_gov=data.frame(data[1,2:m_gov])"
      ],
      "metadata": {
        "id": "beW4Hv9ha-Gp"
      },
      "execution_count": 6,
      "outputs": []
    },
    {
      "cell_type": "code",
      "source": [
        "%%R\n",
        "#BONO M\n",
        "#carga de tasas de descuento\n",
        "\n",
        "data1<-read.table(btasadesc_bm)\n",
        "n<-nrow(data1)\n",
        "m_tybm=ncol(data1)\n",
        "X_orig_tybm=as.data.table(mutate(data1[2:n,1:m_tybm],Date=as.Date(V1,format=\"%Y%m%d\")))\n",
        "X_orig_tybm=X_orig_tybm%>%select(-V1)\n",
        "nodos_tybm=data.frame(data1[1,2:m_tybm])"
      ],
      "metadata": {
        "id": "HQFBjqE9cTnG"
      },
      "execution_count": 7,
      "outputs": []
    },
    {
      "cell_type": "code",
      "source": [
        "%%R\n",
        "#BONDE D\n",
        "#carga de datos\n",
        "#carga de tasas de descuento\n",
        "data1<-read.table(base)\n",
        "n<-nrow(data1)\n",
        "m_bd=ncol(data1)\n",
        "##X_orig_bd=as.data.table(mutate(data1[2:n,1:m_tybm],Date=as.Date(V1,format=\"%Y%m%d\")))\n",
        "#X_orig_bd%>%select(-V1)\n",
        "\n",
        "X1_orig=mutate(data.frame(data1[2:n,1:m_bd]), V1=as.Date(V1,format=\"%Y%m%d\"))\n",
        "#nodos=data.frame(data1[1,2:m_bd])\n",
        "n=n-1\n",
        "\n",
        "data3<-read.table(btasadescst)\n",
        "n3<-nrow(data3)\n",
        "m3_bd=ncol(data3)\n",
        "X3_orig_bd=as.data.table(mutate(data3[2:n,1:m3_bd],Date=as.Date(V1,format=\"%Y%m%d\")))\n",
        "X3_orig_bd=X3_orig_bd%>%select(-V1)\n",
        "\n",
        "X3a_orig=mutate(data.frame(data1[2:n,1:m_bd]), V1=as.Date(V1,format=\"%Y%m%d\"))\n",
        "nodos3_bd=data.frame(data3[1,2:m3_bd])\n",
        "n3=n3-1\n",
        "\n",
        "data2<-read.table(btasafondeo)\n",
        "n2<-nrow(data2)\n",
        "X2_orig_bd=data.frame(data2[2:n2,1:2])\n",
        "\n",
        "X2_orig_bd=mutate(X2_orig_bd, V1=as.Date(V1,format=\"%Y%m%d\"), Date=as.Date(V1,format=\"%Y%m%d\"), V2=as.numeric(as.character(V2)))\n",
        "tfh=seq(min(X2_orig_bd$V1), max(X2_orig_bd$V1), \"days\") #sucesión de dias para tasa fondeo\n",
        "tfhd=data.frame(ID=1:count(tfh),fecha=tfh)\n",
        "\n",
        "#Cruzar la sucesión de todos los días versus el de tasa de fondeo\n",
        "tfhd=setDT(tfhd)[, Date := tfh][order(-Date)]\n",
        "X2_orig_bd=setDT(X2_orig_bd)[, Date := V1][order(-Date)]\n",
        "# rolling join unión por rolling, rellena las fechas que faltaban con el último valor conocido \"roll=Inf\"\n",
        "X2_orig_bd=X2_orig_bd[tfhd, on = .(Date), roll = Inf] \n",
        "\n",
        "#buscar fecha de valuación en tfondeo\n",
        "tf_act=X2_orig_bd[fecha==fval,]$V2/100\n",
        "tf_int=X2_orig_bd[fecha<=fval & fecha>=(fval-plazocupon_bdm[1])]$V2/100\n",
        "\n",
        "X1_orig=setDT(X1_orig)[, Date:= V1][order(-Date)] #Para alinear con valor presente y tasa de fondeo."
      ],
      "metadata": {
        "id": "l9L1nyxDcbSP"
      },
      "execution_count": 8,
      "outputs": []
    },
    {
      "cell_type": "code",
      "source": [
        "%%R\n",
        "#SWAP\n",
        "data1<-read.table(btasadesc_sw)\n",
        "n1<-nrow(data1)\n",
        "m1_orig_sw=ncol(data1)\n",
        "X1_orig_sw=data.table(mutate(data1[2:n1,1:m1_orig_sw],Date=as.Date(V1,format=\"%Y%m%d\")))\n",
        "X1_orig_sw=X1_orig_sw%>%select(-V1)\n",
        "nodos1_sw=data.frame(data1[1,2:m1_orig_sw])\n",
        "  \n",
        "data2<-read.table(btasacupvar_sw)\n",
        "n2<-nrow(data2)\n",
        "m2_orig_sw=ncol(data2)\n",
        "X2_orig_sw=data.table(mutate(data2[2:n1,1:m1_orig_sw],Date=as.Date(V1,format=\"%Y%m%d\")))\n",
        "X2_orig_sw=X2_orig_sw%>%select(-V1)\n",
        "nodos2_sw=data.frame(data2[1,2:m2_orig_sw])"
      ],
      "metadata": {
        "id": "XQ20Tcirc4Mn"
      },
      "execution_count": 9,
      "outputs": []
    },
    {
      "cell_type": "code",
      "source": [
        "%%R\n",
        "  #CARGA DE DATOS PARA OPCIONES DE TASA DE INTERÉS\n",
        "  #carga de datos\n",
        "  #carga de rho\t\n",
        "  data1<-read.table(btasadesc_oir) \n",
        "  n<-nrow(data1)\n",
        "  m1_orig_oir=ncol(data1)\n",
        "  x1_orig_oir=data.table(mutate(data1[2:n,1:m1_orig_oir],Date=as.Date(V1,format=\"%Y%m%d\")))\n",
        "  x1_orig_oir=x1_orig_oir%>%select(-V1)\n",
        "  nodos1_oir=data.frame(data1[1,2:m1_orig_oir])\n",
        "\n",
        "  #carga de tasas spot\n",
        "  data2<-read.table(btasaspot_oir)\n",
        "  n<-nrow(data2)\n",
        "  m2_orig_oir=ncol(data2)\n",
        "  x2_orig_oir=data.table(mutate(data2[2:n,1:m2_orig_oir],Date=as.Date(V1,format=\"%Y%m%d\")))\n",
        "  x2_orig_oir=x2_orig_oir%>%select(-V1)\n",
        "  nodos2_oir=data.frame(data2[1,2:m2_orig_oir])\n",
        "  #carga de volatilidades de spot\n",
        "  data3<-read.table(bvolspot_oir)\n",
        "  n<-nrow(data3)\n",
        "  m3_orig_oir=ncol(data3)\n",
        "  x3_orig_oir=data.table(mutate(data3[2:n,1:m3_orig_oir],Date=as.Date(V1,format=\"%Y%m%d\")))\n",
        "  x3_orig_oir=x3_orig_oir%>%select(-V1)\n",
        "  \n",
        "  nodos3_oir=data.frame(data3[1,2:m3_orig_oir])"
      ],
      "metadata": {
        "id": "udyuox2Kc8qF"
      },
      "execution_count": 10,
      "outputs": []
    },
    {
      "cell_type": "code",
      "source": [
        "%%R\n",
        "#FORWARDS DE TDC\n",
        "\n",
        "data1<-read.table(bext)\n",
        "data2<-read.table(bdom)\n",
        "\n",
        "##minimos para parametrizar\n",
        "n1=nrow(data1)\n",
        "n2=nrow(data2)\n",
        "m1_ftdc=ncol(data1)\n",
        "m2_ftdc=ncol(data2)\n",
        "n=min(n1,n2)-1\n",
        "#NODOS\n",
        "nodos1_ftdc=data.frame(data1[1,2:m1_ftdc])\n",
        "nodos2_ftdc=data.frame(data2[1,2:m2_ftdc])\n",
        "####MATRICES DEL MISMO TAMAÑO MENOS DOLAR\n",
        "\n",
        "x1_ftdc=as.data.table(mutate(data1[2:n,1:m1_ftdc],Date=as.Date(V1,format=\"%Y%m%d\")))\n",
        "\n",
        "x1_ftdc=x1_ftdc%>%select(-V1)\n",
        "x2_ftdc=as.data.table(mutate(data2[2:n,1:m2_ftdc],Date=as.Date(V1,format=\"%Y%m%d\")))\n",
        "x2_ftdc=x2_ftdc%>%select(-V1)\n",
        "\n",
        "###Para Dolar\n",
        "\n",
        "if (yext==1)\n",
        "{\n",
        "\n",
        "#Creación del objeto para guardar los datos\n",
        "  dataEnvFX_ftdc<-new.env()\n",
        "  \n",
        "#obtener los datos\n",
        "  getSymbols.yahoo(SymbolsFX_ftdc,env=dataEnvFX_ftdc, to=fval)\n",
        "#limpiarlos, alinearnos y quedarnos con el precio de cierre \n",
        "  bt.prep(dataEnvFX_ftdc,align='remove.na',fill.gaps=T)\n",
        "  \n",
        "#Nos quedamos con los precios\n",
        "  X3_ftdc=data.table(Date=as.Date(index(dataEnvFX_ftdc$prices[,2])),coredata(dataEnvFX_ftdc$prices[,2]))\n",
        "} else  \n",
        "{ \n",
        "data3<-read.table(btsp)\n",
        "n3<-nrow(data3)\n",
        "m3<-ncol(data3)\n",
        "X3=data.table(as.matrix(as.double(as.matrix(data3[2:(n+1),m3]))))\n",
        "X3_find=as.data.table(mutate(data3[2:(n+1),1:m3],Date=as.Date(V1,format=\"%Y%m%d\")))\n",
        "}"
      ],
      "metadata": {
        "id": "EZOTWmTPc-uR"
      },
      "execution_count": 11,
      "outputs": []
    },
    {
      "cell_type": "code",
      "source": [
        "%%R\n",
        "#FORWARD DE IPC\n",
        "\n",
        "data<-read.table(base)\n",
        "n<-nrow(data)\n",
        "m_gov=ncol(data)\n",
        "x_orig_gov=as.data.table(mutate(data[2:n,1:m_gov],Date=as.Date(V1,format=\"%Y%m%d\")))\n",
        "x_orig_gov=x_orig_gov%>%select(-V1)\n",
        "nodos_gov=data.frame(data[1,2:m_gov])\n",
        "  \n",
        "  #Creación del objeto para guardar los datos\n",
        "  dataEnvEQ<-new.env()\n",
        "  \n",
        "  #obtener los datos\n",
        "  getSymbols.yahoo(SymbolsEQ_find,env=dataEnvEQ, to=fval)\n",
        "  #limpiarlos, alinearnos y quedarnos con el precio de cierre \n",
        "  bt.prep(dataEnvEQ,align='remove.na',fill.gaps=T)\n",
        "  \n",
        "  #Nos quedamos con los precios\n",
        "  X3_find=data.table(Date=as.Date(index(dataEnvEQ$prices[,2])),coredata(dataEnvEQ$prices[,2]))"
      ],
      "metadata": {
        "id": "P8FWoiXedBea"
      },
      "execution_count": 12,
      "outputs": []
    },
    {
      "cell_type": "markdown",
      "metadata": {
        "id": "re1W63Xxcqk6"
      },
      "source": [
        "# Integración de Insumos"
      ]
    },
    {
      "cell_type": "markdown",
      "metadata": {
        "id": "dFkiz2PAcuD7"
      },
      "source": [
        "Aseguramiento de que todos los factores de riesgo estén alineados en sus fechas, nos quedamos con la intersección. Posteriormente, filtramos cada histórico factor de riesgo hacia esta intersección de todos."
      ]
    },
    {
      "cell_type": "code",
      "metadata": {
        "id": "TfZnjpRrRWMW",
        "colab": {
          "base_uri": "https://localhost:8080/"
        },
        "outputId": "1a640b5c-b9e4-4aa8-eb60-760dfb4360f9"
      },
      "source": [
        "%%R\n",
        "#INTERSECCIÓN DE FECHAS DE TODOS LOS INSUMOS    \n",
        "  \n",
        "lin_gub=data.table(Date=as.Date(aux2[x_orig_gov,on=.(Date),nomatch=0]$Date)) #Fechas acciones, equity y guber\n",
        "lin_gub=unique(lin_gub)\n",
        "lin_gub_bmy=data.table(Date=as.Date(lin_gub[X_orig_tybm,on=.(Date),nomatch=0]$Date)) #Fechas acciones, equity y guber, con bonos M\n",
        "lin_gub_bmy=unique(lin_gub_bmy)\n",
        "lin_gub_bmybdst=data.table(Date=as.Date(lin_gub_bmy[X3_orig_bd,on=.(Date),nomatch=0]$Date)) #Fechas acciones, equity, guber y st (bonde)\n",
        "lin_gub_bmybdst=unique(lin_gub_bmybdst)\n",
        "lin_gub_bmybdst_flib=data.table(Date=as.Date(lin_gub_bmybdst[x1_ftdc,on=.(Date),nomatch=0]$Date)) #Fechas acciones, equity, guber, st (bonde), libor\n",
        "lin_gub_bmybdst_flib=unique(lin_gub_bmybdst_flib)\n",
        "lin_gub_bmybdst_flibfwd=data.table(Date=as.Date(lin_gub_bmybdst_flib[x2_ftdc,on=.(Date),nomatch=0]$Date)) #Fechas acciones, equity, guber, st (bonde), libor, fwd\n",
        "lin_gub_bmybdst_flibfwd=unique(lin_gub_bmybdst_flibfwd)\n",
        "lin_gub_bmybdst_flibfwdsp=data.table(Date=as.Date(lin_gub_bmybdst_flibfwd[X3_ftdc,on=.(Date),nomatch=0]$Date)) #Fechas acciones, equity, guber, st (bonde), libor, fwd, spot\n",
        "lin_gub_bmybdst_flibfwdsp=unique(lin_gub_bmybdst_flibfwdsp)\n",
        "lin_gub_bmybdst_flibfwdspind=data.table(Date=as.Date(lin_gub_bmybdst_flibfwdsp[X3_find,on=.(Date),nomatch=0]$Date)) #Fechas acciones, equity, guber, st (bonde), libor, fwd, spot, equity or index \n",
        "lin_gub_bmybdst_flibfwdspind=unique(lin_gub_bmybdst_flibfwdspind)\n",
        "lin_gub_bmybdst_flibfwdspind_swcup=data.table(Date=as.Date(lin_gub_bmybdst_flibfwdspind[X1_orig_sw,on=.(Date),nomatch=0]$Date)) #Fechas acciones, equity, guber, st (bonde), libor, fwd, spot, equity or index, swap cupón\n",
        "lin_gub_bmybdst_flibfwdspind_swcup=unique(lin_gub_bmybdst_flibfwdspind_swcup)\n",
        "lin_gub_bmybdst_flibfwdspind_swcupvp=data.table(Date=as.Date(lin_gub_bmybdst_flibfwdspind_swcup[X2_orig_sw,on=.(Date),nomatch=0]$Date)) #Fechas acciones, equity, guber, st (bonde), libor, fwd, spot, equity or index, swap cupón\n",
        "lin_gub_bmybdst_flibfwdspind_swcupvp=unique(lin_gub_bmybdst_flibfwdspind_swcupvp)\n",
        "lin_gub_bmybdst_flibfwdspind_swcupvp_oirs=data.table(Date=as.Date(lin_gub_bmybdst_flibfwdspind_swcupvp[x1_orig_oir,on=.(Date),nomatch=0]$Date)) #Fechas acciones, equity, guber, st (bonde), libor, fwd, spot, equity or index, swap cupón, opciones ir spot\n",
        "lin_gub_bmybdst_flibfwdspind_swcupvp_oirs=unique(lin_gub_bmybdst_flibfwdspind_swcupvp_oirs)\n",
        "lin_gub_bmybdst_flibfwdspind_swcupvp_oirsvp=data.table(Date=as.Date(lin_gub_bmybdst_flibfwdspind_swcupvp_oirs[x2_orig_oir,on=.(Date),nomatch=0]$Date)) #Fechas acciones, equity, guber, st (bonde), libor, fwd, spot, equity or index, swap cupón, opciones ir spot, opc ir vp\n",
        "lin_gub_bmybdst_flibfwdspind_swcupvp_oirsvp=unique(lin_gub_bmybdst_flibfwdspind_swcupvp_oirsvp)\n",
        "lin_gub_bmybdst_flibfwdspind_swcupvp_oirsvpvol=data.table(Date=as.Date(lin_gub_bmybdst_flibfwdspind_swcupvp_oirsvp[x3_orig_oir,on=.(Date),nomatch=0]$Date)) #Fechas acciones, equity, guber, st (bonde), libor, fwd, spot, equity or index, swap cupón, opciones ir spot, opc ir vp, opc ir vol\n",
        "lin_gub_bmybdst_flibfwdspind_swcupvp_oirsvpvol=unique(lin_gub_bmybdst_flibfwdspind_swcupvp_oirsvpvol)\n",
        "\n",
        "n=nrow(lin_gub_bmybdst_flibfwdspind_swcupvp_oirsvpvol) #Historia de todos\n",
        "print(n)\n",
        "\n",
        "#historia de acciones y divisas\n",
        "stock_prices_EQFX=lin_gub_bmybdst_flibfwdspind_swcupvp_oirsvpvol[aux2,on=.(Date),nomatch=0][order(-Date)]\n",
        "stock_prices_EQFX=stock_prices_EQFX%>%select(-Date)\n",
        "\n",
        "#historia de curva gubernamental\n",
        "x_orig_gov=lin_gub_bmybdst_flibfwdspind_swcupvp_oirsvpvol[x_orig_gov,on=.(Date),nomatch=0][order(-Date)]\n",
        "x_orig_gov=x_orig_gov%>%select(-Date)\n",
        "\n",
        "#historia de curva yield\n",
        "X_orig_tybm=lin_gub_bmybdst_flibfwdspind_swcupvp_oirsvpvol[X_orig_tybm,on=.(Date),nomatch=0][order(-Date)]\n",
        "X_orig_tybm=X_orig_tybm%>%select(-Date)\n",
        "\n",
        "\n",
        "#Historia de curvas de bonde\n",
        "#CONSIDERAR LA CURVA GUBERNAMENTAL X1_ORIG_GOV\n",
        "X3_orig_bd=lin_gub_bmybdst_flibfwdspind_swcupvp_oirsvpvol[X3_orig_bd,on=.(Date),nomatch=0][order(-Date)]\n",
        "X3_orig_bd=X3_orig_bd%>%select(-Date)\n",
        "\n",
        "#historia de curvas de forward tdc\n",
        "x1_ftdc=lin_gub_bmybdst_flibfwdspind_swcupvp_oirsvpvol[x1_ftdc,on=.(Date),nomatch=0][order(-Date)]\n",
        "x1_ftdc=x1_ftdc%>%select(-Date)/100\n",
        "x2_ftdc=lin_gub_bmybdst_flibfwdspind_swcupvp_oirsvpvol[x2_ftdc,on=.(Date),nomatch=0][order(-Date)]\n",
        "x2_ftdc=x2_ftdc%>%select(-Date)/100\n",
        "X3_ftdc=lin_gub_bmybdst_flibfwdspind_swcupvp_oirsvpvol[X3_ftdc,on=.(Date),nomatch=0][order(-Date)]\n",
        "X3_ftdc=X3_ftdc%>%select(-Date)\n",
        "\n",
        "#historia de curvas de forward ind\n",
        "#CONSIDERAR LA CURVA GUBERNAMENTAL X1_ORIG_GOV\n",
        "X3_find=lin_gub_bmybdst_flibfwdspind_swcupvp_oirsvpvol[X3_find,on=.(Date),nomatch=0][order(-Date)]\n",
        "X3_find=X3_find%>%select(-Date)\n",
        "\n",
        "#historia de swaps\n",
        "X1_orig_sw=lin_gub_bmybdst_flibfwdspind_swcupvp_oirsvpvol[X1_orig_sw,on=.(Date),nomatch=0][order(-Date)]\n",
        "X1_orig_sw=X1_orig_sw%>%select(-Date)/100\n",
        "X2_orig_sw=lin_gub_bmybdst_flibfwdspind_swcupvp_oirsvpvol[X2_orig_sw,on=.(Date),nomatch=0][order(-Date)]\n",
        "X2_orig_sw=X2_orig_sw%>%select(-Date)/100\n",
        "\n",
        "#historia de opciones\n",
        "x1_orig_oir=lin_gub_bmybdst_flibfwdspind_swcupvp_oirsvpvol[x1_orig_oir,on=.(Date),nomatch=0][order(-Date)]\n",
        "x1_orig_oir=x1_orig_oir%>%select(-Date)/100\n",
        "x2_orig_oir=lin_gub_bmybdst_flibfwdspind_swcupvp_oirsvpvol[x2_orig_oir,on=.(Date),nomatch=0][order(-Date)]\n",
        "x2_orig_oir=x2_orig_oir%>%select(-Date)/100\n",
        "x3_orig_oir=lin_gub_bmybdst_flibfwdspind_swcupvp_oirsvpvol[x3_orig_oir,on=.(Date),nomatch=0][order(-Date)]\n",
        "x3_orig_oir=x3_orig_oir%>%select(-Date)\n"
      ],
      "execution_count": 13,
      "outputs": [
        {
          "output_type": "stream",
          "name": "stdout",
          "text": [
            "[1] 253\n"
          ]
        }
      ]
    },
    {
      "cell_type": "markdown",
      "metadata": {
        "id": "-jBoCn2Wcykt"
      },
      "source": [
        "# Pasos para medir el riesgo por el método de Simulación Monte Carlo"
      ]
    },
    {
      "cell_type": "markdown",
      "metadata": {
        "id": "Bz4Qmyb-cz5p"
      },
      "source": [
        "Para todos los instrumentos hay que definir y calcular los siguientes elementos:\n",
        "1.   Historico de factores de riesgo\n",
        "2.   Vector de precios actual\n",
        "3.   Valoración al día actual"
      ]
    },
    {
      "cell_type": "markdown",
      "metadata": {
        "id": "wAQ_eiVhv2Wv"
      },
      "source": [
        "## Acciones y Divisas\n",
        "\n"
      ]
    },
    {
      "cell_type": "code",
      "metadata": {
        "id": "EFy_Mrcqv7-J",
        "colab": {
          "base_uri": "https://localhost:8080/"
        },
        "outputId": "11ecdc89-025b-4667-a09d-19c7af507644"
      },
      "source": [
        "%%R\n",
        "#divisas y acciones CÁLCULO\n",
        "\n",
        "x0_acc_div=stock_prices_EQFX[1,]\n",
        "V0_acc_div=cbind(t(pos_fx),t(pos_eq))*x0_acc_div\n",
        "m_fx=length(pos_fx)\n",
        "m_acc=length(pos_eq)\n",
        "#Valor actual\n",
        "V0_acc_div"
      ],
      "execution_count": 14,
      "outputs": [
        {
          "output_type": "stream",
          "name": "stdout",
          "text": [
            "   EURUSD.X  GBPUSD.X USDMXN.X AMXL.MX GCARSOA1.MX WALMEX.MX\n",
            "1: 15501.42 -15685.53  29948.4 -103750       73530     96408\n"
          ]
        }
      ]
    },
    {
      "cell_type": "markdown",
      "metadata": {
        "id": "IgL8hl1ov-wQ"
      },
      "source": [
        "## CETES"
      ]
    },
    {
      "cell_type": "code",
      "metadata": {
        "id": "YPZcieXVv9pe",
        "colab": {
          "base_uri": "https://localhost:8080/"
        },
        "outputId": "1463a5e0-ac12-4bda-8b87-679cd2eec085"
      },
      "source": [
        "%%R\n",
        "\n",
        "#CETE CÁLCULO\n",
        "#paso para interpolar las tasas\n",
        "m=ncol(plazos_bcc)\n",
        "x_bcc=matrix(0,n,m)\n",
        "for (i in 1:(n))\n",
        "{\n",
        "  #x[i,]=approx(nodos_gov,x_orig_gov[i,],plazos_bcc)$y\n",
        "  x_bcc[i,]=if(itpl==0){approx(nodos_gov,x_orig_gov[i,],plazos_bcc,rule=2)$y}else{talamb(nodos_gov,x_orig_gov[i,],plazos_bcc)}\n",
        "}\n",
        "\n",
        "x0_bcc=x_bcc[1,]\n",
        "\n",
        "#función\n",
        "bonocupcero = function(i,t)\n",
        "{\n",
        "  1/(1+i*t/360)\n",
        "}\n",
        "\n",
        "V0_bcc=bonocupcero(x0_bcc,plazos_bcc)*contratos_bcc*nominal_bcc #Valor actual de cada bono\n",
        "\n",
        "VT0_bcc=sum(V0_bcc) #Valor total del portafolio al tiempo 0\n",
        "VT0_bcc"
      ],
      "execution_count": 15,
      "outputs": [
        {
          "output_type": "stream",
          "name": "stdout",
          "text": [
            "[1] 1442.687\n"
          ]
        }
      ]
    },
    {
      "cell_type": "markdown",
      "metadata": {
        "id": "NY1bOb7BwKwQ"
      },
      "source": [
        "## Bonos M"
      ]
    },
    {
      "cell_type": "code",
      "metadata": {
        "id": "4u7Wqr06wMsX",
        "colab": {
          "base_uri": "https://localhost:8080/"
        },
        "outputId": "062548c3-9b5b-486b-beff-ea1e79b43569"
      },
      "source": [
        "%%R\n",
        "#BONO M  CÁLCULO\n",
        "#Posición inicial\n",
        "#interpolación de tasas y volatilidades\n",
        "m=ncol(plazos_bm)\n",
        "X_bm=matrix(0,n,m)\n",
        "for (i in 1:(n))\n",
        "{\n",
        "  X_bm[i,]=if(itpl==0){approx(nodos_tybm,X_orig_tybm[i,],plazos_bm,rule=2)$y}else{talamb(nodos_tybm,X_orig_tybm[i,],plazos_bm)}\n",
        "}\n",
        "\n",
        "\n",
        "\n",
        "#Función de valoración por tasa yield\n",
        "bonoMyield=function(x, plazos_bm, plazocupon_bm, tfcupon_bm, nominal_bm, contratos_bm) #valoración bono tasa fija\n",
        "{\n",
        "  N=as.integer(plazos_bm/plazocupon_bm)+1   \n",
        "  a=(1-(1+x*plazocupon_bm/360)^(-N))/(plazocupon_bm*x/360)\n",
        "  p1=plazos_bm-plazocupon_bm*(N-1)   \n",
        "  ((contratos_bm*nominal_bm*tfcupon_bm*plazocupon_bm/360)*a+(contratos_bm*nominal_bm)/((1+x*plazocupon_bm/360)^N))*(1+x*plazocupon_bm/360)^(1-p1/plazocupon_bm)   \n",
        "}\n",
        "\n",
        "x0_bm=t(as.matrix(X_bm[1,])) #tasas de descuento valor actual\n",
        "V0_bm=bonoMyield(x0_bm,plazos_bm, plazocupon_bm, tfcupon_bm, nominal_bm, contratos_bm)\n",
        "V0_bm"
      ],
      "execution_count": 16,
      "outputs": [
        {
          "output_type": "stream",
          "name": "stdout",
          "text": [
            "         [,1]\n",
            "[1,] 928.9513\n"
          ]
        }
      ]
    },
    {
      "cell_type": "markdown",
      "metadata": {
        "id": "lolA4cfrwiQL"
      },
      "source": [
        "## Bondes D"
      ]
    },
    {
      "cell_type": "code",
      "metadata": {
        "id": "Sa8BHfZ-wkqZ",
        "colab": {
          "base_uri": "https://localhost:8080/"
        },
        "outputId": "ba1d826e-4c6b-4a33-c60a-c3b748c3a0bb"
      },
      "source": [
        "%%R\n",
        "#BONDE D CÁLCULO\n",
        "\n",
        "X2_pr=lin_gub_bmybdst_flibfwdspind_swcupvp_oirsvpvol[X2_orig_bd, on = .(Date),nomatch=0][order(-Date)] #Se alinea la tasa de fondeo por fecha con la tasa de valor presente.\n",
        "m=ncol(plazos_bdm)\n",
        "\n",
        "\n",
        "N_bd=as.integer(plazos_bdm/plazocupon_bdm)+1 #número de cupones a pagar\n",
        "VTplazos_bdm=matrix(0,1,sum(N_bd)) #vector de todos los plazos_bdm de todos los contratos_bdm\n",
        "contratos_bdmT=matrix(0,1,sum(N_bd)) #vector de todos los contratos_bdm de todos los flujos de todos los contratos_bdm\n",
        "nominal_bdmT=matrix(0,1,sum(N_bd)) #vector de todos los nominal_bdmes de todos los flujos de todos los contratos_bdm\n",
        "plazocupon_bdmT=matrix(0,1,sum(N_bd)) #vector de todos los plazos_bdmcupon de todos los flujos de todos los contratos_bdm\n",
        "tasafijaT_bd=matrix(0,1,sum(N_bd)) #vector de tasas fijas de todos los flujos de todos los contratos_bdm\n",
        "ulNomT_bd=matrix(0,1,sum(N_bd)) #vector de contratos_bdm a final de flujo\n",
        "\n",
        "\n",
        "plazini_bd=plazos_bdm-plazocupon_bdm*(N_bd-1) #vector de plazos_bdm iniciales\n",
        "ddv=plazocupon_bdm-plazini_bd #dias trasncurridos del cupón vigente\n",
        "tfcupon=matrix(0,1,m)  #El primero cupón de cada bono\n",
        "tfcupondev=matrix(0,1,m) #cupón de los días devengados\n",
        "tfcupgen=((1+tf_act/360)^(plazocupon_bdm[1])-1)*360/plazocupon_bdm[1] #el segundo al último cupón de todos los bonos\n",
        "#calcula cupones de bonos\n",
        "for (j in (1:m))\n",
        "{\n",
        "  tfcupondev[j]=(prod(1+tf_int[(1:ddv[j])]/360)-1)*360/ddv[j]\n",
        "  tfcupon[j]=((1+tfcupondev[j]*ddv[j]/360)*(1+tf_act/360)^(plazocupon_bdm[1]-ddv[j])-1)*360/plazocupon_bdm[1]\n",
        "}\n",
        "\n",
        "\n",
        "for (j in (1:m))\n",
        "{\n",
        "  if (j==1)\n",
        "  {\n",
        "    VTplazos_bdm[,1:sum(N_bd[1:j])]=seq(plazini_bd[j],plazos_bdm[j], by=plazocupon_bdm[j])\n",
        "    contratos_bdmT[,1:sum(N_bd[1:j])]=seq(contratos_bdm[j],contratos_bdm[j])\n",
        "    plazocupon_bdmT[,1:sum(N_bd[1:j])]=seq(plazocupon_bdm[j],plazocupon_bdm[j])\n",
        "    ulNomT_bd[,sum(N_bd[1:j])]=contratos_bdm[j]\n",
        "    tasafijaT_bd[,1]=tfcupon[j]\n",
        "    tasafijaT_bd[,2:sum(N_bd[1:j])]=seq(tfcupgen,tfcupgen)\n",
        "  }\n",
        "  else\n",
        "  {\n",
        "    VTplazos_bdm[,(sum(N_bd[1:j-1])+1):sum(N_bd[1:j])]=seq(plazini_bd[j],plazos_bdm[j], by=plazocupon_bdm[j])\n",
        "    contratos_bdmT[,(sum(N_bd[1:j-1])+1):sum(N_bd[1:j])]=seq(contratos_bdm[j],contratos_bdm[j])\t\t\t\t\t\n",
        "    plazocupon_bdmT[,(sum(N_bd[1:j-1])+1):sum(N_bd[1:j])]=seq(plazocupon_bdm[j],plazocupon_bdm[j])\n",
        "    tasafijaT_bd[,(sum(N_bd[1:j-1])+1)]=tfcupon[j]\n",
        "    tasafijaT_bd[,(sum(N_bd[1:j-1])+2):sum(N_bd[1:j])]=seq(tfcupgen,tfcupgen)\n",
        "    ulNomT_bd[,sum(N_bd[1:j])]=contratos_bdm[j]\n",
        "  }\n",
        "}\n",
        "\n",
        "Xvp_bd=matrix(0,n,ncol(VTplazos_bdm))\n",
        "Xst_bd=matrix(0,n,ncol(VTplazos_bdm))\n",
        "\n",
        "for (i in (1:n))\n",
        "{\n",
        "  Xvp_bd[i,]=if(itpl==0){approx(nodos_gov,x_orig_gov[i,],VTplazos_bdm,rule=2)$y}else{talamb(nodos_gov,x_orig_gov[i,],VTplazos_bdm)}\n",
        "  Xst_bd[i,]=if(itpl==0){approx(nodos3_bd,X3_orig_bd[i,],VTplazos_bdm,rule=2)$y}else{talamb(nodos3_bd,X3_orig_bd[i,],VTplazos_bdm)}\n",
        "  \n",
        "}\n",
        "\n",
        "X_bd_tc=matrix(1,n,ncol(contratos_bdmT))*X2_pr$V2/100\n",
        "X_bd_ext=cbind(X_bd_tc,as.matrix(Xvp_bd),as.matrix(Xst_bd))\n",
        "\n",
        "bondeD=function(contratos_bdmT,  nominal_bdm, tf_act, plazocupon_bdmT, VTplazos_bdm, Xvp, Xst, N,ddv)\n",
        "{\n",
        "  tfcupon=matrix(0,1,m)  #El primero cupón de cada bono\n",
        "  tfcupondev=matrix(0,1,m) #cupón de los días devengados\n",
        "  tfcupgen=((1+tf_act/360)^(plazocupon_bdm[1])-1)*360/plazocupon_bdm[1] #el segundo al último cupón de todos los bonos\n",
        "  tasafijaT=matrix(0,1,sum(N))\n",
        "  #calcula cupones de bonos\n",
        "  for (j in (1:m))\n",
        "  {\n",
        "    tfcupondev[j]=(prod(1+tf_int[(1:ddv[j])]/360)-1)*360/ddv[j]\n",
        "    tfcupon[j]=((1+tfcupondev[j]*ddv[j]/360)*(1+tf_act/360)^(plazocupon_bdm[1]-ddv[j])-1)*360/plazocupon_bdm[1]\n",
        "  }\n",
        "  \n",
        "  \n",
        "  for (j in (1:m))\n",
        "  {\n",
        "    if (j==1)\n",
        "    {\n",
        "      tasafijaT[,1]=tfcupon[j]\n",
        "      tasafijaT[,2:sum(N[1:j])]=seq(tfcupgen,tfcupgen)\n",
        "    }\n",
        "    else\n",
        "    {\n",
        "      tasafijaT[,(sum(N[1:j-1])+1)]=tfcupon[j]\n",
        "      tasafijaT[,(sum(N[1:j-1])+2):sum(N[1:j])]=seq(tfcupgen,tfcupgen)\n",
        "    }\n",
        "  }\n",
        "  \n",
        "  \n",
        "  V0=matrix(0,1,count(N))\n",
        "  V0f=((((contratos_bdmT*(tasafijaT)*(plazocupon_bdmT/360))+ulNomT_bd)/(1+(Xvp+Xst)*VTplazos_bdm/360)))*nominal_bdm\n",
        "  for (j in (1:count(N)))\n",
        "  {\n",
        "    if(j==1)\n",
        "    {\n",
        "      V0[j]=sum(V0f[j:N[j]])\n",
        "    }\n",
        "    else\n",
        "    {\n",
        "      V0[j]=sum(V0f[(sum(N[1:j-1])+1):(sum(N[1:j]))])\n",
        "    }\n",
        "  }\n",
        "  V0\n",
        "} \n",
        "V0_bd=bondeD(contratos_bdmT, nominal_bdm, tf_act, plazocupon_bdmT, VTplazos_bdm, Xvp_bd[1,], Xst_bd[1,], N_bd,ddv)\n",
        "V0_bd"
      ],
      "execution_count": 17,
      "outputs": [
        {
          "output_type": "stream",
          "name": "stdout",
          "text": [
            "          [,1]\n",
            "[1,] -94292.17\n"
          ]
        }
      ]
    },
    {
      "cell_type": "markdown",
      "metadata": {
        "id": "odOGOAuEw62G"
      },
      "source": [
        "## Forwards Tipo de Cambio"
      ]
    },
    {
      "cell_type": "code",
      "metadata": {
        "id": "caxrqW24xAYi",
        "colab": {
          "base_uri": "https://localhost:8080/"
        },
        "outputId": "bbb5b670-2753-4e99-ba80-ef97da2b6d2f"
      },
      "source": [
        "%%R\n",
        "#FORWARDS Y/O FUTUROS DE TIPO DE CAMBIO CÁLCULO\n",
        "\n",
        "################MATRICES DE INTERPOLACION LINEAL ####################\n",
        "\n",
        "m=ncol(plazos_fwd)\n",
        "X1_fwtdc=matrix(0,n,m)\n",
        "X2_fwtdc=matrix(0,n,m)\n",
        "\n",
        "for (j in 1:n)\n",
        "{\n",
        "  X1_fwtdc[j,]=if(itpl==0){approx(nodos1_ftdc,x1_ftdc[j,],plazos_fwd,rule=2)$y}else{talamb(nodos1_ftdc,x1_ftdc[j,],plazos_fwd)}\n",
        "  X2_fwtdc[j,]=if(itpl==0){approx(nodos2_ftdc,x2_ftdc[j,],plazos_fwd,rule=2)$y}else{talamb(nodos2_ftdc,x2_ftdc[j,],plazos_fwd)}\n",
        "  if(trlib==1){X1_fwtdc[j,]=((1+X1_fwtdc[j,])^(plazos_fwd/180)-1)*360/plazos_fwd} #transformación de act 180 a 360\n",
        "}\n",
        "\n",
        "\n",
        "futuroTC = function(t,tl,tn,s,k) #t=dias por vencer, tn=tasa nacional para tipo de cambio forward, tl= tasa extranjera pra tipo de cambio forward, S=spot\n",
        "{\n",
        "  f=s*((1+tn*t/360)/(1+tl*t/360)) #Se obtiene el tipo de cambio forward\n",
        "  t(as.numeric((f-k)/(1+t*tn/360))) #Se obtiene el valor del payoff a valor presente con el valor z que define si es largo o corto\n",
        "}\n",
        "\n",
        "X3_ftdc=as.matrix(X3_ftdc)\n",
        "X_futtdc=cbind(X1_fwtdc,X2_fwtdc,X3_ftdc)\n",
        "\n",
        "V0_fwtdc=futuroTC(plazos_fwd,X1_fwtdc[1,],X2_fwtdc[1,],X3_ftdc[1,],kst_fwd)*contratos_fwd*nominal_fwd\n",
        "V0_fwtdc"
      ],
      "execution_count": 18,
      "outputs": [
        {
          "output_type": "stream",
          "name": "stdout",
          "text": [
            "          [,1]\n",
            "[1,] -85.61414\n"
          ]
        }
      ]
    },
    {
      "cell_type": "markdown",
      "metadata": {
        "id": "obA_msU_xK2B"
      },
      "source": [
        "## Forwards Acciones o Índices"
      ]
    },
    {
      "cell_type": "code",
      "metadata": {
        "id": "V4uzY_Q6xPR7",
        "colab": {
          "base_uri": "https://localhost:8080/"
        },
        "outputId": "5ec05254-5b50-4271-c33b-0f32a1f3b937"
      },
      "source": [
        "%%R\n",
        "#FORWARDS Y/O FUTUROS DE ÍNDICES CÁLCULO\n",
        "\n",
        "################MATRICES DE INTERPOLACION LINEAL ####################\n",
        "\n",
        "m_ind=ncol(plazos_fwd_ind)\n",
        "X1_fwind=matrix(0,n,m_ind) #DIVIDENDOS\n",
        "X2_fwind=matrix(0,n,m_ind)\n",
        "\n",
        "for (j in 1:n)\n",
        "{\n",
        "  #X1_fwind[j,]=if(itpl==0){approx(nodos1_,x1_ftdc[j,],plazos_fwd)$y}else{talamb(nodos1_ftdc,x1_ftdc[j,],plazos_fwd)}\n",
        "  X2_fwind[j,]=if(itpl==0){approx(nodos_gov,x_orig_gov[j,],plazos_fwd_ind,rule=2)$y}else{talamb(nodos_gov,x_orig_gov[j,],plazos_fwd_ind)}\n",
        "  #if(trlib==1){X1_fwtdc[j,]=((1+X1_fwtdc[j,])^(plazos_fwd/180)-1)*360/plazos_fwd} #transformación de act 180 a 360\n",
        "}\n",
        "\n",
        "X3_find=as.matrix(X3_find)\n",
        "X_futind=cbind(X1_fwind,X2_fwind,matrix(X3_find,n,ncol(X1_fwind)))\n",
        "\n",
        "V0_fwind=futuroTC(plazos_fwd_ind,X1_fwind[1,],X2_fwind[1,],X3_find[1,],kst_fwd_ind)*contratos_fwd_ind*nominal_fwd_ind\n",
        "V0_fwind"
      ],
      "execution_count": 19,
      "outputs": [
        {
          "output_type": "stream",
          "name": "stdout",
          "text": [
            "         [,1]\n",
            "[1,] 342308.9\n"
          ]
        }
      ]
    },
    {
      "cell_type": "markdown",
      "metadata": {
        "id": "EbJH8k5GxWrr"
      },
      "source": [
        "## SWAPS"
      ]
    },
    {
      "cell_type": "code",
      "metadata": {
        "id": "53jKdJPVxY_g",
        "colab": {
          "base_uri": "https://localhost:8080/"
        },
        "outputId": "2a3a2e5c-7b82-4132-c82c-bce9c5260d0f"
      },
      "source": [
        "%%R\n",
        "##SWAP TASA FIJA VS TASA VARIABLE CÁLCULO\n",
        "\n",
        "##Interpolamos\n",
        "\n",
        "nodosvp=nodos1_sw\n",
        "nodostc=nodos2_sw\n",
        "curvavp=as.matrix(X1_orig_sw)\n",
        "curvatc=X2_orig_sw\n",
        "n1=nrow(curvavp)\n",
        "n2=nrow(curvatc)\n",
        "\n",
        "\n",
        "m=max(ncol(plazos_sw),1) #número de contratos_sw swap a valorar\n",
        "N=matrix(0,1,m) #es un vector de m valores donde se cargarán los m número de cupones a pagar para cada contrato\n",
        "for (j in (1:m))\n",
        "{\n",
        "  N[j]=as.integer(plazos_sw[j]/plazocupon_sw[j])+1 #número de cupones a pagar\n",
        "}\n",
        "VTplazos_sw=matrix(0,1,sum(N)) #vector de todos los plazos_sw de todos los contratos_sw\n",
        "contratos_swT=matrix(0,1,sum(N)) #vector de todos los contratos_sw de todos los flujos de todos los contratos_sw\n",
        "nominal_swT=matrix(0,1,sum(N)) #vector de todos los nominal_swes de todos los flujos de todos los contratos_sw\n",
        "por_swT=matrix(0,1,sum(N)) #vector de todos los dummy si paga o recibe de todos los flujos de todos los contratos_sw\n",
        "plazocupon_swT=matrix(0,1,sum(N)) #vector de todos los plazos_swcupon de todos los flujos de todos los contratos_sw\n",
        "tasafija_swT=matrix(0,1,sum(N)) #vector de tasas fijas de todos los flujos de todos los contratos_sw\n",
        "VTplazos_swc=matrix(0,1,sum(N)) #vector de todos los plazos_sw cortos de todos los contratos_sw\n",
        "\n",
        "\n",
        "plazini=plazos_sw-plazocupon_sw*(N-1) #vector de plazos_sw iniciales\n",
        "\n",
        "for (j in (1:m))\n",
        "{\n",
        "  if (j==1)\n",
        "  {\n",
        "    VTplazos_sw[,1:sum(N[1:j])]=seq(plazini[j],plazos_sw[j], by=plazocupon_sw[j])\n",
        "    VTplazos_swc[,1:sum(N[1:j])]=c(0,VTplazos_sw[,1:(sum(N[1:j])-1)])\n",
        "    contratos_swT[,1:sum(N[1:j])]=seq(contratos_sw[j],contratos_sw[j])\n",
        "    nominal_swT[,1:sum(N[1:j])]=seq(nominal_sw[j],nominal_sw[j])\n",
        "    por_swT[,1:sum(N[1:j])]=seq(por_sw[j],por_sw[j])\n",
        "    plazocupon_swT[,1:sum(N[1:j])]=seq(plazocupon_sw[j],plazocupon_sw[j])\n",
        "    tasafija_swT[,1:sum(N[1:j])]=seq(tasafija_sw[j],tasafija_sw[j])\n",
        "  }\n",
        "  else\n",
        "  {\n",
        "    VTplazos_sw[,(sum(N[1:j-1])+1):sum(N[1:j])]=seq(plazini[j],plazos_sw[j], by=plazocupon_sw[j])\n",
        "    VTplazos_swc[,(sum(N[1:j-1])+1):sum(N[1:j])]=c(0,VTplazos_sw[,(sum(N[1:j-1])+1):(sum(N[1:j])-1)])\n",
        "    contratos_swT[,(sum(N[1:j-1])+1):sum(N[1:j])]=seq(contratos_sw[j],contratos_sw[j])\t\t\t\t\t\n",
        "    nominal_swT[,(sum(N[1:j-1])+1):sum(N[1:j])]=seq(nominal_sw[j],nominal_sw[j])\n",
        "    por_swT[,(sum(N[1:j-1])+1):sum(N[1:j])]=seq(por_sw[j],por_sw[j])\n",
        "    plazocupon_swT[,(sum(N[1:j-1])+1):sum(N[1:j])]=seq(plazocupon_sw[j],plazocupon_sw[j])\n",
        "    tasafija_swT[,(sum(N[1:j-1])+1):sum(N[1:j])]=seq(tasafija_sw[j],tasafija_sw[j])\n",
        "  }\n",
        "}\n",
        "\n",
        "Xvp=matrix(0,n,ncol(VTplazos_sw))\n",
        "Xtc=matrix(0,n,ncol(VTplazos_sw))\n",
        "Xtcc=matrix(0,n,ncol(VTplazos_sw))\n",
        "XtfwdT=matrix(0,n,ncol(VTplazos_sw))\n",
        "\n",
        "for (i in (1:n))\n",
        "{\n",
        "  Xvp[i,]=if(itpl==0){approx(nodosvp,curvavp[i,],VTplazos_sw,rule=2)$y}else{talamb(nodosvp,curvavp[i,],VTplazos_sw)}\n",
        "  Xtc[i,]=if(itpl==0){approx(nodostc,curvatc[i,],VTplazos_sw,rule=2)$y}else{talamb(nodostc,curvatc[i,],VTplazos_sw)}\n",
        "  Xtcc[i,]=if(itpl==0){approx(nodostc,curvatc[i,],VTplazos_swc, rule=2)$y}else{talamb(nodostc,curvatc[i,],VTplazos_swc)}\n",
        "  \n",
        "  XtfwdT[i,]=((1+Xtc[i,]*VTplazos_sw/360)/(1+Xtcc[i,]*VTplazos_swc/360)-1)*360/plazocupon_swT \n",
        "  for (j in (1:ncol(VTplazos_sw)))\n",
        "  {\n",
        "    if (VTplazos_sw[j]<= plazocupon_swT[j])\n",
        "    {\n",
        "      XtfwdT[i,j]=Xtc[i,j]\n",
        "    }\n",
        "    else\n",
        "    {\n",
        "      j=sum(N[1:j])\n",
        "    }\n",
        "  }\n",
        "}\n",
        "\n",
        "X_sw=cbind(XtfwdT,Xvp)\n",
        "\n",
        "swap=function(por_swT, contratos_swT, nominal_swT, XtfwdT, tasafija_swT, plazocupon_swT, VTplazos_sw, Xvp, N)\n",
        "{\n",
        "  V0=matrix(0,1,ncol(N))\n",
        "  V0f=(((contratos_swT*(XtfwdT-tasafija_swT)*(plazocupon_swT/360)))/(1+Xvp*VTplazos_sw/360))*nominal_swT*(-1)^por_swT\n",
        "  for (j in (1:ncol(N)))\n",
        "  {\n",
        "    if(j==1)\n",
        "    {\n",
        "      V0[j]=sum(V0f[j:N[j]])\n",
        "    }\n",
        "    else\n",
        "    {\n",
        "      V0[j]=sum(V0f[(sum(N[1:j-1])+1):(sum(N[1:j]))])\n",
        "    }\n",
        "  }\n",
        "  V0\n",
        "}\n",
        "\n",
        "V0_sw=swap(por_swT, contratos_swT, nominal_swT, XtfwdT[1,], tasafija_swT, plazocupon_swT, VTplazos_sw, Xvp[1,], N)\n",
        "V0_sw"
      ],
      "execution_count": 20,
      "outputs": [
        {
          "output_type": "stream",
          "name": "stdout",
          "text": [
            "         [,1]     [,2]\n",
            "[1,] 135101.8 80734.57\n"
          ]
        }
      ]
    },
    {
      "cell_type": "markdown",
      "metadata": {
        "id": "w3o67gb6xj28"
      },
      "source": [
        "##Opciones de Tasa de Interés"
      ]
    },
    {
      "cell_type": "code",
      "metadata": {
        "id": "eez6lrp1xh0W",
        "colab": {
          "base_uri": "https://localhost:8080/"
        },
        "outputId": "094b3403-5600-4a58-9869-be2d830d480f"
      },
      "source": [
        "%%R\n",
        "##opciones de tasa de interés, con inicio el día de la valuación CÁLCULO\n",
        "#Posición inicial\n",
        "\n",
        "#interpolación de tasas y volatilidades\n",
        "m=ncol(plazos_oir)\n",
        "x1=matrix(0,n,m)\n",
        "x2tc=matrix(0,n,m)\n",
        "x2tl=matrix(0,n,m)\n",
        "x2=matrix(0,n,m)\n",
        "x3=matrix(0,n,m)\n",
        "for (i in 1:(n))\n",
        "{\n",
        "  x1[i,]=if(itpl==0){approx(nodos1_oir,x1_orig_oir[i,],plazos_oir,rule=2)$y}else{talamb(nodos1_oir,x1_orig_oir[i,],plazos_oir)}\n",
        "  x2tc[i,]=if(itpl==0){approx(nodos2_oir,x2_orig_oir[i,],plazos_oir,rule=2)$y}else{talamb(nodos2_oir,x2_orig_oir[i,],plazos_oir)}\n",
        "  x2tl[i,]=if(itpl==0){approx(nodos2_oir,x2_orig_oir[i,],(plazos_oir+pr_oir),rule=2)$y}else{talamb(nodos2_oir,x2_orig_oir[i,],(plazos_oir+pr_oir))}\n",
        "  x3[i,]=if(itpl==0){approx(nodos3_oir,x3_orig_oir[i,],plazos_oir,rule=2)$y}else{talamb(nodos3_oir,x3_orig_oir[i,],plazos_oir)}\n",
        "  x2[i,]=((1+x2tl[i,]*(plazos_oir+pr_oir)/360)/(1+x2tc[i,]*(plazos_oir)/360)-1)*360/pr_oir\n",
        "}\n",
        "\n",
        "\n",
        "x01=x1[1,] #tasas de descuento\n",
        "x02=x2[1,] #tasas spot\n",
        "x03=x3[1,] #volatilidades\n",
        "\n",
        "X_oir=cbind(x1,x2,x3)\n",
        "\n",
        "opctint = function(d,S,K_oir,vol,t,cp_oir,cs_oir,pr_oir,dct_oir)\t#función de una opción europea\n",
        "{\n",
        "  d1=if(cs_oir==1){(log(S/K_oir)+vol^2*t/(365*2))*(1/(vol*sqrt(t/365)))}else{(log(S/K_oir)+vol^2*t/(360*2))*(1/(vol*sqrt(t/360)))}\n",
        "  d2=if(cs_oir==1){(log(S/K_oir)-vol^2*t/(365*2))*(1/(vol*sqrt(t/365)))}else{(log(S/K_oir)-vol^2*t/(360*2))*(1/(vol*sqrt(t/360)))}\n",
        "  vp=if(cs_oir==1){log(1+d*t/360)*365/t}else{d}  \n",
        "  (if(cs_oir==1){(S*pnorm(d1*(-1)^cp_oir)-K_oir*pnorm(d2*(-1)^cp_oir))*(exp(-vp*t/365))*(-1)^cp_oir}else{(S*pnorm(d1*(-1)^cp_oir)-K_oir*pnorm(d2*(-1)^cp_oir))*(1/(1+vp*t/360))*(-1)^cp_oir})*(pr_oir/dct_oir)/(1+S*pr_oir/dct_oir)\n",
        "}\n",
        "\n",
        "\n",
        "V0_oir=opctint(x01,x02,K_oir,x03,plazos_oir,cp_oir,cs_oir,pr_oir,dct_oir)*contratos_oir*nominal_oir #Valor del portafolio\n",
        "V0_oir"
      ],
      "execution_count": 21,
      "outputs": [
        {
          "output_type": "stream",
          "name": "stdout",
          "text": [
            "         [,1]      [,2]\n",
            "[1,] 1.002318 0.2479957\n"
          ]
        }
      ]
    },
    {
      "cell_type": "markdown",
      "metadata": {
        "id": "fomjk490c_Tm"
      },
      "source": [
        "# Integración de factores y cálculo de riesgo en conjunto, y aplicación de simulación"
      ]
    },
    {
      "cell_type": "code",
      "metadata": {
        "id": "ix7N-zKGG2on"
      },
      "source": [
        "%%R\n",
        "#DIMENSION DE TODOS LOS INSTRUMENTOS\n",
        "#Son 8 instrumentos financieros (9 si separamos acciones y divisas)\n",
        "n_if=matrix(0,8,1)\n",
        "n_if[1]=ncol(stock_prices_EQFX) #acciones y divisas\n",
        "n_if[2]=ncol(x_bcc) #cetes\n",
        "n_if[3]=ncol(X_bm) #bonos m\n",
        "n_if[4]=ncol(X_bd_ext) #bonde\n",
        "n_if[5]=ncol(X_futtdc) #fut tdc\n",
        "n_if[6]=ncol(X_futind) #fut ind\n",
        "n_if[7]=ncol(X_sw) #swaps\n",
        "n_if[8]=ncol(X_oir) #opciones tasa de interés\n",
        "\n",
        "#valor del portafolios\n",
        "\n",
        "V0_port=cbind(V0_acc_div,V0_bcc, V0_bm, V0_bd, V0_fwtdc, V0_fwind, V0_sw, V0_oir) #contrato\n",
        "V0T_port=sum(V0_port)\n",
        "\n",
        "\n",
        "#INTEGRACIÓN DE TODOS LOS FACTORES DE RIESGO EN UNA MATRIZ\n",
        "X_port=cbind(stock_prices_EQFX,x_bcc,X_bm,X_bd_ext,X_futtdc,X_futind,X_sw,X_oir) #Factores de riesgo del portafolios de 8(9) instrumentos financieros\n",
        "\n",
        "#Cálculo de variaciones Delta_X DEL PORTAFOLIOS\n",
        "DeltaX_port=as.matrix(X_port[1:(n-1),]/X_port[2:(n),]-1)\n",
        "DeltaX_port[is.nan(DeltaX_port)] <- 0 #quitamos NaN\n",
        "DeltaX_port[is.na(DeltaX_port)] <- 0 #quitamos Na\n",
        "DeltaX_port[is.infinite(DeltaX_port)] <- 0 #quitamos Na\n",
        "\n",
        "\n",
        "Ns=10000 #Definimos número de simulaciones\n",
        "alpha=0.98 #Nivel de Confianza para las medidas de riesgo\n",
        "ChCP=1  #0 Cholesky, 1 Componentes Principales\n",
        "normempi=1 #0 normal, 1 empírico\n",
        "eta=.85 #Varianza explicada  (sólo aplica para Componentes Principales)\n",
        "mT=ncol(DeltaX_port)\n",
        "\n",
        "#Matriz de correlaciones para Cholesky y de var-cov para Componentes Principales\n",
        "VarDeltaX=if(ChCP==0){cor(DeltaX_port)}else{var(DeltaX_port)*(ncol(DeltaX_port)/(ncol(DeltaX_port)-1))}\n",
        "\n",
        "#Cholesky\n",
        "if(ChCP==0) {\n",
        "  CVarDeltaX=as.matrix(chol(VarDeltaX,pivot=TRUE))\n",
        "  CVarDeltaX[is.nan(CVarDeltaX)] <- 0 #quitamos NaN\n",
        "  CVarDeltaX[is.na(CVarDeltaX)] <- 0 #quitamos Na\n",
        "  # print(ncol(CVarDeltaX))\n",
        "  # print(ncol(VarDeltaX))\n",
        "  M=matrix(0, Ns,mT)\n",
        "  if(normempi==1)\n",
        "  {\n",
        "    for (i in 1:mT)\n",
        "    {\n",
        "      M[,i]=quantile(DeltaX_port[,i],runif(Ns))\n",
        "    }\n",
        "    Met='Cholesky Empírico'\n",
        "  } else\t{\n",
        "    for (i in 1:mT)\n",
        "    {\n",
        "      M[,i]=rnorm(Ns)*sd(DeltaX_port[,i])*(mT/(mT-1))+mean(DeltaX_port[,i])\n",
        "    }\n",
        "    Met='Cholesky Normal'\n",
        "  }\n",
        "  DeltaX_s=M%*%CVarDeltaX  #Factores de riesgo simulados\n",
        "} else { #componentes principales\n",
        "  G<-eigen(VarDeltaX)      #eigenvectores\n",
        "  g1<-G$values                  #eigenvalores\n",
        "  g1p=g1/sum(g1)\n",
        "  \n",
        "  g1pac=cumsum(g1p) #suma acumulada de varianza\n",
        "  \n",
        "  k=which.max(g1pac>eta) #valor mínimo k\n",
        "  \n",
        "  y=as.matrix((DeltaX_port-colMeans(DeltaX_port)))%*%G$vectors[,1:k] #componentes principales\n",
        "  #/sqrt(diag(var(DeltaX))))\n",
        "  M=matrix(0, Ns,k)\n",
        "  if(normempi==0)\n",
        "  {\n",
        "    for (i in 1:k)\n",
        "    {\n",
        "      M[,i]=rnorm(Ns)*sd(y[,i])+mean(y[,i])\n",
        "    }\n",
        "    Met='Componentes Principales Normales'\n",
        "  } else\t{\n",
        "    for (i in 1:k)\n",
        "    {\n",
        "      M[,i]=quantile(y[,i],runif(Ns))\n",
        "    }\n",
        "    Met='Componentes Principales Empíricos'\n",
        "  }\n",
        "  DeltaX_s=M%*% t(G$vectors[,1:k]) #Factores de riesgo simulados\n",
        "}\n",
        "\n"
      ],
      "execution_count": 22,
      "outputs": []
    },
    {
      "cell_type": "markdown",
      "metadata": {
        "id": "VXuyQcc622Cx"
      },
      "source": [
        "# Medición de Riesgo"
      ]
    },
    {
      "cell_type": "markdown",
      "metadata": {
        "id": "j2L9uCZl28DD"
      },
      "source": [
        "## Acciones y divisas"
      ]
    },
    {
      "cell_type": "code",
      "metadata": {
        "id": "sI6U0L2w2501"
      },
      "source": [
        "%%R\n",
        "#Medición de riesgo por instrumento, instrumento-factor de riesgo, instrumento - total\n",
        "\n",
        "#Cálculo de matriz de pérdidas y ganancias Acciones y Divisas\n",
        "\n",
        "#riesgo del acciones y divisas\n",
        "m=n_if[1]   #PASO CLAVE\n",
        "X_s_acc_div=matrix(0,Ns,n_if[1]) #Factores de riesgo simulados con base en DeltaX_s x0*(1+Delta_Xs)   #PASO CLAVE\n",
        "V_acc_div=matrix(0,Ns,m) #valor simulado a nivel contrato de acciones y tdc\n",
        "Vfr1_acc_div=matrix(0,Ns,m_fx) #valor simulado a nivel contrato de tdc\n",
        "Vfr2_acc_div=matrix(0,Ns,m_acc) #valor simulado a nivel contrato de acciones\n",
        "PG_acc_div=matrix(0,Ns,m) #Pèrdidas y ganancias\n",
        "PGfr1_acc_div=matrix(0,Ns,m_fx) \n",
        "PGfr2_acc_div=matrix(0,Ns,m_acc)\n",
        "PGT_acc_div=matrix(0,Ns,1) #TOTAL ACC Y DIV\n",
        "PGfr1T_acc_div=matrix(0,Ns,1) #total factor riesgo divisas\n",
        "PGfr2T_acc_div=matrix(0,Ns,1) #total factor riesgo acciones\n",
        "\n",
        "DeltaX_s_acc_div=DeltaX_s[,(1:n_if[1])]    #PASO CLAVE\n",
        "x0_acc_div=stock_prices_EQFX[1,]   #PASO CLAVE\n",
        "\n",
        "for (i in 1:Ns)\n",
        "{\n",
        "  X_s_acc_div[i,]=as.matrix(x0_acc_div*(1+DeltaX_s_acc_div[i,]))\n",
        "  #PASO CLAVE\n",
        "  V_acc_div[i,]=cbind(t(pos_fx),t(pos_eq))*X_s_acc_div[i,]\n",
        "  #PASO CLAVE\n",
        "  Vfr1_acc_div[i,]=t(pos_fx)*X_s_acc_div[i,1:m_fx]\n",
        "  #PASO CLAVE\n",
        "  Vfr2_acc_div[i,]=t(pos_eq)*X_s_acc_div[i,(m_fx+1):(m_fx+m_acc)]\n",
        "  #PASO CLAVE\n",
        "  PG_acc_div[i,]=as.matrix(V_acc_div[i,]-V0_acc_div)\n",
        "  PGfr1_acc_div[i,]=as.matrix(Vfr1_acc_div[i,]-V0_acc_div[,1:m_fx])\n",
        "  PGfr2_acc_div[i,]=as.matrix(Vfr2_acc_div[i,]-V0_acc_div[,(m_fx+1):(m_fx+m_acc)])\n",
        "  PGT_acc_div[i,]=sum(PG_acc_div[i,])\n",
        "  PGfr1T_acc_div[i,]=sum(PGfr1_acc_div[i,])\n",
        "  PGfr2T_acc_div[i,]=sum(PGfr2_acc_div[i,])\n",
        "}\n",
        "\n",
        "#VaR por posición\n",
        "VaRCont_acc_div=matrix(0,1,m)\n",
        "VaRfr1_acc_div=matrix(0,1,m_fx)\n",
        "VaRfr2_acc_div=matrix(0,1,m_acc)\n",
        "CVaRCont_acc_div=matrix(0,1,m)\n",
        "CVaRfr1_acc_div=matrix(0,1,m_fx)\n",
        "CVaRfr2_acc_div=matrix(0,1,m_acc)\n",
        "for (i in (1:m))\n",
        "{\n",
        "  VaRCont_acc_div[i]=quantile(PG_acc_div[,i],1-alpha,Ns)\n",
        "  CVaRCont_acc_div[i]= mean(merge(which(PG_acc_div[,i]<VaRCont_acc_div[i]),cbind(seq(1,Ns),PG_acc_div[,i]), by.x=1,by.y=1)[,2])\n",
        "  if (i<=m_fx)\n",
        "  {\n",
        "  VaRfr1_acc_div[i]=quantile(PGfr1_acc_div[,i],1-alpha,Ns)\n",
        "  CVaRfr1_acc_div[i]= mean(merge(which(PGfr1_acc_div[,i]<VaRfr1_acc_div[i]),cbind(seq(1,Ns),PGfr1_acc_div[,i]), by.x=1,by.y=1)[,2])\n",
        "  }\n",
        "  if (i<=m_acc)\n",
        "  {  \n",
        "  VaRfr2_acc_div[i]=quantile(PGfr2_acc_div[,i],1-alpha,Ns)\n",
        "  CVaRfr2_acc_div[i]= mean(merge(which(PGfr2_acc_div[,i]<VaRfr2_acc_div[i]),cbind(seq(1,Ns),PGfr2_acc_div[,i]), by.x=1,by.y=1)[,2])\n",
        "  }\n",
        "}\n",
        "Met\n",
        "VaRCont_acc_div\n",
        "\n",
        "VaRTotal_acc_div=quantile(PGT_acc_div,1-alpha,Ns)\n",
        "CVaRTotal_acc_div= mean(merge(which(PGT_acc_div<VaRTotal_acc_div),cbind(seq(1,Ns),PGT_acc_div), by.x=1,by.y=1)[,2])\n",
        "VaRTotalfr1_acc_div=quantile(PGfr1T_acc_div,1-alpha,Ns)\n",
        "CVaRTotalfr1_acc_div= mean(PGfr1T_acc_div[which(PGfr1T_acc_div<VaRTotalfr1_acc_div),])\n",
        "VaRTotalfr2_acc_div=quantile(PGfr2T_acc_div,1-alpha,Ns)\n",
        "CVaRTotalfr2_acc_div= mean(PGfr2T_acc_div[which(PGfr2T_acc_div<VaRTotalfr2_acc_div),])"
      ],
      "execution_count": 23,
      "outputs": []
    },
    {
      "cell_type": "code",
      "source": [
        "%%R\n",
        "print(Met)\n",
        "#VaR y CVaR Acciones\n",
        "Acc_VaR_CVaR <- cbind(VaRCont_acc_div[,4:6], CVaRCont_acc_div[,4:6])\n",
        "colnames(Acc_VaR_CVaR) <- c(\"VaR\", \"CVaR\")\n",
        "\n",
        "Acc_VaR_CVaR <- rbind(Acc_VaR_CVaR, c(VaRTotalfr2_acc_div, CVaRTotalfr2_acc_div))\n",
        "rownames(Acc_VaR_CVaR) <- c(names(stock_prices), \"Total\")\n",
        "\n",
        "print(Acc_VaR_CVaR)"
      ],
      "metadata": {
        "colab": {
          "base_uri": "https://localhost:8080/"
        },
        "id": "LO1ZfCEH4BP2",
        "outputId": "05ff9900-5086-48ed-9fec-e0e142307ace"
      },
      "execution_count": 24,
      "outputs": [
        {
          "output_type": "stream",
          "name": "stdout",
          "text": [
            "[1] \"Componentes Principales Empíricos\"\n",
            "                   VaR      CVaR\n",
            "AMXL.MX     -1215.3195 -1445.144\n",
            "GCARSOA1.MX -2814.2074 -3386.017\n",
            "WALMEX.MX    -884.4705 -1030.849\n",
            "Total       -2667.8466 -3217.240\n"
          ]
        }
      ]
    },
    {
      "cell_type": "code",
      "source": [
        "%%R\n",
        "print(Met)\n",
        "#VaR y CVaR  Divisas\n",
        "Div_VaR_CVaR <- cbind(VaRCont_acc_div[,1:3], CVaRCont_acc_div[,1:3])\n",
        "colnames(Div_VaR_CVaR) <- c(\"VaR\", \"CVaR\")\n",
        "\n",
        "Div_VaR_CVaR <- rbind(Div_VaR_CVaR, c(VaRTotalfr1_acc_div, CVaRTotalfr1_acc_div))\n",
        "rownames(Div_VaR_CVaR) <- c(names(stock_pricesFX), \"Total\")\n",
        "\n",
        "print(Div_VaR_CVaR)"
      ],
      "metadata": {
        "colab": {
          "base_uri": "https://localhost:8080/"
        },
        "id": "9eDHrURF2heT",
        "outputId": "92b06ebe-39bb-455b-8ca6-bc7ee17a4c09"
      },
      "execution_count": 25,
      "outputs": [
        {
          "output_type": "stream",
          "name": "stdout",
          "text": [
            "[1] \"Componentes Principales Empíricos\"\n",
            "               VaR      CVaR\n",
            "EURUSD.X -19.17257 -23.97064\n",
            "GBPUSD.X -18.75504 -23.46053\n",
            "USDMXN.X -62.46347 -73.80987\n",
            "Total    -65.96880 -77.84932\n"
          ]
        }
      ]
    },
    {
      "cell_type": "markdown",
      "source": [
        "## Riesgo de CETES"
      ],
      "metadata": {
        "id": "FuYIbjdB4p1E"
      }
    },
    {
      "cell_type": "code",
      "source": [
        "%%R\n",
        "#CETES\n",
        "\n",
        "#Cálculo de matriz de pérdidas y ganancias \n",
        "#dimensión\n",
        "m=n_if[2]  #PASO CLAVE\n",
        "X_s_bcc= matrix(0,Ns,m)    #PASO CLAVE\n",
        "PG_bcc= matrix(0,Ns,m)\n",
        "V_bcc = matrix(0,Ns,m)\n",
        "\n",
        "DeltaX_s_bcc=DeltaX_s[,sum(n_if[1],1):sum(n_if[1:2])]    #PASO CLAVE\n",
        "x0_bcc=x_bcc[1] #Escenario base\n",
        "\n",
        "for (i in 1:Ns)\n",
        "{\n",
        "  X_s_bcc[i]=x0_bcc*(1+DeltaX_s_bcc[i])\n",
        "  V_bcc[i] = bonocupcero(X_s_bcc[i],plazos_bcc)*contratos_bcc*nominal_bcc\n",
        "  PG_bcc[i]=V_bcc[i]-V0_bcc\n",
        "}\n",
        "\n",
        "# VaR y CVaR \n",
        "VaR_bcc= quantile(PG_bcc,1-alpha,Ns)\n",
        "CVaR_bcc= mean(PG_bcc[which(PG_bcc<VaR_bcc),])\n",
        "\n",
        "#Resumen\n",
        "print(Met)\n",
        "Cetes_VaR_CVaR <- cbind(VaR_bcc, CVaR_bcc)\n",
        "colnames(Cetes_VaR_CVaR) <-  c(\"VaR\", \"CVaR\")\n",
        "rownames(Cetes_VaR_CVaR) <- c(\"CETES\")\n",
        "Cetes_VaR_CVaR"
      ],
      "metadata": {
        "colab": {
          "base_uri": "https://localhost:8080/"
        },
        "id": "MtrmZrUJ4qXR",
        "outputId": "d70d7b5f-e356-462e-8936-a89169da3d53"
      },
      "execution_count": 26,
      "outputs": [
        {
          "output_type": "stream",
          "name": "stdout",
          "text": [
            "[1] \"Componentes Principales Empíricos\"\n",
            "             VaR       CVaR\n",
            "CETES -0.3448708 -0.4187494\n"
          ]
        }
      ]
    },
    {
      "cell_type": "markdown",
      "source": [
        "## Riesgo de Bonos M"
      ],
      "metadata": {
        "id": "dlIDhC1ZdwsY"
      }
    },
    {
      "cell_type": "code",
      "source": [
        "%%R\n",
        "#BONOS M\n",
        "\n",
        "#Cálculo de matriz de pérdidas y ganancias \n",
        "#dimensión\n",
        "m=n_if[3]  #PASO CLAVE\n",
        "X_s_bm= matrix(0,Ns,m)    #PASO CLAVE\n",
        "PG_bm= matrix(0,Ns,m)\n",
        "V_bm = matrix(0,Ns,m)\n",
        "\n",
        "DeltaX_s_bm=DeltaX_s[,sum(n_if[1:2],1):sum(n_if[1:3])]    #PASO CLAVE\n",
        "x0_bm=X_bm[1] #Escenario base\n",
        "\n",
        "for (i in 1:Ns)\n",
        "{\n",
        "  X_s_bm[i]=x0_bm*(1+DeltaX_s_bm[i])\n",
        "  V_bm[i] = bonoMyield(X_s_bm[i],plazos_bm, plazocupon_bm, tfcupon_bm, nominal_bm, contratos_bm)\n",
        "  PG_bm[i]=V_bm[i]-V0_bm\n",
        "}\n",
        "\n",
        "# VaR y CVaR sin alisado\n",
        "VaR_bm=quantile(PG_bm,1-alpha,Ns)\n",
        "CVaR_bm= mean(PG_bm[which(PG_bm<VaR_bm),])\n",
        "\n",
        "#Resumen\n",
        "print(Met)\n",
        "BM_VaR_CVaR <- cbind(VaR_bm, CVaR_bm)\n",
        "colnames(BM_VaR_CVaR) <-  c(\"VaR\", \"CVaR\")\n",
        "rownames(BM_VaR_CVaR) <- c(\"Bono M\")\n",
        "BM_VaR_CVaR"
      ],
      "metadata": {
        "colab": {
          "base_uri": "https://localhost:8080/"
        },
        "id": "3v1Z7Fw_dy2-",
        "outputId": "17de6571-b40c-46e0-e40b-7fb37d9810fb"
      },
      "execution_count": 27,
      "outputs": [
        {
          "output_type": "stream",
          "name": "stdout",
          "text": [
            "[1] \"Componentes Principales Empíricos\"\n",
            "             VaR      CVaR\n",
            "Bono M -10.38444 -12.74337\n"
          ]
        }
      ]
    },
    {
      "cell_type": "markdown",
      "metadata": {
        "id": "MkFd85063HTZ"
      },
      "source": [
        "## Riesgo de Bondes D"
      ]
    },
    {
      "cell_type": "code",
      "metadata": {
        "id": "BTbDAKfJ3E0K",
        "outputId": "ff877149-0315-4e45-940e-51e28bca0017",
        "colab": {
          "base_uri": "https://localhost:8080/"
        }
      },
      "source": [
        "%%R\n",
        "#Cálculo de matriz de pérdidas y ganancias BONDES\n",
        "#dimensión\n",
        "m=count(N_bd)    #PASO CLAVE\n",
        "X_s_bd=matrix(0,Ns,n_if[4]) #Factores de riesgo simulados con base en DeltaX_s x0*(1+Delta_Xs)   #PASO CLAVE\n",
        "V_bd=matrix(0,Ns,m)\n",
        "Vfr1_bd=matrix(0,Ns,m)\n",
        "Vfr2_bd=matrix(0,Ns,m)\n",
        "Vfr3_bd=matrix(0,Ns,m)\n",
        "PG_bd=matrix(0,Ns,m) #Pèrdidas y ganancias\n",
        "PGfr1_bd=matrix(0,Ns,m)\n",
        "PGfr2_bd=matrix(0,Ns,m)\n",
        "PGfr3_bd=matrix(0,Ns,m)\n",
        "PGT_bd=matrix(0,Ns,1)\n",
        "PGfr1T_bd=matrix(0,Ns,1)\n",
        "PGfr2T_bd=matrix(0,Ns,1)\n",
        "PGfr3T_bd=matrix(0,Ns,1)\n",
        "\n",
        "DeltaX_s_bd=DeltaX_s[,sum(n_if[1:3],1):sum(n_if[1:4])]    #PASO CLAVE\n",
        "x0_bd=X_bd_ext[1,]    #PASO CLAVE\n",
        "\n",
        "for (i in 1:Ns)\n",
        "{\n",
        "  X_s_bd[i,]=x0_bd*(1+DeltaX_s_bd[i,])\n",
        "  #PASO CLAVE\n",
        "  V_bd[i,]=bondeD(contratos_bdmT, nominal_bdm, X_s_bd[i,1], plazocupon_bdmT, VTplazos_bdm, X_s_bd[i,(n_if[4]/3+1):(n_if[4]*2/3)], X_s_bd[i,(n_if[4]*2/3+1):(n_if[4])], N_bd,ddv)\n",
        "  #PASO CLAVE\n",
        "  Vfr1_bd[i,]=bondeD(contratos_bdmT, nominal_bdm, X_s_bd[i,1], plazocupon_bdmT, VTplazos_bdm, x0_bd[(n_if[4]/3+1):(n_if[4]*2/3)], x0_bd[(n_if[4]*2/3+1):(n_if[4])], N_bd,ddv)\n",
        "  #PASO CLAVE\n",
        "  Vfr2_bd[i,]=bondeD(contratos_bdmT, nominal_bdm, x0_bd[1], plazocupon_bdmT, VTplazos_bdm, X_s_bd[i,(n_if[4]/3+1):(n_if[4]*2/3)], x0_bd[(n_if[4]*2/3+1):(n_if[4])], N_bd,ddv)\n",
        "  #PASO CLAVE\n",
        "  Vfr3_bd[i,]=bondeD(contratos_bdmT, nominal_bdm, x0_bd[1], plazocupon_bdmT, VTplazos_bdm, x0_bd[(n_if[4]/3+1):(n_if[4]*2/3)], X_s_bd[i,(n_if[4]*2/3+1):(n_if[4])], N_bd,ddv)\n",
        "  #PASO CLAVE\n",
        "  PG_bd[i,]=V_bd[i,]-V0_bd\n",
        "  PGfr1_bd[i,]=Vfr1_bd[i,]-V0_bd\n",
        "  PGfr2_bd[i,]=Vfr2_bd[i,]-V0_bd\n",
        "  PGfr3_bd[i,]=Vfr3_bd[i,]-V0_bd\n",
        "  PGT_bd[i,]=sum(PG_bd[i,])\n",
        "  PGfr1T_bd[i,]=sum(PGfr1_bd[i,])\n",
        "  PGfr2T_bd[i,]=sum(PGfr2_bd[i,])\n",
        "  PGfr3T_bd[i,]=sum(PGfr3_bd[i,])\n",
        "}\n",
        "\n",
        "#VaR por posición\n",
        "VaRCont_bd=matrix(0,1,m)\n",
        "VaRfr1_bd=matrix(0,1,m)\n",
        "VaRfr2_bd=matrix(0,1,m)\n",
        "VaRfr3_bd=matrix(0,1,m)\n",
        "CVaRCont_bd=matrix(0,1,m)\n",
        "CVaRfr1_bd=matrix(0,1,m)\n",
        "CVaRfr2_bd=matrix(0,1,m)\n",
        "CVaRfr3_bd=matrix(0,1,m)\n",
        "\n",
        "for (i in (1:m))\n",
        "{\n",
        "  VaRCont_bd[i]=quantile(PG_bd[,i],1-alpha,Ns)\n",
        "  VaRfr1_bd[i]=quantile(PGfr1_bd[,i],1-alpha,Ns)\n",
        "  VaRfr2_bd[i]=quantile(PGfr2_bd[,i],1-alpha,Ns)\n",
        "  VaRfr3_bd[i]=quantile(PGfr3_bd[,i],1-alpha,Ns)\n",
        "  CVaRfr1_bd[i]= mean(merge(which(PGfr1_bd[,i]<VaRfr1_bd[i]),cbind(seq(1,Ns),PGfr1_bd[,i]), by.x=1,by.y=1)[,2])\n",
        "  CVaRfr2_bd[i]= mean(merge(which(PGfr2_bd[,i]<VaRfr2_bd[i]),cbind(seq(1,Ns),PGfr2_bd[,i]), by.x=1,by.y=1)[,2])\n",
        "  CVaRfr3_bd[i]= mean(merge(which(PGfr3_bd[,i]<VaRfr3_bd[i]),cbind(seq(1,Ns),PGfr3_bd[,i]), by.x=1,by.y=1)[,2])\n",
        "  CVaRCont_bd[i]= mean(merge(which(PG_bd[,i]<VaRCont_bd[i]),cbind(seq(1,Ns),PG_bd[,i]), by.x=1,by.y=1)[,2])\n",
        "}\n",
        "\n",
        "\n",
        "#VaR Total\n",
        "VaRTotal_bd=quantile(PGT_bd,1-alpha,Ns)\n",
        "CVaRTotal_bd= mean(merge(which(PGT_bd<VaRTotal_bd),cbind(seq(1,Ns),PGT_bd), by.x=1,by.y=1)[,2])\n",
        "VaRTotalfr1_bd=quantile(PGfr1T_bd,1-alpha,Ns)\n",
        "CVaRTotalfr1_bd= mean(PGfr1T_bd[which(PGfr1T_bd<VaRTotalfr1_bd),])\n",
        "VaRTotalfr2_bd=quantile(PGfr2T_bd,1-alpha,Ns)\n",
        "CVaRTotalfr2_bd= mean(PGfr2T_bd[which(PGfr2T_bd<VaRTotalfr2_bd),])\n",
        "VaRTotalfr3_bd=quantile(PGfr3T_bd,1-alpha,Ns)\n",
        "CVaRTotalfr3_bd= mean(PGfr3T_bd[which(PGfr2T_bd<VaRTotalfr2_bd),])\n",
        "\n",
        "#Resumen\n",
        "print(Met)\n",
        "Bonde_VaR_CVaR <- rbind(c(VaRTotalfr1_bd,CVaRTotalfr1_bd),\n",
        "                        c(VaRTotalfr2_bd, CVaRTotalfr2_bd),\n",
        "                        c(VaRTotalfr3_bd,CVaRTotalfr3_bd),\n",
        "                        c(VaRTotal_bd,CVaRTotal_bd))\n",
        "colnames(Bonde_VaR_CVaR ) <-  c(\"VaR\", \"CVaR\")\n",
        "rownames(Bonde_VaR_CVaR ) <- c( \"FR1\", \"FR2\", \"FR3\",\"Total BONDE\")\n",
        "Bonde_VaR_CVaR "
      ],
      "execution_count": 28,
      "outputs": [
        {
          "output_type": "stream",
          "name": "stdout",
          "text": [
            "[1] \"Componentes Principales Empíricos\"\n",
            "                   VaR       CVaR\n",
            "FR1         -482.50502 -763.04895\n",
            "FR2         -181.70218 -247.09494\n",
            "FR3          -19.67976  -43.24545\n",
            "Total BONDE -539.83679 -829.50083\n"
          ]
        }
      ]
    },
    {
      "cell_type": "markdown",
      "metadata": {
        "id": "V9unIzQH3N5P"
      },
      "source": [
        "## Riesgo de Futuros TdC"
      ]
    },
    {
      "cell_type": "code",
      "metadata": {
        "id": "0EdEz0wr3SYE",
        "outputId": "0824d384-86f2-4e1f-d579-1f83e9d17441",
        "colab": {
          "base_uri": "https://localhost:8080/"
        }
      },
      "source": [
        "%%R\n",
        "\n",
        "#Cálculo de matriz de pérdidas y ganancias FUTUROS TDC\n",
        "#dimensión\n",
        "m=ncol(plazos_fwd)  #PASO CLAVE\n",
        "X_s_fwtdc=matrix(0,Ns,n_if[5]) #Factores de riesgo simulados con base en DeltaX_s x0*(1+Delta_Xs) #PASO CLAVE\n",
        "V_fwtdc=matrix(0,Ns,m)\n",
        "Vfr1_fwtdc=matrix(0,Ns,m)\n",
        "Vfr2_fwtdc=matrix(0,Ns,m)\n",
        "Vfr3_fwtdc=matrix(0,Ns,m)\n",
        "PG_fwtdc=matrix(0,Ns,m) #Pèrdidas y ganancias\n",
        "PGfr1_fwtdc=matrix(0,Ns,m)\n",
        "PGfr2_fwtdc=matrix(0,Ns,m)\n",
        "PGfr3_fwtdc=matrix(0,Ns,m)\n",
        "PGT_fwtdc=matrix(0,Ns,1)\n",
        "PGfr1T_fwtdc=matrix(0,Ns,1)\n",
        "PGfr2T_fwtdc=matrix(0,Ns,1)\n",
        "PGfr3T_fwtdc=matrix(0,Ns,1)\n",
        "\n",
        "DeltaX_s_fwtdc=DeltaX_s[,sum(n_if[1:4],1):sum(n_if[1:5])]  #PASO CLAVE\n",
        "x0_fwtdc=X_futtdc[1,] #PASO CLAVE\n",
        "\n",
        "for (i in 1:Ns)\n",
        "{\n",
        "  X_s_fwtdc[i,]=x0_fwtdc*(1+DeltaX_s_fwtdc[i,])\n",
        "  #PASO CLAVE\n",
        "  V_fwtdc[i,]=futuroTC(plazos_fwd,X_s_fwtdc[i,1:((n_if[5]-1)/2)],X_s_fwtdc[i,((n_if[5]-1)/2+1):(n_if[5]-1)],X_s_fwtdc[i,(n_if[5])],kst_fwd)*contratos_fwd*nominal_fwd     \n",
        "  #PASO CLAVE\n",
        "  Vfr1_fwtdc[i,]=futuroTC(plazos_fwd,X_s_fwtdc[i,1:((n_if[5]-1)/2)],x0_fwtdc[((n_if[5]-1)/2+1):(n_if[5]-1)],x0_fwtdc[(n_if[5])],kst_fwd)*contratos_fwd*nominal_fwd\n",
        "  #PASO CLAVE\n",
        "  Vfr2_fwtdc[i,]=futuroTC(plazos_fwd,x0_fwtdc[1:((n_if[5]-1)/2)],X_s_fwtdc[i,((n_if[5]-1)/2+1):(n_if[5]-1)],x0_fwtdc[(n_if[5])],kst_fwd)*contratos_fwd*nominal_fwd\n",
        "  #PASO CLAVE\n",
        "  Vfr3_fwtdc[i,]=futuroTC(plazos_fwd,x0_fwtdc[1:((n_if[5]-1)/2)],x0_fwtdc[((n_if[5]-1)/2+1):(n_if[5]-1)],X_s_fwtdc[i,(n_if[5])],kst_fwd)*contratos_fwd*nominal_fwd\n",
        "  PG_fwtdc[i,]=V_fwtdc[i,]-V0_fwtdc\n",
        "  PGfr1_fwtdc[i,]=Vfr1_fwtdc[i,]-V0_fwtdc\n",
        "  PGfr2_fwtdc[i,]=Vfr2_fwtdc[i,]-V0_fwtdc\n",
        "  PGfr3_fwtdc[i,]=Vfr3_fwtdc[i,]-V0_fwtdc\n",
        "  PGT_fwtdc[i,]=sum(PG_fwtdc[i,])\n",
        "  PGfr1T_fwtdc[i,]=sum(PGfr1_fwtdc[i,])\n",
        "  PGfr2T_fwtdc[i,]=sum(PGfr2_fwtdc[i,])\n",
        "  PGfr3T_fwtdc[i,]=sum(PGfr3_fwtdc[i,])\n",
        "}\n",
        "\n",
        "#VaR por posición\n",
        "VaRCont_fwtdc=matrix(0,1,m)\n",
        "VaRfr1_fwtdc=matrix(0,1,m)\n",
        "VaRfr2_fwtdc=matrix(0,1,m)\n",
        "VaRfr3_fwtdc=matrix(0,1,m)\n",
        "CVaRCont_fwtdc=matrix(0,1,m)\n",
        "CVaRfr1_fwtdc=matrix(0,1,m)\n",
        "CVaRfr2_fwtdc=matrix(0,1,m)\n",
        "CVaRfr3_fwtdc=matrix(0,1,m)\n",
        "for (i in (1:m))\n",
        "{\n",
        "  VaRCont_fwtdc[i]=quantile(PG_fwtdc[,i],1-alpha,Ns)\n",
        "  VaRfr1_fwtdc[i]=quantile(PGfr1_fwtdc[,i],1-alpha,Ns)\n",
        "  VaRfr2_fwtdc[i]=quantile(PGfr2_fwtdc[,i],1-alpha,Ns)\n",
        "  VaRfr3_fwtdc[i]=quantile(PGfr3_fwtdc[,i],1-alpha,Ns)\n",
        "  CVaRfr1_fwtdc[i]= mean(merge(which(PGfr1_fwtdc[,i]<VaRfr1_fwtdc[i]),cbind(seq(1,Ns),PGfr1_fwtdc[,i]), by.x=1,by.y=1)[,2])\n",
        "  CVaRfr2_fwtdc[i]= mean(merge(which(PGfr2_fwtdc[,i]<VaRfr2_fwtdc[i]),cbind(seq(1,Ns),PGfr2_fwtdc[,i]), by.x=1,by.y=1)[,2])\n",
        "  CVaRfr3_fwtdc[i]= mean(merge(which(PGfr3_fwtdc[,i]<VaRfr3_fwtdc[i]),cbind(seq(1,Ns),PGfr3_fwtdc[,i]), by.x=1,by.y=1)[,2])\n",
        "  CVaRCont_fwtdc[i]= mean(merge(which(PG_fwtdc[,i]<VaRCont_fwtdc[i]),cbind(seq(1,Ns),PG_fwtdc[,i]), by.x=1,by.y=1)[,2])\n",
        "}\n",
        "\n",
        "\n",
        "#VaR Total\n",
        "VaRTotal_fwtdc=quantile(PGT_fwtdc,1-alpha,Ns)\n",
        "CVaRTotal_fwtdc= mean(merge(which(PGT_fwtdc<VaRTotal_fwtdc),cbind(seq(1,Ns),PGT_fwtdc), by.x=1,by.y=1)[,2])\n",
        "VaRTotalfr1_fwtdc=quantile(PGfr1T_fwtdc,1-alpha,Ns)\n",
        "CVaRTotalfr1_fwtdc= mean(PGfr1T_fwtdc[which(PGfr1T_fwtdc<VaRTotalfr1_fwtdc),])\n",
        "VaRTotalfr2_fwtdc=quantile(PGfr2T_fwtdc,1-alpha,Ns)\n",
        "CVaRTotalfr2_fwtdc= mean(PGfr2T_fwtdc[which(PGfr2T_fwtdc<VaRTotalfr2_fwtdc),])\n",
        "VaRTotalfr3_fwtdc=quantile(PGfr3T_fwtdc,1-alpha,Ns)\n",
        "CVaRTotalfr3_fwtdc= mean(PGfr3T_fwtdc[which(PGfr2T_fwtdc<VaRTotalfr3_fwtdc),])\n",
        "\n",
        "#Resumen\n",
        "print(Met)\n",
        "FWD_TDC_VaR_CVaR <- rbind(c(VaRTotalfr1_fwtdc,CVaRTotalfr1_fwtdc),\n",
        "                          c(VaRTotalfr2_fwtdc, CVaRTotalfr2_fwtdc),\n",
        "                          c(VaRTotalfr3_fwtdc,CVaRTotalfr3_fwtdc),\n",
        "                          c(VaRTotal_fwtdc,CVaRTotal_fwtdc)\n",
        "                          )\n",
        "colnames(FWD_TDC_VaR_CVaR ) <-  c(\"VaR\", \"CVaR\")\n",
        "rownames(FWD_TDC_VaR_CVaR ) <- c( \"FR1\", \"FR2\", \"FR3\", \"Total Forward TDC\")\n",
        "print(FWD_TDC_VaR_CVaR)\n"
      ],
      "execution_count": 29,
      "outputs": [
        {
          "output_type": "stream",
          "name": "stdout",
          "text": [
            "[1] \"Componentes Principales Empíricos\"\n",
            "                           VaR         CVaR\n",
            "FR1               -0.002143255 -0.002702126\n",
            "FR2               -0.021590365 -0.027301572\n",
            "FR3               -4.162004303          NaN\n",
            "Total Forward TDC -4.155718278 -4.918072136\n"
          ]
        }
      ]
    },
    {
      "cell_type": "markdown",
      "metadata": {
        "id": "DQowS_h9IR7l"
      },
      "source": [
        "## Riesgo de Futuros IPC"
      ]
    },
    {
      "cell_type": "code",
      "metadata": {
        "outputId": "c86914bb-99c3-431c-8fb0-cca2ac6feff8",
        "id": "HHkdTu-WILjC",
        "colab": {
          "base_uri": "https://localhost:8080/"
        }
      },
      "source": [
        "%%R\n",
        "\n",
        "#Cálculo de matriz de pérdidas y ganancias FUTUROS IPC\n",
        "m=ncol(plazos_fwd_ind)  #PASO CLAVE\n",
        "X_s_fwind=matrix(0,Ns,n_if[6]) #Factores de riesgo simulados con base en DeltaX_s x0*(1+Delta_Xs) #PASO CLAVE\n",
        "V_fwind=matrix(0,Ns,m)\n",
        "Vfr1_fwind=matrix(0,Ns,m)\n",
        "Vfr2_fwind=matrix(0,Ns,m)\n",
        "Vfr3_fwind=matrix(0,Ns,m)\n",
        "PG_fwind=matrix(0,Ns,m) #Pèrdidas y ganancias\n",
        "PGfr1_fwind=matrix(0,Ns,m)\n",
        "PGfr2_fwind=matrix(0,Ns,m)\n",
        "PGfr3_fwind=matrix(0,Ns,m)\n",
        "PGT_fwind=matrix(0,Ns,1)\n",
        "PGfr1T_fwind=matrix(0,Ns,1)\n",
        "PGfr2T_fwind=matrix(0,Ns,1)\n",
        "PGfr3T_fwind=matrix(0,Ns,1)\n",
        "\n",
        "DeltaX_s_fwind=DeltaX_s[,sum(n_if[1:5],1):sum(n_if[1:6])]  #PASO CLAVE\n",
        "x0_fwind=X_futind[1,] #PASO CLAVE\n",
        "\n",
        "\n",
        "for (i in 1:Ns)\n",
        "{\n",
        "  X_s_fwind[i,]=x0_fwind*(1+DeltaX_s_fwind[i,])\n",
        "  #PASO CLAVE\n",
        "  V_fwind[i,]=futuroTC(plazos_fwd_ind,X_s_fwind[i,1:(n_if[6]/3)],X_s_fwind[i,(n_if[6]/3+1):(n_if[6]*2/3)],X_s_fwind[i,(n_if[6]*2/3+1):n_if[6]],kst_fwd_ind)*contratos_fwd_ind*nominal_fwd_ind     \n",
        "  Vfr1_fwind[i,]=futuroTC(plazos_fwd_ind,X_s_fwind[i,1:(n_if[6]/3)],x0_fwind[(n_if[6]/3+1):(n_if[6]*2/3)],x0_fwind[(n_if[6]*2/3+1):n_if[6]],kst_fwd_ind)*contratos_fwd_ind*nominal_fwd_ind\n",
        "  #PASO CLAVE\n",
        "  Vfr2_fwind[i,]=futuroTC(plazos_fwd_ind,x0_fwind[1:(n_if[6]/3)],X_s_fwind[i,(n_if[6]/3+1):(n_if[6]*2/3)],x0_fwind[(n_if[6]*2/3+1):n_if[6]],kst_fwd_ind)*contratos_fwd_ind*nominal_fwd_ind\n",
        "  #PASO CLAVE\n",
        "  Vfr3_fwind[i,]=futuroTC(plazos_fwd_ind,x0_fwind[1:(n_if[6]/3)],x0_fwind[(n_if[6]/3+1):(n_if[6]*2/3)],X_s_fwind[i,(n_if[6]*2/3+1):n_if[6]],kst_fwd_ind)*contratos_fwd_ind*nominal_fwd_ind\n",
        "  PG_fwind[i,]=V_fwind[i,]-V0_fwind\n",
        "  PGfr1_fwind[i,]=Vfr1_fwind[i,]-V0_fwind\n",
        "  PGfr2_fwind[i,]=Vfr2_fwind[i,]-V0_fwind\n",
        "  PGfr3_fwind[i,]=Vfr3_fwind[i,]-V0_fwind\n",
        "  PGT_fwind[i,]=sum(PG_fwind[i,])\n",
        "  PGfr1T_fwind[i,]=sum(PGfr1_fwind[i,])\n",
        "  PGfr2T_fwind[i,]=sum(PGfr2_fwind[i,])\n",
        "  PGfr3T_fwind[i,]=sum(PGfr3_fwind[i,])\n",
        "}\n",
        "\n",
        "\n",
        "#VaR por posición\n",
        "VaRCont_fwind=matrix(0,1,m)\n",
        "VaRfr1_fwind=matrix(0,1,m)\n",
        "VaRfr2_fwind=matrix(0,1,m)\n",
        "VaRfr3_fwind=matrix(0,1,m)\n",
        "CVaRCont_fwind=matrix(0,1,m)\n",
        "CVaRfr1_fwind=matrix(0,1,m)\n",
        "CVaRfr2_fwind=matrix(0,1,m)\n",
        "CVaRfr3_fwind=matrix(0,1,m)\n",
        "\n",
        "for (i in (1:m))\n",
        "{\n",
        "  VaRCont_fwind[i]=quantile(PG_fwind[,i],1-alpha,Ns)\n",
        "  VaRfr1_fwind[i]=quantile(PGfr1_fwind[,i],1-alpha,Ns)\n",
        "  VaRfr2_fwind[i]=quantile(PGfr2_fwind[,i],1-alpha,Ns)\n",
        "  VaRfr3_fwind[i]=quantile(PGfr3_fwind[,i],1-alpha,Ns)\n",
        "  CVaRfr1_fwind[i]= mean(merge(which(PGfr1_fwind[,i]<VaRfr1_fwind[i]),cbind(seq(1,Ns),PGfr1_fwind[,i]), by.x=1,by.y=1)[,2])\n",
        "  CVaRfr2_fwind[i]= mean(merge(which(PGfr2_fwind[,i]<VaRfr2_fwind[i]),cbind(seq(1,Ns),PGfr2_fwind[,i]), by.x=1,by.y=1)[,2])\n",
        "  CVaRfr3_fwind[i]= mean(merge(which(PGfr3_fwind[,i]<VaRfr3_fwind[i]),cbind(seq(1,Ns),PGfr3_fwind[,i]), by.x=1,by.y=1)[,2])\n",
        "  CVaRCont_fwind[i]= mean(merge(which(PG_fwind[,i]<VaRCont_fwind[i]),cbind(seq(1,Ns),PG_fwind[,i]), by.x=1,by.y=1)[,2])\n",
        "}\n",
        "\n",
        "#VaR Total\n",
        "Met\n",
        "VaRTotal_fwind=quantile(PGT_fwind,1-alpha,Ns)\n",
        "CVaRTotal_fwind= mean(merge(which(PGT_fwind<VaRTotal_fwind),cbind(seq(1,Ns),PGT_fwind), by.x=1,by.y=1)[,2])\n",
        "VaRTotalfr1_fwind=quantile(PGfr1T_fwind,1-alpha,Ns)\n",
        "CVaRTotalfr1_fwind= mean(PGfr1T_fwind[which(PGfr1T_fwind<VaRTotalfr1_fwind),])\n",
        "VaRTotalfr2_fwind=quantile(PGfr2T_fwind,1-alpha,Ns)\n",
        "CVaRTotalfr2_fwind= mean(PGfr2T_fwind[which(PGfr2T_fwind<VaRTotalfr2_fwind),])\n",
        "VaRTotalfr3_fwind=quantile(PGfr3T_fwind,1-alpha,Ns)\n",
        "CVaRTotalfr3_fwind= mean(PGfr3T_fwind[which(PGfr3T_fwind<VaRTotalfr3_fwind),])\n",
        "\n",
        "#Resumen\n",
        "print(Met)\n",
        "FWD_IND_VaR_CVaR <- rbind(c(VaRTotalfr1_fwind,CVaRTotalfr1_fwind),\n",
        "                          c(VaRTotalfr2_fwind, CVaRTotalfr2_fwind),\n",
        "                          c(VaRTotalfr3_fwind,CVaRTotalfr3_fwind),\n",
        "                          c(VaRTotal_fwind,CVaRTotal_fwind)\n",
        "                          )\n",
        "colnames(FWD_IND_VaR_CVaR ) <-  c(\"VaR\", \"CVaR\")\n",
        "rownames(FWD_IND_VaR_CVaR ) <- c( \"FR1\", \"FR2\", \"FR3\", \"Total Forward IND\")\n",
        "FWD_IND_VaR_CVaR\n"
      ],
      "execution_count": 30,
      "outputs": [
        {
          "output_type": "stream",
          "name": "stdout",
          "text": [
            "[1] \"Componentes Principales Empíricos\"\n",
            "                          VaR        CVaR\n",
            "FR1                    0.0000         NaN\n",
            "FR2                 -262.0359   -313.4498\n",
            "FR3               -28315.7173 -34105.0721\n",
            "Total Forward IND -28439.1012 -34255.8822\n"
          ]
        }
      ]
    },
    {
      "cell_type": "markdown",
      "metadata": {
        "id": "80gR917i3a8n"
      },
      "source": [
        "## Riesgo SWAPS"
      ]
    },
    {
      "cell_type": "code",
      "metadata": {
        "id": "3B6EVEC63ZDJ",
        "outputId": "7012b9ba-53e6-40a9-8176-ce4db86ead8e",
        "colab": {
          "base_uri": "https://localhost:8080/"
        }
      },
      "source": [
        "%%R\n",
        "#Cálculo de matriz de pérdidas y ganancias SWAP\n",
        "\n",
        "#riesgo del swap\n",
        "m=ncol(N)    #PASO CLAVE\n",
        "X_s_sw=matrix(0,Ns,n_if[7]) #Factores de riesgo simulados con base en DeltaX_s x0*(1+Delta_Xs)   #PASO CLAVE\n",
        "V_sw=matrix(0,Ns,m)\n",
        "Vfr1_sw=matrix(0,Ns,m)\n",
        "Vfr2_sw=matrix(0,Ns,m)\n",
        "PG_sw=matrix(0,Ns,m) #Pèrdidas y ganancias\n",
        "PGfr1_sw=matrix(0,Ns,m)\n",
        "PGfr2_sw=matrix(0,Ns,m)\n",
        "PGT_sw=matrix(0,Ns,1)\n",
        "PGfr1T_sw=matrix(0,Ns,1)\n",
        "PGfr2T_sw=matrix(0,Ns,1)\n",
        "\n",
        "DeltaX_s_sw=DeltaX_s[,sum(n_if[1:6],1):sum(n_if[1:7])]    #PASO CLAVE\n",
        "x0_sw=as.numeric(c(XtfwdT[1,],Xvp[1,]))   #PASO CLAVE\n",
        "\n",
        "for (i in 1:Ns)\n",
        "{\n",
        "  X_s_sw[i,]=x0_sw*(1+DeltaX_s_sw[i,])\n",
        "  #PASO CLAVE\n",
        "  V_sw[i,]=swap(por_swT, contratos_swT, nominal_swT, X_s_sw[i,1:(n_if[7]/2)], tasafija_swT, plazocupon_swT, VTplazos_sw, X_s_sw[i,(n_if[7]/2+1):(n_if[7])],N)\n",
        "  #PASO CLAVE\n",
        "  Vfr1_sw[i,]=swap(por_swT, contratos_swT, nominal_swT,X_s_sw[i,1:(n_if[7]/2)], tasafija_swT, plazocupon_swT, VTplazos_sw, Xvp[1,],N)\n",
        "  #PASO CLAVE\n",
        "  Vfr2_sw[i,]=swap(por_swT, contratos_swT, nominal_swT,  XtfwdT[1,], tasafija_swT, plazocupon_swT, VTplazos_sw, X_s_sw[i,(n_if[7]/2+1):(n_if[7])],N)\n",
        "  #PASO CLAVE\n",
        "  PG_sw[i,]=V_sw[i,]-V0_sw\n",
        "  PGfr1_sw[i,]=Vfr1_sw[i,]-V0_sw\n",
        "  PGfr2_sw[i,]=Vfr2_sw[i,]-V0_sw\n",
        "  PGT_sw[i,]=sum(PG_sw[i,])\n",
        "  PGfr1T_sw[i,]=sum(PGfr1_sw[i,])\n",
        "  PGfr2T_sw[i,]=sum(PGfr2_sw[i,])\n",
        "}\n",
        "\n",
        "#VaR por posición\n",
        "VaRCont_sw=matrix(0,1,m)\n",
        "VaRfr1_sw=matrix(0,1,m)\n",
        "VaRfr2_sw=matrix(0,1,m)\n",
        "CVaRCont_sw=matrix(0,1,m)\n",
        "CVaRfr1_sw=matrix(0,1,m)\n",
        "CVaRfr2_sw=matrix(0,1,m)\n",
        "for (i in (1:m))\n",
        "{\n",
        "  VaRCont_sw[i]=quantile(PG_sw[,i],1-alpha,Ns)\n",
        "  VaRfr1_sw[i]=quantile(PGfr1_sw[,i],1-alpha,Ns)\n",
        "  VaRfr2_sw[i]=quantile(PGfr2_sw[,i],1-alpha,Ns)\n",
        "  CVaRfr1_sw[i]= mean(merge(which(PGfr1_sw[,i]<VaRfr1_sw[i]),cbind(seq(1,Ns),PGfr1_sw[,i]), by.x=1,by.y=1)[,2])\n",
        "  CVaRfr2_sw[i]= mean(merge(which(PGfr2_sw[,i]<VaRfr2_sw[i]),cbind(seq(1,Ns),PGfr2_sw[,i]), by.x=1,by.y=1)[,2])\n",
        "  CVaRCont_sw[i]= mean(merge(which(PG_sw[,i]<VaRCont_sw[i]),cbind(seq(1,Ns),PG_sw[,i]), by.x=1,by.y=1)[,2])\n",
        "}\n",
        "\n",
        "#VaR Total\n",
        "\n",
        "VaRTotal_sw=quantile(PGT_sw,1-alpha,Ns)\n",
        "CVaRTotal_sw= mean(merge(which(PGT_sw<VaRTotal_sw),cbind(seq(1,Ns),PGT_sw), by.x=1,by.y=1)[,2])\n",
        "VaRTotalfr1_sw=quantile(PGfr1T_sw,1-alpha,Ns)\n",
        "CVaRTotalfr1_sw= mean(PGfr1T_sw[which(PGfr1T_sw<VaRTotalfr1_sw),])\n",
        "VaRTotalfr2_sw=quantile(PGfr2T_sw,1-alpha,Ns)\n",
        "CVaRTotalfr2_sw= mean(PGfr2T_sw[which(PGfr2T_sw<VaRTotalfr2_sw),])\n",
        "\n",
        "#Resumen VaR y CVaR posición Larga\n",
        "print(Met)\n",
        "SwapL_VaR_CVaR <- rbind(c(VaRfr1_sw[1],CVaRfr1_sw[1]), \n",
        "                        c(VaRfr2_sw[1],CVaRfr2_sw[1]),\n",
        "                        c(VaRCont_sw[1], CVaRCont_sw[1]))\n",
        "colnames(SwapL_VaR_CVaR) <- c(\"VaR\", \"CVaR\")\n",
        "rownames(SwapL_VaR_CVaR) <- c( \"FR1\", \"FR2\", \"Total Swap Largo\")\n",
        "SwapL_VaR_CVaR"
      ],
      "execution_count": 31,
      "outputs": [
        {
          "output_type": "stream",
          "name": "stdout",
          "text": [
            "[1] \"Componentes Principales Empíricos\"\n",
            "                         VaR        CVaR\n",
            "FR1              -26603.8749 -33210.0132\n",
            "FR2                -212.8574   -305.3192\n",
            "Total Swap Largo -26557.8621 -33168.2951\n"
          ]
        }
      ]
    },
    {
      "cell_type": "code",
      "source": [
        "%%R\n",
        "#Resumen VaR y CVaR posición Larga\n",
        "print(Met)\n",
        "SwapC_VaR_CVaR <- rbind(c(VaRfr1_sw[2],CVaRfr1_sw[2]), \n",
        "                        c(VaRfr2_sw[2],CVaRfr2_sw[2]),\n",
        "                        c(VaRCont_sw[2], CVaRCont_sw[2]))\n",
        "colnames(SwapC_VaR_CVaR) <- c(\"VaR\", \"CVaR\")\n",
        "rownames(SwapC_VaR_CVaR) <- c( \"FR1\", \"FR2\", \"Total Swap Corto\")\n",
        "SwapC_VaR_CVaR"
      ],
      "metadata": {
        "colab": {
          "base_uri": "https://localhost:8080/"
        },
        "id": "-iaHEbKkw6k_",
        "outputId": "88306715-b169-42a2-fc2f-316f2f199c35"
      },
      "execution_count": 32,
      "outputs": [
        {
          "output_type": "stream",
          "name": "stdout",
          "text": [
            "[1] \"Componentes Principales Empíricos\"\n",
            "                         VaR        CVaR\n",
            "FR1              -8919.26587 -11120.5954\n",
            "FR2                -89.37095   -127.9211\n",
            "Total Swap Corto -8898.67368 -11092.3328\n"
          ]
        }
      ]
    },
    {
      "cell_type": "code",
      "source": [
        "%%R\n",
        "# VaR Total Swaps\n",
        "print(VaRTotal_sw)\n",
        "\n",
        "# CVaR Total Opciones\n",
        "print(CVaRTotal_sw)"
      ],
      "metadata": {
        "colab": {
          "base_uri": "https://localhost:8080/"
        },
        "id": "EnEBlUMKzkfQ",
        "outputId": "a522911a-7cfa-4336-b56c-614000da4557"
      },
      "execution_count": 33,
      "outputs": [
        {
          "output_type": "stream",
          "name": "stdout",
          "text": [
            "       2% \n",
            "-34771.33 \n",
            "[1] -43736.8\n"
          ]
        }
      ]
    },
    {
      "cell_type": "markdown",
      "metadata": {
        "id": "E-3ehLwY3iwr"
      },
      "source": [
        "## Opciones Tasa de Interés"
      ]
    },
    {
      "cell_type": "code",
      "metadata": {
        "id": "PtnOCFXN3lad",
        "outputId": "6953b96d-98b2-432f-c642-cf56a66cad8f",
        "colab": {
          "base_uri": "https://localhost:8080/"
        }
      },
      "source": [
        "%%R\n",
        "#Cálculo de matriz de pérdidas y ganancias Opciones Tasa de interés\n",
        "#dimensión\n",
        "m=ncol(plazos_oir)  #PASO CLAVE\n",
        "X_s_oir=matrix(0,Ns,n_if[8]) #Factores de riesgo simulados con base en DeltaX_s x0*(1+Delta_Xs) #PASO CLAVE\n",
        "V_oir=matrix(0,Ns,m)\n",
        "Vfr1_oir=matrix(0,Ns,m)\n",
        "Vfr2_oir=matrix(0,Ns,m)\n",
        "Vfr3_oir=matrix(0,Ns,m)\n",
        "PG_oir=matrix(0,Ns,m) #Pèrdidas y ganancias\n",
        "PGfr1_oir=matrix(0,Ns,m)\n",
        "PGfr2_oir=matrix(0,Ns,m)\n",
        "PGfr3_oir=matrix(0,Ns,m)\n",
        "PGT_oir=matrix(0,Ns,1)\n",
        "PGfr1T_oir=matrix(0,Ns,1)\n",
        "PGfr2T_oir=matrix(0,Ns,1)\n",
        "PGfr3T_oir=matrix(0,Ns,1)\n",
        "\n",
        "DeltaX_s_oir=DeltaX_s[,sum(n_if[1:7],1):sum(n_if[1:8])]  #PASO CLAVE\n",
        "x0_oir=X_oir[1,] #PASO CLAVE\n",
        "\n",
        "for (i in 1:Ns)\n",
        "{\n",
        "  X_s_oir[i,]=x0_oir*(1+DeltaX_s_oir[i,])\n",
        "  #PASO CLAVE\n",
        "  V_oir[i,]=  opctint(X_s_oir[i,(1:(n_if[8]/3))],X_s_oir[i,((n_if[8]/3+1):(n_if[8]/3*2))],K_oir,X_s_oir[i,((n_if[8]*2/3+1):(n_if[8]))],plazos_oir,cp_oir,cs_oir,pr_oir,dct_oir)*contratos_oir*nominal_oir #Valor del portafolio  \n",
        "  #PASO CLAVE\n",
        "  Vfr1_oir[i,]=opctint(X_s_oir[i,(1:(n_if[8]/3))],x0_oir[((n_if[8]/3+1):(n_if[8]/3*2))],K_oir,x0_oir[((n_if[8]*2/3+1):(n_if[8]))],plazos_oir,cp_oir,cs_oir,pr_oir,dct_oir)*contratos_oir*nominal_oir #Valor del portafolio  \n",
        "  #PASO CLAVE\n",
        "  Vfr2_oir[i,]=opctint(x0_oir[(1:(n_if[8]/3))],X_s_oir[i,((n_if[8]/3+1):(n_if[8]/3*2))],K_oir,x0_oir[((n_if[8]*2/3+1):(n_if[8]))],plazos_oir,cp_oir,cs_oir,pr_oir,dct_oir)*contratos_oir*nominal_oir #Valor del portafolio  \n",
        "  #PASO CLAVE\n",
        "  Vfr3_oir[i,]=opctint(x0_oir[(1:(n_if[8]/3))],x0_oir[((n_if[8]/3+1):(n_if[8]/3*2))],K_oir,X_s_oir[i,((n_if[8]*2/3+1):(n_if[8]))],plazos_oir,cp_oir,cs_oir,pr_oir,dct_oir)*contratos_oir*nominal_oir #Valor del portafolio  \n",
        "  PG_oir[i,]=V_oir[i,]-V0_oir\n",
        "  PGfr1_oir[i,]=Vfr1_oir[i,]-V0_oir\n",
        "  PGfr2_oir[i,]=Vfr2_oir[i,]-V0_oir\n",
        "  PGfr3_oir[i,]=Vfr3_oir[i,]-V0_oir\n",
        "  PGT_oir[i,]=sum(PG_oir[i,])\n",
        "  PGfr1T_oir[i,]=sum(PGfr1_oir[i,])\n",
        "  PGfr2T_oir[i,]=sum(PGfr2_oir[i,])\n",
        "  PGfr3T_oir[i,]=sum(PGfr3_oir[i,])\n",
        "}\n",
        "\n",
        "\n",
        "#VaR por posición\n",
        "VaRCont_oir=matrix(0,1,m)\n",
        "VaRfr1_oir=matrix(0,1,m)\n",
        "VaRfr2_oir=matrix(0,1,m)\n",
        "VaRfr3_oir=matrix(0,1,m)\n",
        "CVaRCont_oir=matrix(0,1,m)\n",
        "CVaRfr1_oir=matrix(0,1,m)\n",
        "CVaRfr2_oir=matrix(0,1,m)\n",
        "CVaRfr3_oir=matrix(0,1,m)\n",
        "for (i in (1:m))\n",
        "{\n",
        "  VaRCont_oir[i]=quantile(PG_oir[,i],1-alpha,Ns)\n",
        "  VaRfr1_oir[i]=quantile(PGfr1_oir[,i],1-alpha,Ns)\n",
        "  VaRfr2_oir[i]=quantile(PGfr2_oir[,i],1-alpha,Ns)\n",
        "  VaRfr3_oir[i]=quantile(PGfr3_oir[,i],1-alpha,Ns)\n",
        "  CVaRfr1_oir[i]= mean(merge(which(PGfr1_oir[,i]<VaRfr1_oir[i]),cbind(seq(1,Ns),PGfr1_oir[,i]), by.x=1,by.y=1)[,2])\n",
        "  CVaRfr2_oir[i]= mean(merge(which(PGfr2_oir[,i]<VaRfr2_oir[i]),cbind(seq(1,Ns),PGfr2_oir[,i]), by.x=1,by.y=1)[,2])\n",
        "  CVaRfr3_oir[i]= mean(merge(which(PGfr3_oir[,i]<VaRfr3_oir[i]),cbind(seq(1,Ns),PGfr3_oir[,i]), by.x=1,by.y=1)[,2])\n",
        "  CVaRCont_oir[i]= mean(merge(which(PG_oir[,i]<VaRCont_oir[i]),cbind(seq(1,Ns),PG_oir[,i]), by.x=1,by.y=1)[,2])\n",
        "}\n",
        "\n",
        "\n",
        "#VaR Total\n",
        "VaRTotal_oir=quantile(PGT_oir,1-alpha,Ns)\n",
        "CVaRTotal_oir= mean(merge(which(PGT_oir<VaRTotal_oir),cbind(seq(1,Ns),PGT_oir), by.x=1,by.y=1)[,2])\n",
        "VaRTotalfr1_oir=quantile(PGfr1T_oir,1-alpha,Ns)\n",
        "CVaRTotalfr1_oir= mean(PGfr1T_oir[which(PGfr1T_oir<VaRTotalfr1_oir),])\n",
        "VaRTotalfr2_oir=quantile(PGfr2T_oir,1-alpha,Ns)\n",
        "CVaRTotalfr2_oir= mean(PGfr2T_oir[which(PGfr2T_oir<VaRTotalfr2_oir),])\n",
        "VaRTotalfr3_oir=quantile(PGfr3T_oir,1-alpha,Ns)\n",
        "CVaRTotalfr3_oir= mean(PGfr3T_oir[which(PGfr2T_oir<VaRTotalfr2_oir),])\n",
        "\n",
        "#Resumen\n",
        "print(Met)\n",
        "Opcion1_VaR_CVaR <- rbind(c(VaRfr1_oir[1],CVaRfr1_oir[1]),\n",
        "                          c(VaRfr2_oir[1], CVaRfr2_oir[1]),\n",
        "                          c(VaRfr3_oir[1], CVaRfr3_oir[1]),\n",
        "                          c(VaRCont_oir[1],CVaRCont_oir[1])\n",
        ")\n",
        "                  \n",
        "colnames(Opcion1_VaR_CVaR ) <-  c(\"VaR \", \"CVaR\")\n",
        "rownames(Opcion1_VaR_CVaR ) <- c( \"FR1\", \"FR2\", \"FR3\", \"Total Opción 1\")\n",
        "Opcion1_VaR_CVaR "
      ],
      "execution_count": 34,
      "outputs": [
        {
          "output_type": "stream",
          "name": "stdout",
          "text": [
            "[1] \"Componentes Principales Empíricos\"\n",
            "                      VaR         CVaR\n",
            "FR1            -0.01185690 -0.01718864\n",
            "FR2            -0.04730931 -0.06496933\n",
            "FR3            -0.03697411 -0.05915976\n",
            "Total Opción 1 -0.06579279 -0.09042064\n"
          ]
        }
      ]
    },
    {
      "cell_type": "code",
      "source": [
        "%%R\n",
        "#Resumen Opción 2\n",
        "print(Met)\n",
        "Opcion1_VaR_CVaR <- rbind(c(VaRfr1_oir[2],CVaRfr1_oir[2]),\n",
        "                          c(VaRfr2_oir[2], CVaRfr2_oir[2]),\n",
        "                          c(VaRfr3_oir[2], CVaRfr3_oir[2]),\n",
        "                          c(VaRCont_oir[2],CVaRCont_oir[2])\n",
        ")\n",
        "                  \n",
        "colnames(Opcion1_VaR_CVaR ) <-  c(\"VaR \", \"CVaR\")\n",
        "rownames(Opcion1_VaR_CVaR ) <- c( \"FR1\", \"FR2\", \"FR3\", \"Total Opción 2\")\n",
        "Opcion1_VaR_CVaR "
      ],
      "metadata": {
        "colab": {
          "base_uri": "https://localhost:8080/"
        },
        "id": "k6v-t1uRyGTR",
        "outputId": "6902a32a-2849-49f5-f43e-f7b10ba92652"
      },
      "execution_count": 35,
      "outputs": [
        {
          "output_type": "stream",
          "name": "stdout",
          "text": [
            "[1] \"Componentes Principales Empíricos\"\n",
            "                       VaR          CVaR\n",
            "FR1            -0.001358165 -0.001961331\n",
            "FR2            -0.029761120 -0.036901232\n",
            "FR3            -0.027825861 -0.045233508\n",
            "Total Opción 2 -0.037323557 -0.052768472\n"
          ]
        }
      ]
    },
    {
      "cell_type": "code",
      "source": [
        "%%R\n",
        "# VaR Total Opciones\n",
        "print(VaRTotal_oir)\n",
        "\n",
        "# CVaR Total Opciones\n",
        "print(CVaRTotal_oir)"
      ],
      "metadata": {
        "colab": {
          "base_uri": "https://localhost:8080/"
        },
        "id": "G3lhll5CzLKD",
        "outputId": "78568c43-9ecf-48d1-8d79-e8bf41b932f0"
      },
      "execution_count": 36,
      "outputs": [
        {
          "output_type": "stream",
          "name": "stdout",
          "text": [
            "         2% \n",
            "-0.06495489 \n",
            "[1] -0.09932334\n"
          ]
        }
      ]
    },
    {
      "cell_type": "markdown",
      "metadata": {
        "id": "nqHYp5vD3oE5"
      },
      "source": [
        "## Riesgo integral"
      ]
    },
    {
      "cell_type": "code",
      "metadata": {
        "id": "gDa4BHcz3p1a"
      },
      "source": [
        "%%R\n",
        "\n",
        "#Medición de riesgo por factor de riesgo de todo el portafolios\n",
        "#Acciones\n",
        "#1. Acciones \n",
        "#2. Forward de IPC\n",
        "PGPort_ACC=PGfr2T_acc_div+ PGfr3T_fwind #Pérdidas y ganancias\n",
        "VaRPort_ACC=quantile(PGPort_ACC,1-alpha,Ns) #VaR\n",
        "CVaRPort_ACC= mean(PGPort_ACC[which(PGPort_ACC<VaRPort_ACC)]) #CVaR\n",
        "\n",
        "#Tasa de Interés\n",
        "#1. Dado que swaps y bondes son de tasa de interés usaremos PGT_bd y PGT_sw\n",
        "#2. Para futuros usaremos PGfr1T_fwtdc y PGfr2T_fwtdc\n",
        "PGPort_TI=PGT_bd+PGT_sw+PGfr1T_fwtdc+PGfr2T_fwtdc +PGfr2T_fwind+PGfr1T_fwind +PGfr1T_oir +PGfr2T_oir #Pérdidas y ganancias\n",
        "VaRPort_TI=quantile(PGPort_TI,1-alpha,Ns) #VaR\n",
        "CVaRPort_TI= mean(PGPort_TI[which(PGPort_TI<VaRPort_TI)]) #CVaR\n",
        "\n",
        "#Tipo de cambio\n",
        "#1. Dado que swaps y bondes son de tasa de interés no usamos nada\n",
        "#2. Para futuros usamos sólo PGfr3T_fwtdc\n",
        "PGPort_TDC=PGfr1T_acc_div+PGfr3T_fwtdc  #Pérdidas y ganancias\n",
        "VaRPort_TDC=quantile(PGPort_TDC,1-alpha,Ns) #VaR\n",
        "CVaRPort_TDC= mean(PGPort_TDC[which(PGPort_TDC<VaRPort_TDC)]) #CVaR\n",
        "\n",
        "#Volatilidad\n",
        "#1. Sólo aplica la volatilidad de Opciones de tasa de interés\n",
        "\n",
        "PGPort_VOL=PGfr3T_oir  #Pérdidas y ganancias\n",
        "VaRPort_VOL=quantile(PGPort_VOL,1-alpha,Ns) #VaR\n",
        "CVaRPort_VOL= mean(PGPort_VOL[which(PGPort_VOL<VaRPort_VOL)]) #CVaR\n",
        "\n",
        "#Medición de riesgo de todo el portafolios\n",
        "#Sumar todos los PGT de todos los instrumentos\n",
        "\n",
        "PGT_Port=PGPort_ACC+PGPort_TI+PGPort_TDC+PGPort_VOL\n",
        "VaRTotal_Port=quantile(PGT_Port,1-alpha,Ns) #VaR\n",
        "CVaRTotal_Port= mean(PGT_Port[which(PGT_Port<VaRTotal_Port)]) #CVaR\n"
      ],
      "execution_count": 37,
      "outputs": []
    },
    {
      "cell_type": "code",
      "source": [
        "%%R\n",
        "print(Met)\n",
        "#Var y CVaR de Acciones\n",
        "print(VaRPort_ACC)\n",
        "print(CVaRPort_ACC)"
      ],
      "metadata": {
        "colab": {
          "base_uri": "https://localhost:8080/"
        },
        "id": "CfAS04E40HLl",
        "outputId": "ae07a4c3-1109-4807-ff4b-361fcd741dd8"
      },
      "execution_count": 38,
      "outputs": [
        {
          "output_type": "stream",
          "name": "stdout",
          "text": [
            "[1] \"Componentes Principales Empíricos\"\n",
            "       2% \n",
            "-31010.27 \n",
            "[1] -37224.54\n"
          ]
        }
      ]
    },
    {
      "cell_type": "code",
      "source": [
        "%%R\n",
        "#Var y CVaR de Divisas\n",
        "print(VaRPort_TDC)\n",
        "print(CVaRPort_TDC)"
      ],
      "metadata": {
        "colab": {
          "base_uri": "https://localhost:8080/"
        },
        "id": "F_UiFkKF0j7M",
        "outputId": "08ce2405-22b0-4810-dc48-e131318497aa"
      },
      "execution_count": 39,
      "outputs": [
        {
          "output_type": "stream",
          "name": "stdout",
          "text": [
            "       2% \n",
            "-70.02509 \n",
            "[1] -82.65456\n"
          ]
        }
      ]
    },
    {
      "cell_type": "code",
      "source": [
        "%%R\n",
        "#Var y CVaR de Tasas de interés\n",
        "print(VaRPort_TI)\n",
        "print(CVaRPort_TI)"
      ],
      "metadata": {
        "colab": {
          "base_uri": "https://localhost:8080/"
        },
        "id": "wC3VfT3g0xRI",
        "outputId": "4671ee52-c1d1-4340-e035-e53ff4c4b2a2"
      },
      "execution_count": 40,
      "outputs": [
        {
          "output_type": "stream",
          "name": "stdout",
          "text": [
            "       2% \n",
            "-34738.79 \n",
            "[1] -43788.14\n"
          ]
        }
      ]
    },
    {
      "cell_type": "code",
      "source": [
        "%%R\n",
        "#Var y CVaR para Volatilidad\n",
        "print(VaRPort_VOL)\n",
        "print(CVaRPort_VOL)"
      ],
      "metadata": {
        "colab": {
          "base_uri": "https://localhost:8080/"
        },
        "id": "fOc5SSam1CPf",
        "outputId": "3b153e19-48a7-4c81-b934-4137ea773ed4"
      },
      "execution_count": 41,
      "outputs": [
        {
          "output_type": "stream",
          "name": "stdout",
          "text": [
            "         2% \n",
            "-0.06347562 \n",
            "[1] -0.1039105\n"
          ]
        }
      ]
    },
    {
      "cell_type": "code",
      "source": [
        "%%R\n",
        "#Var y CVaR Total del portafolio\n",
        "print(VaRTotal_Port)\n",
        "print(CVaRTotal_Port)"
      ],
      "metadata": {
        "colab": {
          "base_uri": "https://localhost:8080/"
        },
        "id": "ji1Qf_cA1X8X",
        "outputId": "aaa86717-19f3-4156-86e8-2704d8612bdb"
      },
      "execution_count": 42,
      "outputs": [
        {
          "output_type": "stream",
          "name": "stdout",
          "text": [
            "       2% \n",
            "-46061.22 \n",
            "[1] -55185.84\n"
          ]
        }
      ]
    }
  ]
}