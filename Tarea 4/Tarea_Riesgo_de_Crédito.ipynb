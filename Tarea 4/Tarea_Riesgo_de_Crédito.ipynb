{
  "nbformat": 4,
  "nbformat_minor": 0,
  "metadata": {
    "colab": {
      "name": "Tarea Riesgo de Crédito.ipynb",
      "private_outputs": true,
      "provenance": []
    },
    "kernelspec": {
      "name": "python3",
      "display_name": "Python 3"
    },
    "language_info": {
      "name": "python"
    }
  },
  "cells": [
    {
      "cell_type": "markdown",
      "source": [
        "#Tarea 4. Riesgo de Crédito\n",
        "\n",
        "> Nombre: Sánchez Rodríguez Ursula Vanessa\n",
        "\n",
        "> Correo: vanecdp@ciencias.unam.mx\n",
        "\n",
        "> No. de cuenta: 316039161\n",
        "\n"
      ],
      "metadata": {
        "id": "Q_VuoeWEDA-h"
      }
    },
    {
      "cell_type": "code",
      "execution_count": null,
      "metadata": {
        "id": "orz1dOLgB50T"
      },
      "outputs": [],
      "source": [
        "%load_ext rpy2.ipython\n",
        "!rm -rf Riesgos-Financieros\n",
        "!git clone \"https://github.com/vanecdp/Riesgos-Financieros-2022-2\""
      ]
    },
    {
      "cell_type": "code",
      "source": [
        "%%R\n",
        "#require(quantmod)\n",
        "install.packages(\"quantmod\")\n",
        "library(quantmod)\n",
        "#require(data.table)\n",
        "install.packages(\"data.table\")\n",
        "library(data.table)\n",
        "#require(\"PerformanceAnalytics\")\n",
        "install.packages(\"PerformanceAnalytics\")\n",
        "library(\"PerformanceAnalytics\")\n",
        "\n",
        "install.packages(\"Deriv\")\n",
        "library(Deriv)\n",
        "\n",
        "install.packages(\"ResourceSelection\")\n",
        "library(ResourceSelection)\n",
        "library(dplyr)\n",
        "install.packages(\"ggplot2\")\n",
        "library(ggplot2)\n",
        "\n",
        "install.packages(\"quantmod\")\n",
        "install.packages(\"curl\")\n",
        "install.packages(\"data.table\")\n",
        "install.packages(\"RCurl\")\n",
        "install.packages(\"bitops\")\n",
        "install.packages(\"setInternet2\")\n",
        "install.packages(\"rootSolve\")\n",
        "install.packages(\"xml2\")\n",
        "library(rootSolve)\n",
        "library(quantmod)\n",
        "library(RCurl)\n",
        "library(data.table)\n",
        "library(xml2)\n",
        "require(jsonlite)\n",
        "\n",
        "con = gzcon(url('https://github.com/systematicinvestor/SIT/raw/master/sit.gz', 'rb'))\n",
        "source(con)\n",
        "close(con)"
      ],
      "metadata": {
        "id": "h2ONziDnDNcH"
      },
      "execution_count": null,
      "outputs": []
    },
    {
      "cell_type": "markdown",
      "source": [
        "## Ejercicio 1\n"
      ],
      "metadata": {
        "id": "HO6ppxoxDrcA"
      }
    },
    {
      "cell_type": "markdown",
      "source": [
        "Usando la tabla del archivo “Ejer anal discr.xls” (hoja base) que está en la página del curso, encontrar un discriminante lineal con las variables más significativas (pueden hacer uso de la hoja frecuencia del archivo\n",
        "“logit y disc datos.xls ”o bien maximizando la $\\lambda$ o minimizando la $F$ (igualdad de medias)), pueden aplicar también el archivo “andisc.m” para hacer el análisis, obviamente entregar el vector, la tabla de contingencia a priori/discriminante, valor de $\\lambda$, valor de $F$ e interpretar el resultado.\n",
        "\n",
        "**Solución.**"
      ],
      "metadata": {
        "id": "O2eIiC6JSmXn"
      }
    },
    {
      "cell_type": "markdown",
      "source": [
        "Cargamos la base que contiene las variables predictoras y a la variable de clasificación que en este caso es la de Incumplimiento."
      ],
      "metadata": {
        "id": "06Nqft6PR2xd"
      }
    },
    {
      "cell_type": "code",
      "source": [
        "%%R\n",
        "#Cargamos base\n",
        "base <- read.csv(\"Riesgos-Financieros-2022-2/Tarea 4/Base.csv\", header=TRUE, encoding = \"UTF-8\")"
      ],
      "metadata": {
        "id": "ZDLFOnaPDvip"
      },
      "execution_count": null,
      "outputs": []
    },
    {
      "cell_type": "code",
      "source": [
        "%%R\n",
        "head(base)"
      ],
      "metadata": {
        "id": "ddOO7uQpTIwZ"
      },
      "execution_count": null,
      "outputs": []
    },
    {
      "cell_type": "markdown",
      "source": [
        "Haciendo varias pruebas se observó que la $\\lambda$ se maximiza cuando crece el número de variables entonces definiremos la matriz que contiene los valores de las 14 variables como `m`."
      ],
      "metadata": {
        "id": "BKXcGFLxbHq4"
      }
    },
    {
      "cell_type": "code",
      "source": [
        "%%R\n",
        "m <- base[,c(3:14)]\n",
        "head(m)"
      ],
      "metadata": {
        "id": "7Roo4FtEbMTe"
      },
      "execution_count": null,
      "outputs": []
    },
    {
      "cell_type": "markdown",
      "source": [
        "Y definiremos las matrices de covarianzas y correlaciones."
      ],
      "metadata": {
        "id": "fw7Uv5MHkErt"
      }
    },
    {
      "cell_type": "code",
      "source": [
        "%%R\n",
        "#Matriz de Varianzas y Covarianzas\n",
        "Var_Cov <- cov(m)\n",
        "\n",
        "#Clientes buenos\n",
        "n1 <- 126\n",
        "n2 <- 121\n",
        "\n",
        "#Matriz de Correlación\n",
        "Corr <- cor(m) \n"
      ],
      "metadata": {
        "id": "a9vdUkcckKBV"
      },
      "execution_count": null,
      "outputs": []
    },
    {
      "cell_type": "markdown",
      "source": [
        "Luego calcularemos las matrices con las medias de cada variable, donde `Medias_x_B` es para los clientes buenos y `Medias_x_M` para los clientes malos."
      ],
      "metadata": {
        "id": "okQvZDibkOL1"
      }
    },
    {
      "cell_type": "code",
      "source": [
        "%%R\n",
        "#Matriz medias\n",
        "Medias_x_B <- colMeans(m[1:126,])\n",
        "Medias_x_M <- colMeans(m[127:247,])"
      ],
      "metadata": {
        "id": "TZ352X7ckdGF"
      },
      "execution_count": null,
      "outputs": []
    },
    {
      "cell_type": "markdown",
      "source": [
        "Ahora, definimos las matrices *B*, *W*, *T* y el vector a, con el cual nos apoyaremos para definir el discriminante."
      ],
      "metadata": {
        "id": "cDYpiubMkmKQ"
      }
    },
    {
      "cell_type": "code",
      "source": [
        "%%R\n",
        "#Matriz B\n",
        "B <- (n1*n2)/sum(n1,n2)*as.matrix(Medias_x_B - Medias_x_M) %*% t(as.matrix(Medias_x_B - Medias_x_M))\n",
        "\n",
        "#Matriz W\n",
        "var_cov_b <- n1/(n1-1)*n1*cov(m[1:126,])\n",
        "var_cov_m <- n2/(n2-1)*n2*cov(m[127:247,])\n",
        "W <- var_cov_b+ var_cov_m\n",
        "W_inv <- solve(W)\n",
        "T <- B+W\n",
        "\n",
        "#Vector a\n",
        "a <- W_inv %*% as.matrix(Medias_x_B - Medias_x_M)\n"
      ],
      "metadata": {
        "id": "EilmMPQXkhok"
      },
      "execution_count": null,
      "outputs": []
    },
    {
      "cell_type": "markdown",
      "source": [
        "Finalmente, definimos el Discriminante Lineal de Fisher."
      ],
      "metadata": {
        "id": "0YFt6G5Sk49c"
      }
    },
    {
      "cell_type": "code",
      "source": [
        "%%R\n",
        "#Discriminante Lineal de Fisher\n",
        "discriminante_F <- matrix(0,dim(m)[1])\n",
        "\n",
        "for (i in 1:dim(m)[1]){\n",
        "    if(as.matrix((m[i,]- 1/2*(Medias_x_B+ Medias_x_M))) %*% as.matrix(a)>0){\n",
        "        discriminante_F[i] <- 0\n",
        "    }\n",
        "    else{\n",
        "        discriminante_F[i] <- 1\n",
        "    }\n",
        "}"
      ],
      "metadata": {
        "id": "jDLJdJZBZRv_"
      },
      "execution_count": null,
      "outputs": []
    },
    {
      "cell_type": "markdown",
      "source": [
        "Con la cual se obtiene el siguiente valor de $\\lambda$."
      ],
      "metadata": {
        "id": "xAXYwH7ebn8h"
      }
    },
    {
      "cell_type": "code",
      "source": [
        "%%R\n",
        "lambda <- ((t(as.matrix(a)) %*% B) %*% as.matrix(a))/((t(as.matrix(a)) %*% W) %*% as.matrix(a))\n",
        "lambda"
      ],
      "metadata": {
        "id": "RI5MYqXobsfu"
      },
      "execution_count": null,
      "outputs": []
    },
    {
      "cell_type": "markdown",
      "source": [
        "Así, en la siguiente tabla de contingencia podemos observar la comparación de la clasificación a priori con el discriminante lineal."
      ],
      "metadata": {
        "id": "DM4OWLvKWCRv"
      }
    },
    {
      "cell_type": "code",
      "source": [
        "%%R\n",
        "#Tabla de contingencia\n",
        "tabla_comp <- table(base$Incump,discriminante_F)\n",
        "colnames(tabla_comp) <- c(\"Buenos\", \"Malos\")\n",
        "rownames(tabla_comp) <- c(\"Buenos\", \"Malos\")\n",
        "names(dimnames(tabla_comp)) <- c(\"Priori\", \"Discriminante de Fisher\")\n",
        "tabla_comp"
      ],
      "metadata": {
        "id": "8pLJ4lmaQzaq"
      },
      "execution_count": null,
      "outputs": []
    },
    {
      "cell_type": "markdown",
      "source": [
        "Es decir, de los 126 clientes buenos, se clasificaron adecuadamente a 125 y mal a 1, por otro lado, de los 121 clientes malos, todos fueron clasificados adecuadamente."
      ],
      "metadata": {
        "id": "WO_0R1xsWRDk"
      }
    },
    {
      "cell_type": "code",
      "source": [
        "%%R\n",
        "lambda_Wilks <- det(W)/det(T)\n",
        "lambda_Wilks"
      ],
      "metadata": {
        "id": "cEWQorC_EkVR"
      },
      "execution_count": null,
      "outputs": []
    },
    {
      "cell_type": "code",
      "source": [
        "%%R\n",
        "# F (valor observado)\n",
        "F_obs <- (((t(as.matrix(a)) %*% B) %*% as.matrix(a))/count(Medias_x_B))/(((t(as.matrix(a)) %*% W) %*% as.matrix(a))/(sum(n1,n2)-count(Medias_x_B)-1))\n",
        "F_obs"
      ],
      "metadata": {
        "id": "V3jjn_pKiVzx"
      },
      "execution_count": null,
      "outputs": []
    },
    {
      "cell_type": "code",
      "source": [
        "%%R\n",
        "alpha=0.05\n",
        "F_critico <- qf(alpha, count(Medias_x_B), sum(n1,n2)-count(Medias_x_B)-1, lower.tail=F)\n",
        "F_critico"
      ],
      "metadata": {
        "id": "xikUSwq7qBDr"
      },
      "execution_count": null,
      "outputs": []
    },
    {
      "cell_type": "code",
      "source": [
        "%%R\n",
        "# p-value\n",
        "p_value <- 1-  pf(F_obs, count(Medias_x_B), sum(n1,n2)-count(Medias_x_B)-1)\n",
        "p_value\n"
      ],
      "metadata": {
        "id": "2zZsSqfnnOVF"
      },
      "execution_count": null,
      "outputs": []
    },
    {
      "cell_type": "markdown",
      "source": [
        "Dado que el p-value es 0 rechazamos la hipótesis nula de que las medias en los grupos son iguales."
      ],
      "metadata": {
        "id": "_W34GBpUqh6G"
      }
    },
    {
      "cell_type": "markdown",
      "source": [
        "## Ejercicio 3\n",
        "\n",
        "Usando la tabla del archivo “Ejer anal discr.xls” (hoja base) que está en la página del curso, ajustar una regresión logística con las variables más significativas (pueden hacer uso de la hoja frecuencia del\n",
        "archivo “logit y disc datos.xls” y utilizando la prueba de Wald para cada variable), pueden usar el archivo “logitprobit.ipynb” para hacer el análisis, obviamente entregar los coeficientes de regresión, la gráfica de datos observados y ajustados, el nivel de significancia (Devianza) del modelo, es decir la prueba de hipótesis de que la Devianza se distribuye como una $\\chi^2_{n−(m+1)}$, y la interpretación de las variables.\n",
        "\n",
        "**Solución.**"
      ],
      "metadata": {
        "id": "l4QdtmXlI6XI"
      }
    },
    {
      "cell_type": "code",
      "source": [
        "%%R\n",
        "head(base)"
      ],
      "metadata": {
        "id": "XPVjVbkKDqVN"
      },
      "execution_count": null,
      "outputs": []
    },
    {
      "cell_type": "markdown",
      "source": [
        "En este caso la variable *Incump* es la variable de respuesta que representa en Cumplimiento de cada cliente, toma los valores 0 y 1 (Cumplido=0, Incumplido=1)."
      ],
      "metadata": {
        "id": "6stbvhb4JmVw"
      }
    },
    {
      "cell_type": "markdown",
      "source": [
        "Para medir la significancia las variable ajustaremos un modelo logístico usando como variable predictora a cada una de las variables, recordando que un p-value pequeño representa que el parámetro es estadísticamente distinto de cero."
      ],
      "metadata": {
        "id": "wZFkBfeoPK2Z"
      }
    },
    {
      "cell_type": "code",
      "source": [
        "%%R\n",
        "summary(glm(Incump ~Liquid,data=base, family=binomial(link=\"logit\")))"
      ],
      "metadata": {
        "id": "zvnTKV38O6bX"
      },
      "execution_count": null,
      "outputs": []
    },
    {
      "cell_type": "markdown",
      "source": [
        "Para la variable *Liquid* podemos observar que el p-value es muy pequeño por lo que resulta significativa, y la significancia impacta en el AIC, sabiendo que un AIC pequeño representa un buen ajuste por lo que para las demás variables nos fijaremos en este valor y nos quedaremos con las del AIC más pequeño."
      ],
      "metadata": {
        "id": "38p-jRVQUJkG"
      }
    },
    {
      "cell_type": "code",
      "source": [
        "%%R\n",
        "glm(Incump ~Apalanc,data=base, family=binomial(link=\"logit\"))"
      ],
      "metadata": {
        "id": "E7UAxDd3Umg-"
      },
      "execution_count": null,
      "outputs": []
    },
    {
      "cell_type": "code",
      "source": [
        "%%R\n",
        "glm(Incump ~AñosCl,data=base, family=binomial(link=\"logit\"))"
      ],
      "metadata": {
        "id": "00rX3RwDLMdE"
      },
      "execution_count": null,
      "outputs": []
    },
    {
      "cell_type": "code",
      "source": [
        "%%R\n",
        "glm(Incump ~Rentab,data=base, family=binomial(link=\"logit\"))"
      ],
      "metadata": {
        "id": "p8B7NoAcTUkn"
      },
      "execution_count": null,
      "outputs": []
    },
    {
      "cell_type": "code",
      "source": [
        "%%R\n",
        "glm(Incump ~Bancos,data=base, family=binomial(link=\"logit\"))"
      ],
      "metadata": {
        "id": "j3i-BrfHTgME"
      },
      "execution_count": null,
      "outputs": []
    },
    {
      "cell_type": "code",
      "source": [
        "%%R\n",
        "glm(Incump ~PCP_CT,data=base, family=binomial(link=\"logit\"))"
      ],
      "metadata": {
        "id": "OG8wmhv4Tl1r"
      },
      "execution_count": null,
      "outputs": []
    },
    {
      "cell_type": "code",
      "source": [
        "%%R\n",
        "glm(Incump ~Gop_SD ,data=base, family=binomial(link=\"logit\"))"
      ],
      "metadata": {
        "id": "Y2REQJFOTsjV"
      },
      "execution_count": null,
      "outputs": []
    },
    {
      "cell_type": "code",
      "source": [
        "%%R\n",
        "glm(Incump ~RetrTMP,data=base, family=binomial(link=\"logit\"))"
      ],
      "metadata": {
        "id": "GxgxpHYNTtwW"
      },
      "execution_count": null,
      "outputs": []
    },
    {
      "cell_type": "code",
      "source": [
        "%%R\n",
        "glm(Incump ~PLP_PT ,data=base, family=binomial(link=\"logit\"))"
      ],
      "metadata": {
        "id": "yLv0IVewTvVd"
      },
      "execution_count": null,
      "outputs": []
    },
    {
      "cell_type": "code",
      "source": [
        "%%R\n",
        "glm(Incump ~IFAudit,data=base, family=binomial(link=\"logit\"))"
      ],
      "metadata": {
        "id": "zcFdVqJRU5BJ"
      },
      "execution_count": null,
      "outputs": []
    },
    {
      "cell_type": "code",
      "source": [
        "%%R\n",
        "glm(Incump ~UO_VN,data=base, family=binomial(link=\"logit\"))"
      ],
      "metadata": {
        "id": "xRscbSCyU8PJ"
      },
      "execution_count": null,
      "outputs": []
    },
    {
      "cell_type": "code",
      "source": [
        "%%R\n",
        "glm(Incump ~AñoOper,data=base, family=binomial(link=\"logit\"))"
      ],
      "metadata": {
        "id": "VStiT6pWVAfr"
      },
      "execution_count": null,
      "outputs": []
    },
    {
      "cell_type": "markdown",
      "source": [
        "Comparando los AIC que proporciona cada variable notamos que *Gop_SD*, *PCP_CT* y *Apalanc* son las que presentan un AIC más pequeño, es decir, son las más significativas, así que ajustaremos un modelo con estas variables."
      ],
      "metadata": {
        "id": "ShUagdFZ6s_x"
      }
    },
    {
      "cell_type": "code",
      "source": [
        "%%R\n",
        "#Modelo de Rgresión Lineal\n",
        "modelo1 <- glm(Incump ~  Apalanc + PCP_CT+ Gop_SD,data=base, family=binomial(link=\"logit\"))\n",
        "summary(modelo1)"
      ],
      "metadata": {
        "id": "69aq7Z-uVAZw"
      },
      "execution_count": null,
      "outputs": []
    },
    {
      "cell_type": "markdown",
      "source": [
        "Hemos obtenido los siguientes parámetros:\n",
        "\n",
        "$$\\hat{\\beta_0}=-0.4715$$\n",
        "$$\\hat{\\beta_1}= 5.5481 $$\n",
        "$$\\hat{\\beta_2}= 8.2670 $$\n",
        "$$\\hat{\\beta_3}= -16.8367 $$"
      ],
      "metadata": {
        "id": "zdRTzHIcBoNr"
      }
    },
    {
      "cell_type": "markdown",
      "source": [
        "El modelo tiene como covariables a variables continuas de las cuales las primeras dos son continuas, por lo que tenemos tantos patrones de covariables como sujetos por lo que considerar las estadísticas $\\chi^2$ de Pearson y la Devianza (D) es inadecuado para una prueba de Bondad de Ajuste. Entonces, se utilizarás la Estadística de Hosmer-Lemeshow, que propone una solución cuando se tiene un patrón de covariables muy grande, a través de una prueba de bondad de ajuste basada en las probabilidades estimadas por el modelo, agrupando a los individuos por sus probabilidades estimadas, la recomendación es hacer 10 grupos."
      ],
      "metadata": {
        "id": "OLmkfQ-A6nYd"
      }
    },
    {
      "cell_type": "code",
      "source": [
        "%%R\n",
        "#Prueba de Hosmer-Lemshow\n",
        "(HLtest<- hoslem.test(modelo1$y,fitted(modelo1), g = 10))"
      ],
      "metadata": {
        "id": "dQkS5esVWInv"
      },
      "execution_count": null,
      "outputs": []
    },
    {
      "cell_type": "markdown",
      "source": [
        "El p-value es igual a 1 por lo que considerando un nivel de significancia de $\\alpha= 0.05$ concluimos que el modelo ajusta muy bien a los datos."
      ],
      "metadata": {
        "id": "7eRZhqjH6deW"
      }
    },
    {
      "cell_type": "markdown",
      "source": [
        "Con lo anterior podemos hacer una comparación de los valores ajustados versus los observados."
      ],
      "metadata": {
        "id": "pmwLzPJr8GZH"
      }
    },
    {
      "cell_type": "code",
      "source": [
        "%%R\n",
        "cbind(HLtest$observed,HLtest$expected)"
      ],
      "metadata": {
        "id": "sZZfDsJV8Fhj"
      },
      "execution_count": null,
      "outputs": []
    },
    {
      "cell_type": "markdown",
      "source": [
        "La variable $y_0$  representa el número de clientes buenos (Incump=0) y $y_1$  la cantidad de clientes malos (Incump=1) en el rango de probabilidades que les corresponde, mientras que los valores a la derecha son los ajustados por el modelo. Y podemos observar que el ajuste es bueno."
      ],
      "metadata": {
        "id": "bqmQbyzO8RUs"
      }
    },
    {
      "cell_type": "code",
      "source": [
        "%%R\n",
        "# Plot Ajustados vs Observados\n",
        "df <- data.frame(x=base$Cliente,y1=base$Incump,y2=modelo1$fitted.values)\n",
        "\n",
        "colors <- c(\"Ajustados\" = \"#C80A5E\", \"Observados\" = \"#495AAB\")\n",
        "ggplot(df, aes(x=x)) + \n",
        "    geom_point(aes(y=y2, color=\"Ajustados\"))+ \n",
        "    geom_point(aes(y=y1, color=\"Observados\")) + \n",
        "    labs(x=\"Cliente\", y=\"Incumplimiento\", color = \"Legend\") +\n",
        "    scale_color_manual(values = colors)\n"
      ],
      "metadata": {
        "id": "isMNKDrRzzfa"
      },
      "execution_count": null,
      "outputs": []
    },
    {
      "cell_type": "markdown",
      "source": [
        "Como puede observarse los valores ajustados son continuos pero la variable de respuesta es binaria, por lo que podemos definir un punto de corte para realizar una adecuada clasificación y predicción. Si elegimos un punto de corte $c=0.5$ tenemos lo siguiente"
      ],
      "metadata": {
        "id": "mQTm5wYr6UgP"
      }
    },
    {
      "cell_type": "code",
      "source": [
        "%%R\n",
        "pred_mod<-ifelse(modelo1$fitted.values<=0.5,0,1)\n",
        "tabla_cont <- table(base$Incump,pred_mod)\n",
        "colnames(tabla_cont) <- c(\"Buenos\", \"Malos\")\n",
        "rownames(tabla_cont) <- c(\"Buenos\", \"Malos\")\n",
        "tabla_cont"
      ],
      "metadata": {
        "id": "ku5HP0uW-lND"
      },
      "execution_count": null,
      "outputs": []
    },
    {
      "cell_type": "markdown",
      "source": [
        "La tabla anterior nos dice que de 126 clientes buenos el modelo clasificó correctamente 125 y 1 mal, y de 121 clientes malos el modelo clasificó adecuadamente a todos los individuos."
      ],
      "metadata": {
        "id": "3ls3tKIb-8Oh"
      }
    },
    {
      "cell_type": "markdown",
      "source": [
        "Por lo tanto, usando un modelo de regresión logística con predictores:\n",
        "* Apalancamiento \n",
        "* Pasivo corto plazo a capital de trabajo\n",
        "* Generación Operativa\n",
        "\n",
        "tenemos un buen poder predictivo para clasificar a los clientes."
      ],
      "metadata": {
        "id": "WkRJC0KCAxTT"
      }
    },
    {
      "cell_type": "markdown",
      "source": [
        "## Ejercicio 4\n",
        "\n",
        "Utilizando información pública de la acción que ustedes decidan e información de su balance para obtener $K_0$ (buscar en la página de la empresa que decidan analizar), calcular $D$, $\\sigma_K$, para $T = 1$ año, y probalilidad de incumplimiento al tiempo $T$ bajo el modelo de Merton. Calcular volatilidad anual de $\\sigma_A$ con la historia de acciones, utilizar $r$ como el valor del cete más reciente, pueden utilizar el archivo de colab *“MertonKMVR.ipynb”*.\n",
        "\n",
        "**Solución.**\n"
      ],
      "metadata": {
        "id": "sw4r8OhchlWC"
      }
    },
    {
      "cell_type": "markdown",
      "source": [
        "La acción con la que se trabajará es de Mercado Libre (MELI)."
      ],
      "metadata": {
        "id": "U-Kjgy9YV1jW"
      }
    },
    {
      "cell_type": "code",
      "source": [
        "%%R\n",
        "Symbols<-c  (\"MELI\")\n",
        "\n",
        "start_date=Sys.Date()-3660 #fecha inicial\n",
        "\n",
        "#Creación del objeto para guardar los datos\n",
        "dataEnv<-new.env()\n",
        "\n",
        "#obtener los datos\n",
        "getSymbols.yahoo(Symbols,env=dataEnv,from=start_date)\n",
        "\n",
        "#limpiarlos, alinearnos y quedarnos con el precio de cierre \n",
        "\n",
        "#muestra de datos\n",
        "#Nos quedamos con los precios\n",
        "stock_prices = na.omit(dataEnv$`MELI`)\n",
        "stock_prices=stock_prices[,4] #Close\n",
        "tail(stock_prices[,])"
      ],
      "metadata": {
        "id": "V0qKzGfglFUr"
      },
      "execution_count": null,
      "outputs": []
    },
    {
      "cell_type": "code",
      "metadata": {
        "id": "hQ_Vf4r2LMD-"
      },
      "source": [
        "%%R\n",
        "#PARA CARGAR EL NÚMERO DE ACCIONES EN VENTA\n",
        "\n",
        "getQuote <- function(ticks) {\n",
        "  qRoot <- \"https://query1.finance.yahoo.com/v7/finance/quote?fields=symbol,longName,regularMarketPrice,regularMarketChange,regularMarketTime,sharesOutstanding,bookValue&formatted=false&symbols=\"\n",
        "  z <- fromJSON(paste(qRoot, paste(ticks, collapse=\",\"), sep=\"\"))\n",
        "  z <- z$quoteResponse$result[,c(\"symbol\", \"regularMarketTime\", \"regularMarketPrice\", \"regularMarketChange\", \"longName\", \"sharesOutstanding\", \"bookValue\" )]\n",
        "  row.names(z) <- z$symbol\n",
        "  z$symbol <- NULL\n",
        "  names(z) <- c(\"Time\", \"Price\", \"Change\", \"Name\", \"Numeroacciones\", \"valorlibros\")\n",
        "  z$Time <- as.POSIXct(z$Time, origin = '1970-01-01 00:00:00')\n",
        "  return(z)\n",
        "}\n",
        "ticks=Symbols\n",
        "stqt=getQuote(Symbols)\n",
        "\n",
        "#PARA CARGAR LOS ESTADOS FINANCIEROS Y FLUJOS DE EFECTIVO\n",
        "url <- \"https://finance.yahoo.com/quote/\"\n",
        "scrapy_stocks <- function(stock){\n",
        "  if (\"rvest\" %in% installed.packages()) {\n",
        "    library(rvest)\n",
        "  }else{\n",
        "    install.packages(\"rvest\")\n",
        "    library(rvest)\n",
        "  }\n",
        "  for (i in 1:length(stock)) {\n",
        "    tryCatch(\n",
        "      {\n",
        "        # Income Statement\n",
        "        # financial <- paste0(url,stock[i],\"/financials?p=\",stock[i])\n",
        "        # wahis.session <- html_session(financial)                                \n",
        "        # p <-    wahis.session %>% \n",
        "        #   html_nodes(xpath = '//*[@id=\"Col1-1-Financials-Proxy\"]/section/div[4]/div[1]/div[1]/div[2]') %>%\n",
        "        #   .[[1]] %>% html_children() %>% html_nodes(\"div\")\n",
        "        # suppressWarnings(Values <- p[sapply(p, function(x){length(x %>% html_attrs())}) == 3] %>% \n",
        "        #                    html_text() %>% gsub(pattern = \",\",replacement = \"\") %>% \n",
        "        #                    gsub(pattern = \"-\",replacement = 0) %>% as.numeric()) \n",
        "        # Headers <- wahis.session %>% \n",
        "        #   html_nodes(xpath = '//*[@id=\"Col1-1-Financials-Proxy\"]/section/div[4]/div[1]/div[1]') %>% \n",
        "        #   .[[1]] %>% html_nodes(\"span\") %>% html_text() %>% head()\n",
        "        # Concepts <- p[sapply(p, function(x){length(x %>% html_attrs())}) == 2] %>% html_text() %>% .[seq(2,88,4)]\n",
        "        # IS <- data.frame(Breakdown = Concepts[-c(4,16,19)], matrix(Values[!is.na(Values)], ncol = 5, byrow = T))\n",
        "        # names(IS) <- Headers\n",
        "        # temp1 <- IS\n",
        "        \n",
        "        # Balance Sheet\n",
        "        bsheet <- paste0(url,stock[i],\"/balance-sheet?p=\",stock[i])\n",
        "        wahis.session <- html_session(bsheet)\n",
        "        p <-    wahis.session %>% \n",
        "          html_nodes(xpath = '//*[@id=\"Col1-1-Financials-Proxy\"]/section/div[4]/div[1]/div[1]/div[2]') %>%\n",
        "          .[[1]] %>% html_children() %>% html_nodes(\"div\")\n",
        "        suppressWarnings(Values <- p[sapply(p, function(x){length(x %>% html_attrs())}) == 3] %>% \n",
        "                           html_text() %>% gsub(pattern = \",\",replacement = \"\") %>% gsub(pattern = \"-\",replacement = 0) %>% as.numeric()) \n",
        "        Headers <- wahis.session %>% \n",
        "          html_nodes(xpath = '//*[@id=\"Col1-1-Financials-Proxy\"]/section/div[4]/div[1]/div[1]') %>% \n",
        "          .[[1]] %>% html_nodes(\"span\") %>% html_text() %>% head(5)\n",
        "        Concepts <- p[sapply(p, function(x){length(x %>% html_attrs())}) == 2] %>% html_text() %>% .[seq(2,175,4)]\n",
        "        BS <- data.frame(Breakdown = Concepts[-c(1:3,11,12,22:24,32,39)], matrix(Values[!is.na(Values)], ncol = 4, byrow = T))\n",
        "        names(BS) <- Headers\n",
        "        temp2 <- BS\n",
        "        \n",
        "        # Cash flows\n",
        "        # cash_f <- paste0(url,stock[i],\"/cash-flow?p=\",stock[i])\n",
        "        # wahis.session <- html_session(cash_f)\n",
        "        # p <-    wahis.session %>% \n",
        "        #   html_nodes(xpath = '//*[@id=\"Col1-1-Financials-Proxy\"]/section/div[4]/div[1]/div[1]/div[2]') %>%\n",
        "        #   .[[1]] %>% html_children() %>% html_nodes(\"div\")\n",
        "        # suppressWarnings(Values <- p[sapply(p, function(x){length(x %>% html_attrs())}) == 3] %>% \n",
        "        #                    html_text() %>% gsub(pattern = \",\",replacement = \"\") %>% gsub(pattern = \"-\",replacement = 0) %>% as.numeric())\n",
        "        # Headers <- wahis.session %>% \n",
        "        #   html_nodes(xpath = '//*[@id=\"Col1-1-Financials-Proxy\"]/section/div[4]/div[1]/div[1]') %>% \n",
        "        #   .[[1]] %>% html_nodes(\"span\") %>% html_text() %>% head()\n",
        "        # Concepts <- p[sapply(p, function(x){length(x %>% html_attrs())}) == 2] %>% html_text() %>% .[seq(2,133,4)]\n",
        "        # CF <- data.frame(Breakdown = Concepts[-c(1,13,20,30)], matrix(Values[!is.na(Values)], ncol = 5, byrow = T))\n",
        "        # names(CF) <- Headers\n",
        "        # temp3 <- CF\n",
        "        \n",
        "        # Shares Outstanding\n",
        "        stock_url <- paste0(url,stock[i],\"/key-statistics?p=\",stock[i])\n",
        "        SO <- html_session(stock_url) %>%\n",
        "          html_nodes(xpath = '//*[@id=\"Col1-0-KeyStatistics-Proxy\"]/section/div[2]/div[2]/div/div[2]/div/table/tbody/tr[3]/td[2]') %>% \n",
        "          html_text() %>% gsub(pattern = \"[A-z]\",replacement = \"\") %>% as.numeric()\n",
        "        temp4 <- SO\n",
        "        \n",
        "        assign(paste0(stock[i],'.f'),value = list(IS = temp1,BS = temp2,CF = temp3, SO = temp4),envir = parent.frame())\n",
        "        \n",
        "      },\n",
        "      error = function(cond){\n",
        "        message(stock[i], \"Give error \",cond)\n",
        "      }\n",
        "    )\n",
        "  }\n",
        "}\n",
        "\n",
        "#stock=Symbols\n",
        "#scrapy_stocks(Symbols) \n",
        "#attach(WALMEX.MX.f)\n",
        "#WALMEX.MX.f$BS\n",
        "#WALMEX.MX.f$IS\n",
        "#WALMEX.MX.f$CF\n",
        "#BS\n",
        "\n",
        "stqt"
      ],
      "execution_count": null,
      "outputs": []
    },
    {
      "cell_type": "code",
      "source": [
        "%%R\n",
        "TSE <- \"Total stockholders' equity\"\n",
        "TL <- \"Total Liabilities\"\n",
        "# dt <- colnames(BS)[2] # ÚLTIMA FECHA DISPONIBLE\n",
        "\n",
        "#Fecha de valuación\n",
        "dt=\"12/31/2021\"\n",
        "\n",
        "#Total stockholders' equity en millones\n",
        "# K_0=BS[BS$Breakdown==TSE, dt]*1000/1000000\n",
        "K_0=1531691*1000/1000000\n",
        "\n",
        "#Total Liabilities DEUDA ACTUAL en millones\n",
        "D_0=8569467*1000/1000000\n",
        "\n",
        "#Shares Outstanding (Sexpresa en miles de millones en la página) en millones\n",
        "Numeroacciones=stqt$Numeroacciones/1000000\n",
        "\n",
        "dt=strptime(dt, \"%m/%d/%Y\")\n",
        "dt=format(dt, \"%Y-%m\")\n",
        "\n",
        "n=nrow(stock_prices[paste(\"/\",dt,sep=\"\")]) #NUMERO DE FILAS A ANALIZAR PARA EL ÚLTIMO DATO\n",
        "A_0=stock_prices[paste(\"/\",dt,sep=\"\")][n] #valores actuales\n",
        "\n",
        "print(\"precio actual de la acción\")\n",
        "print(A_0)\n",
        "\n",
        "A_0=A_0*Numeroacciones #VALOR ACTUAL DE LAS ACCIONES VALOR DE ACCIÓN POR ACCIONES DISPONIBLES\n",
        "\n",
        "\n",
        "A=stock_prices[paste(\"/\",dt,sep=\"\")]  #VECTOR DE PRECIOS \n",
        "\n",
        "vol_A=sqrt(var(log(as.matrix(A[2:n])/as.matrix(A[1:(n-1)]))))*sqrt(252) #VOLATILIDAD ANUAL\n",
        "\n",
        "#Valor del CETE\n",
        "r=0.0715\n",
        "T=1\n",
        "\n",
        "\n",
        "print(\"Ratio entre A0 y K0\")\n",
        "print(A_0/K_0)\n"
      ],
      "metadata": {
        "id": "FDitcKg01BPj"
      },
      "execution_count": null,
      "outputs": []
    },
    {
      "cell_type": "code",
      "source": [
        "%%R\n",
        "x=c(D_0,vol_A)\n",
        "\n",
        "#Función para estimar vol_k y D\n",
        "G = function(x) \n",
        "{\n",
        "  vol_k <- x[2]\n",
        "  D <- x[1]\n",
        "  c(A_0-K_0*pnorm((log(K_0/D)+(r+0.5*vol_k^2)*T)/(vol_k*sqrt(T)))  \n",
        "  +D*exp(-r*T)*pnorm((log(K_0/D)+(r-0.5*vol_k^2)*T)/(vol_k*sqrt(T))),\n",
        "  A_0*vol_A-vol_k*K_0*pnorm((log(K_0/D)+(r+0.5*vol_k^2)*T)/(vol_k*sqrt(T))) )\n",
        "}\n",
        "\n",
        "ss=multiroot(G,x,positive = TRUE) #RESOLVER EL SISTEMA.\n",
        "\n",
        "D=ss$root[1]\n",
        "vol_k=ss$root[2]\n",
        "\n",
        "print(\"D/D_0\")\n",
        "print(ss$root[1]/D_0)\n",
        "print(\"Vol_A/Vol_K\")\n",
        "print(vol_A/ss$root[2])\n",
        "print(\"evaluacion en raíces\")\n",
        "print(G(c(D,vol_k)))\n",
        "\n",
        "#Probabilidad de incumplimiento\n",
        "PD_merton=1-pnorm((log(K_0/D)+(r+0.5*vol_k^2)*T)/(vol_k*sqrt(T)))\n",
        "print(\"PD MERTON\")\n",
        "PD_merton"
      ],
      "metadata": {
        "id": "cqSwrBZgBO8s"
      },
      "execution_count": null,
      "outputs": []
    },
    {
      "cell_type": "code",
      "source": [
        "%%R\n",
        "#Sólo estimar la volatilidad dada la deuda\n",
        "#Probabilidad de Incumplimiento\n",
        "\n",
        "Vk = function(x) \n",
        "{\n",
        "  vol_k <- x\n",
        "  ((vol_k/vol_A)*(K_0/A_0))/(pnorm((log(K_0/1)+(r+0.5*vol_k^2)*T)/(vol_k*sqrt(T))))\n",
        "}\n",
        "\n",
        "#Definir una Deuda\n",
        "D1=D_0\n",
        "x=vol_A #semilla de la vol_k\n",
        "\n",
        "ss=multiroot(Vk,x,positive = TRUE) #RESOLVER EL SISTEMA.\n",
        "\n",
        "\n",
        "print(\"vol_k\")\n",
        "vol_k=ss$root\n",
        "print(vol_k)\n",
        "print(\"Ratio vol_k/vol_A\")\n",
        "print(ss$root[1]/vol_A)\n",
        "# print(\"valor Vk bajo solución\")\n",
        "# Vk(vol_k)\n",
        "\n",
        "PD_merton=1-pnorm((log(K_0/D_0)+(r-0.5*vol_k^2)*T)/(vol_k*sqrt(T)))\n",
        "\n",
        "print(\"Deuda sencilla\")\n",
        "print(D_0)\n",
        "print(\"Vol estimada\")\n",
        "vol_k\n",
        "print(\"Vol semilla\")\n",
        "vol_A\n",
        "print(\"PD Merton\")\n",
        "PD_merton"
      ],
      "metadata": {
        "id": "t7DwkXNeBpHz"
      },
      "execution_count": null,
      "outputs": []
    },
    {
      "cell_type": "code",
      "source": [
        "%%R\n",
        "#KMV\n",
        "#Función para estimar vol_k y D\n",
        "Gkmv = function(x) \n",
        "{\n",
        "  vol_k <- x[2]\n",
        "  K_0 <- x[1]\n",
        "  c(A_0-K_0*pnorm((log(K_0/D)+(r+0.5*vol_k^2)*T)/(vol_k*sqrt(T)))+D*exp(-r*T)*pnorm((log(K_0/D)+(r-0.5*vol_k^2)*T)/(vol_k*sqrt(T))),\n",
        "    A_0*vol_A-vol_k*K_0*pnorm((log(K_0/D)+(r+0.5*vol_k^2)*T)/(vol_k*sqrt(T))) )\n",
        "}\n",
        "\n",
        "D=D_0\n",
        "\n",
        "x=c(K_0,vol_A)\n",
        "\n",
        "ss=multiroot(Gkmv,x,positive = TRUE) #RESOLVER EL SISTEMA.\n",
        "\n",
        "K_e=ss$root[1]\n",
        "vol_k=ss$root[2]\n",
        "# print(\"Cociente K_0/D_0\")\n",
        "K_e/D_0\n",
        "# print(\"Cociente vol_K/vol_A\")\n",
        "ss$root[2]/vol_A\n",
        "# print(\"Valor de solución en función:\")\n",
        "Gkmv(c(K_e,vol_k))\n",
        "\n",
        "DI=(K_e-D)/(vol_k*K_0)\n",
        "print(\"DI\")\n",
        "print(DI)\n",
        "EDF=pnorm(-DI)\n",
        "print(\"EDF Normal\")\n",
        "EDF\n"
      ],
      "metadata": {
        "id": "-Ny1QDqmBsbt"
      },
      "execution_count": null,
      "outputs": []
    },
    {
      "cell_type": "markdown",
      "source": [
        "En resumen, para la acción de Mercado Libre se tiene:\n",
        "$$K_0=1,531,691,000$$ \n",
        "$$D_0=8,569,467,000$$\n",
        "$$\\sigma_A=0.4363978$$\n",
        "\n",
        "Con una probabilidad de incumplimiento\n",
        "$$P= 0$$\n",
        "cuando la deuda y la volatilidad son estimadas, pero cuando se calcula con la deuda igual a $D_0$ se obtiene la siguiente probabilidad de Merton\n",
        "$$P=1$$\n",
        "este valor se puede deber a que la deuda es casi 8 veces el valor de la empresa al tiempo $t=0$.\n",
        "\n",
        "(Los valores pueden cambiar debido a la fecha de valuación.)\n"
      ],
      "metadata": {
        "id": "b2AU8uEc0Esg"
      }
    }
  ]
}