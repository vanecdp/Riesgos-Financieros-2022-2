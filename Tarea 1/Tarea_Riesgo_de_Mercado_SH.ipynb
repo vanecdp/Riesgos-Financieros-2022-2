{
  "nbformat": 4,
  "nbformat_minor": 0,
  "metadata": {
    "colab": {
      "name": "Tarea Riesgo de Mercado SH.ipynb",
      "provenance": [],
      "collapsed_sections": [],
      "toc_visible": true
    },
    "kernelspec": {
      "name": "python3",
      "display_name": "Python 3"
    }
  },
  "cells": [
    {
      "cell_type": "code",
      "metadata": {
        "id": "rAfq7pI7buTI"
      },
      "source": [
        "# %load_ext rpy2.ipython\n",
        "# !rm -rf RiesgosFinancieros\n",
        "# !git clone \"https://github.com/pikey-msc/RiesgosFinancieros/\""
      ],
      "execution_count": null,
      "outputs": []
    },
    {
      "cell_type": "code",
      "source": [
        "%load_ext rpy2.ipython\n",
        "!rm -rf Riesgos-Financieros\n",
        "!git clone \"https://github.com/act-prma/RiesgosFinancieros\""
      ],
      "metadata": {
        "colab": {
          "base_uri": "https://localhost:8080/"
        },
        "id": "T_8rneybshlw",
        "outputId": "0ab34b70-27dd-4700-fea8-fafe6c32b417"
      },
      "execution_count": 3,
      "outputs": [
        {
          "output_type": "stream",
          "name": "stdout",
          "text": [
            "The rpy2.ipython extension is already loaded. To reload it, use:\n",
            "  %reload_ext rpy2.ipython\n",
            "Cloning into 'RiesgosFinancieros'...\n",
            "remote: Enumerating objects: 584, done.\u001b[K\n",
            "remote: Counting objects: 100% (173/173), done.\u001b[K\n",
            "remote: Compressing objects: 100% (26/26), done.\u001b[K\n",
            "remote: Total 584 (delta 150), reused 146 (delta 146), pack-reused 411\u001b[K\n",
            "Receiving objects: 100% (584/584), 25.89 MiB | 9.88 MiB/s, done.\n",
            "Resolving deltas: 100% (372/372), done.\n"
          ]
        }
      ]
    },
    {
      "cell_type": "code",
      "metadata": {
        "id": "CQO2WUGWbAKN",
        "outputId": "575925e5-efed-49bc-e2e5-572b729f296e",
        "colab": {
          "base_uri": "https://localhost:8080/"
        }
      },
      "source": [
        "%%R\n",
        "#require(quantmod)\n",
        "install.packages(\"quantmod\")\n",
        "library(quantmod)\n",
        "#require(data.table)\n",
        "install.packages(\"data.table\")\n",
        "library(data.table)\n",
        "#require(\"PerformanceAnalytics\")\n",
        "install.packages(\"PerformanceAnalytics\")\n",
        "library(\"PerformanceAnalytics\")\n",
        "\n",
        "install.packages(\"Deriv\")\n",
        "library(Deriv)\n",
        "\n",
        "\n",
        "library(dplyr)\n",
        "con = gzcon(url('https://github.com/systematicinvestor/SIT/raw/master/sit.gz', 'rb'))\n",
        "source(con)\n",
        "close(con)"
      ],
      "execution_count": 259,
      "outputs": [
        {
          "output_type": "stream",
          "name": "stderr",
          "text": [
            "R[write to console]: Installing package into ‘/usr/local/lib/R/site-library’\n",
            "(as ‘lib’ is unspecified)\n",
            "\n",
            "R[write to console]: trying URL 'https://cran.rstudio.com/src/contrib/quantmod_0.4.18.tar.gz'\n",
            "\n",
            "R[write to console]: Content type 'application/x-gzip'\n",
            "R[write to console]:  length 154512 bytes (150 KB)\n",
            "\n",
            "R[write to console]: =\n",
            "R[write to console]: =\n",
            "R[write to console]: =\n",
            "R[write to console]: =\n",
            "R[write to console]: =\n",
            "R[write to console]: =\n",
            "R[write to console]: =\n",
            "R[write to console]: =\n",
            "R[write to console]: =\n",
            "R[write to console]: =\n",
            "R[write to console]: =\n",
            "R[write to console]: =\n",
            "R[write to console]: =\n",
            "R[write to console]: =\n",
            "R[write to console]: =\n",
            "R[write to console]: =\n",
            "R[write to console]: =\n",
            "R[write to console]: =\n",
            "R[write to console]: =\n",
            "R[write to console]: =\n",
            "R[write to console]: =\n",
            "R[write to console]: =\n",
            "R[write to console]: =\n",
            "R[write to console]: =\n",
            "R[write to console]: =\n",
            "R[write to console]: =\n",
            "R[write to console]: =\n",
            "R[write to console]: =\n",
            "R[write to console]: =\n",
            "R[write to console]: =\n",
            "R[write to console]: =\n",
            "R[write to console]: =\n",
            "R[write to console]: =\n",
            "R[write to console]: =\n",
            "R[write to console]: =\n",
            "R[write to console]: =\n",
            "R[write to console]: =\n",
            "R[write to console]: =\n",
            "R[write to console]: =\n",
            "R[write to console]: =\n",
            "R[write to console]: =\n",
            "R[write to console]: =\n",
            "R[write to console]: =\n",
            "R[write to console]: =\n",
            "R[write to console]: =\n",
            "R[write to console]: =\n",
            "R[write to console]: =\n",
            "R[write to console]: =\n",
            "R[write to console]: =\n",
            "R[write to console]: =\n",
            "R[write to console]: \n",
            "\n",
            "R[write to console]: downloaded 150 KB\n",
            "\n",
            "\n",
            "R[write to console]: \n",
            "\n",
            "R[write to console]: \n",
            "R[write to console]: The downloaded source packages are in\n",
            "\t‘/tmp/RtmpVTYqxY/downloaded_packages’\n",
            "R[write to console]: \n",
            "R[write to console]: \n",
            "\n",
            "R[write to console]: Installing package into ‘/usr/local/lib/R/site-library’\n",
            "(as ‘lib’ is unspecified)\n",
            "\n",
            "R[write to console]: trying URL 'https://cran.rstudio.com/src/contrib/data.table_1.14.2.tar.gz'\n",
            "\n",
            "R[write to console]: Content type 'application/x-gzip'\n",
            "R[write to console]:  length 5301817 bytes (5.1 MB)\n",
            "\n",
            "R[write to console]: =\n",
            "R[write to console]: =\n",
            "R[write to console]: =\n",
            "R[write to console]: =\n",
            "R[write to console]: =\n",
            "R[write to console]: =\n",
            "R[write to console]: =\n",
            "R[write to console]: =\n",
            "R[write to console]: =\n",
            "R[write to console]: =\n",
            "R[write to console]: =\n",
            "R[write to console]: =\n",
            "R[write to console]: =\n",
            "R[write to console]: =\n",
            "R[write to console]: =\n",
            "R[write to console]: =\n",
            "R[write to console]: =\n",
            "R[write to console]: =\n",
            "R[write to console]: =\n",
            "R[write to console]: =\n",
            "R[write to console]: =\n",
            "R[write to console]: =\n",
            "R[write to console]: =\n",
            "R[write to console]: =\n",
            "R[write to console]: =\n",
            "R[write to console]: =\n",
            "R[write to console]: =\n",
            "R[write to console]: =\n",
            "R[write to console]: =\n",
            "R[write to console]: =\n",
            "R[write to console]: =\n",
            "R[write to console]: =\n",
            "R[write to console]: =\n",
            "R[write to console]: =\n",
            "R[write to console]: =\n",
            "R[write to console]: =\n",
            "R[write to console]: =\n",
            "R[write to console]: =\n",
            "R[write to console]: =\n",
            "R[write to console]: =\n",
            "R[write to console]: =\n",
            "R[write to console]: =\n",
            "R[write to console]: =\n",
            "R[write to console]: =\n",
            "R[write to console]: =\n",
            "R[write to console]: =\n",
            "R[write to console]: =\n",
            "R[write to console]: =\n",
            "R[write to console]: =\n",
            "R[write to console]: =\n",
            "R[write to console]: \n",
            "\n",
            "R[write to console]: downloaded 5.1 MB\n",
            "\n",
            "\n",
            "R[write to console]: \n",
            "\n",
            "R[write to console]: \n",
            "R[write to console]: The downloaded source packages are in\n",
            "\t‘/tmp/RtmpVTYqxY/downloaded_packages’\n",
            "R[write to console]: \n",
            "R[write to console]: \n",
            "\n",
            "R[write to console]: Installing package into ‘/usr/local/lib/R/site-library’\n",
            "(as ‘lib’ is unspecified)\n",
            "\n",
            "R[write to console]: trying URL 'https://cran.rstudio.com/src/contrib/PerformanceAnalytics_2.0.4.tar.gz'\n",
            "\n",
            "R[write to console]: Content type 'application/x-gzip'\n",
            "R[write to console]:  length 2455098 bytes (2.3 MB)\n",
            "\n",
            "R[write to console]: =\n",
            "R[write to console]: =\n",
            "R[write to console]: =\n",
            "R[write to console]: =\n",
            "R[write to console]: =\n",
            "R[write to console]: =\n",
            "R[write to console]: =\n",
            "R[write to console]: =\n",
            "R[write to console]: =\n",
            "R[write to console]: =\n",
            "R[write to console]: =\n",
            "R[write to console]: =\n",
            "R[write to console]: =\n",
            "R[write to console]: =\n",
            "R[write to console]: =\n",
            "R[write to console]: =\n",
            "R[write to console]: =\n",
            "R[write to console]: =\n",
            "R[write to console]: =\n",
            "R[write to console]: =\n",
            "R[write to console]: =\n",
            "R[write to console]: =\n",
            "R[write to console]: =\n",
            "R[write to console]: =\n",
            "R[write to console]: =\n",
            "R[write to console]: =\n",
            "R[write to console]: =\n",
            "R[write to console]: =\n",
            "R[write to console]: =\n",
            "R[write to console]: =\n",
            "R[write to console]: =\n",
            "R[write to console]: =\n",
            "R[write to console]: =\n",
            "R[write to console]: =\n",
            "R[write to console]: =\n",
            "R[write to console]: =\n",
            "R[write to console]: =\n",
            "R[write to console]: =\n",
            "R[write to console]: =\n",
            "R[write to console]: =\n",
            "R[write to console]: =\n",
            "R[write to console]: =\n",
            "R[write to console]: =\n",
            "R[write to console]: =\n",
            "R[write to console]: =\n",
            "R[write to console]: =\n",
            "R[write to console]: =\n",
            "R[write to console]: =\n",
            "R[write to console]: =\n",
            "R[write to console]: =\n",
            "R[write to console]: \n",
            "\n",
            "R[write to console]: downloaded 2.3 MB\n",
            "\n",
            "\n",
            "R[write to console]: \n",
            "\n",
            "R[write to console]: \n",
            "R[write to console]: The downloaded source packages are in\n",
            "\t‘/tmp/RtmpVTYqxY/downloaded_packages’\n",
            "R[write to console]: \n",
            "R[write to console]: \n",
            "\n",
            "R[write to console]: Installing package into ‘/usr/local/lib/R/site-library’\n",
            "(as ‘lib’ is unspecified)\n",
            "\n",
            "R[write to console]: trying URL 'https://cran.rstudio.com/src/contrib/Deriv_4.1.3.tar.gz'\n",
            "\n",
            "R[write to console]: Content type 'application/x-gzip'\n",
            "R[write to console]:  length 37214 bytes (36 KB)\n",
            "\n",
            "R[write to console]: =\n",
            "R[write to console]: =\n",
            "R[write to console]: =\n",
            "R[write to console]: =\n",
            "R[write to console]: =\n",
            "R[write to console]: =\n",
            "R[write to console]: =\n",
            "R[write to console]: =\n",
            "R[write to console]: =\n",
            "R[write to console]: =\n",
            "R[write to console]: =\n",
            "R[write to console]: =\n",
            "R[write to console]: =\n",
            "R[write to console]: =\n",
            "R[write to console]: =\n",
            "R[write to console]: =\n",
            "R[write to console]: =\n",
            "R[write to console]: =\n",
            "R[write to console]: =\n",
            "R[write to console]: =\n",
            "R[write to console]: =\n",
            "R[write to console]: =\n",
            "R[write to console]: =\n",
            "R[write to console]: =\n",
            "R[write to console]: =\n",
            "R[write to console]: =\n",
            "R[write to console]: =\n",
            "R[write to console]: =\n",
            "R[write to console]: =\n",
            "R[write to console]: =\n",
            "R[write to console]: =\n",
            "R[write to console]: =\n",
            "R[write to console]: =\n",
            "R[write to console]: =\n",
            "R[write to console]: =\n",
            "R[write to console]: =\n",
            "R[write to console]: =\n",
            "R[write to console]: =\n",
            "R[write to console]: =\n",
            "R[write to console]: =\n",
            "R[write to console]: =\n",
            "R[write to console]: =\n",
            "R[write to console]: =\n",
            "R[write to console]: =\n",
            "R[write to console]: =\n",
            "R[write to console]: =\n",
            "R[write to console]: =\n",
            "R[write to console]: =\n",
            "R[write to console]: =\n",
            "R[write to console]: =\n",
            "R[write to console]: \n",
            "\n",
            "R[write to console]: downloaded 36 KB\n",
            "\n",
            "\n",
            "R[write to console]: \n",
            "\n",
            "R[write to console]: \n",
            "R[write to console]: The downloaded source packages are in\n",
            "\t‘/tmp/RtmpVTYqxY/downloaded_packages’\n",
            "R[write to console]: \n",
            "R[write to console]: \n",
            "\n"
          ]
        }
      ]
    },
    {
      "cell_type": "code",
      "metadata": {
        "id": "Qw6AthHnXMx4"
      },
      "source": [
        "%%R\n",
        "#FUNCIÓN DE INTERPOLACIÓN ALAMBRADA\n",
        "\n",
        "talamb=function(nodos,curva,plazos) #función de interpolación de tasas por el método alamabrada\n",
        "{\n",
        "  n=max(ncol(plazos),1)\n",
        "  m=max(ncol(nodos),1)\n",
        "  TC=matrix(0,1,n)\n",
        "  TL=matrix(0,1,n)\n",
        "  TF=matrix(0,1,n)\n",
        "  for (j in 1:n)\n",
        "  {\n",
        "    i=1\n",
        "    repeat\n",
        "    {\n",
        "      if(nodos[i]<= plazos[j] && plazos[j] <=nodos[i+1])\n",
        "      {\n",
        "        TC[j]=curva[i]\n",
        "        TL[j]=curva[i+1]\n",
        "        TF[j]=((((1+TL[j]*nodos[i+1]/360)/(1+TC[j]*nodos[i]/360))^((plazos[j]-nodos[i])/(nodos[i+1]-nodos[i]))*(1+TC[j]*nodos[i]/360))-1)*360/plazos[j]\n",
        "        break\n",
        "      }\n",
        "      else if (plazos[j]<nodos[1])\n",
        "      {\n",
        "        TC[j]=curva[1]\n",
        "        TL[j]=curva[1]\n",
        "        TF[j]=curva[1]\n",
        "        break\n",
        "      }\n",
        "      else if (plazos[j]>nodos[m])\n",
        "      {\n",
        "        TC[j]=curva[m]\n",
        "        TL[j]=curva[m]\n",
        "        TF[j]=curva[m]\n",
        "        break\n",
        "      }\n",
        "      else\n",
        "      {i=i+1}\n",
        "    }\n",
        "  }\n",
        "  as.matrix(t(as.numeric(rbind(TF))))\n",
        "}\n",
        "\n",
        "\n",
        "#funciones necesarias\n",
        "diagv=function(x)\t\t\t#función para diagonalizar un vector\n",
        "{\n",
        "  n01=nrow(as.matrix(x))\n",
        "  m01=ncol(as.matrix(x))\n",
        "  dimmax=max(n01,m01)\n",
        "  res=matrix(0,dimmax,dimmax)\n",
        "  for (i in 1:dimmax)\n",
        "  {\n",
        "    res[i,i]=x[i]\n",
        "  }\n",
        "  res\n",
        "}\n",
        "\n",
        "#función de cuantil más cercano\n",
        "equantile <- function(v,p=.5,ns=nrow(as.matrix(v))) \n",
        "{ \n",
        "  if ( !is.numeric(p) || any( p<0 | p>1) ) \n",
        "    stop(\"Percentil tiene que ser 0<=p<=1\") \n",
        "  ranking <- order(v) \n",
        "  vw=matrix(0,ns,1)\n",
        "  vw[1:ns]=seq(1/ns,ns)  \n",
        "  sumw <- cumsum(vw[ranking]) \n",
        "  plist <- sumw / sumw[ length(sumw) ] \n",
        "  v [ ranking [ which.max( plist >= p ) ] ]  \n",
        "} \n",
        "\n",
        "\n",
        "wquantile <- function(v,w=rep(1,length(v)),p=.5) \n",
        "{ \n",
        "  if ( !is.numeric(w) || length(v) != length(w) ) \n",
        "    stop(\"Los valores y los pesos tienen que tener misma longitud\") \n",
        "  if ( !is.numeric(p) || any( p<0 | p>1) ) \n",
        "    stop(\"Percentil tiene que ser 0<=p<=1\") \n",
        "  if ( min(w) < 0 ) stop(\"Los pesos tiene que ser mayores que 0\") \n",
        "  ranking <- order(v) \n",
        "  sumw <- cumsum(w[ranking]) \n",
        "  plist <- sumw / sumw[ length(sumw) ] \n",
        "  v [ ranking [ which.max( plist >= p ) ] ]  \n",
        "}\n",
        "\n",
        "\n",
        "#CVaR con alisado\n",
        "wcvar <- function(v,w=rep(1,length(v)),p=.5) \n",
        "{ \n",
        "  if ( !is.numeric(w) || length(v) != length(w) ) \n",
        "    stop(\"Los valores y los pesos tienen que tener misma longitud\") \n",
        "  if ( !is.numeric(p) || any( p<0 | p>1) ) \n",
        "    stop(\"Percentil tiene que ser 0<=p<=1\") \n",
        "  if ( min(w) < 0 ) stop(\"Los pesos tiene que ser mayores que 0\") \n",
        "  ranking <- order(v) \n",
        "  sumw <- cumsum(w[ranking]) \n",
        "  plist <- sumw / sumw[ length(sumw) ] \n",
        "  loss= v [ ranking [ which( plist < p ) ] ]  \n",
        "  esc=w [ ranking [ which( plist < p ) ] ]  \n",
        "  sum(loss*esc)/(sum(esc))\n",
        "} \n"
      ],
      "execution_count": 260,
      "outputs": []
    },
    {
      "cell_type": "markdown",
      "metadata": {
        "id": "hdBgOc9db2vM"
      },
      "source": [
        "# Definición de parámetros para valorar:\n",
        "Acciones\n",
        "Bondes D\n",
        "SWAPS\n",
        "Futuros\n",
        "Opciones"
      ]
    },
    {
      "cell_type": "markdown",
      "metadata": {
        "id": "bZvhy8zdccGi"
      },
      "source": [
        "Cargamos parámetros para valoración:"
      ]
    },
    {
      "cell_type": "code",
      "metadata": {
        "id": "9xQDSuPQRWMH"
      },
      "source": [
        "%%R\n",
        "\n",
        "fval=as.Date(\"20220331\",format=\"%Y%m%d\")#Fecha de valoración\n",
        "itpl=0 #poner 0 si se quiere interpolación lineal o 1 si se quiere tasa alambrada\n",
        "alpha=0.98 #Nivel de confianza para obtener estimaciones de riesgo\n",
        "#setwd(direc)\t\n",
        "\n",
        "#ACCIONES Y DIVISAS\n",
        "#Cargar los símbolos de yahoo finance para EQ\n",
        "Symbols<-c  (\"AMXL.MX\", \"GCARSOA1.MX\", \"WALMEX.MX\" )#tienen que ir en orden alfabético\n",
        "pos_eq=c(-5000,1000,1200) #monto inicial invertido en acciones\n",
        "\n",
        "#Cargar los símbolos de yahoo finance para FX\n",
        "SymbolsFX<-c(\"EURUSD=X\",\"GBPUSD=X\",\"USDMXN=X\" ) #tienen que ir en orden alfabético\n",
        "pos_fx=c(700,-600,1500) #monto inicial invertido en divisas\n",
        "\n",
        "#CETES\n",
        "base=\"RiesgosFinancieros/2022-2/Tarea/tasa_guber.txt\"\n",
        "plazos_cete= cbind(180,0)\n",
        "contratos_cete= cbind(150,0)\n",
        "nominal_cete= 10 \n",
        "\n",
        "#BONOS M\n",
        "btasadesc=\"RiesgosFinancieros/2022-2/Tarea/tasa_yield.txt\"\n",
        "tfcupon=cbind(0.065,0) #Tasa fija del cupón\n",
        "plazos=cbind(3600,0) #Vencimiento del bono\n",
        "plazocupon=cbind(182,0) #plazos fijos de cada cupón\n",
        "contratos=cbind(10,0) #posición invertida\n",
        "nominal=100\n",
        "# itpl=0 #poner 0 si se quiere interpolación lineal o 1 si se quiere tasa alambrada\n",
        "\n",
        "#BONDES D\n",
        "btasadescst=\"RiesgosFinancieros/2022-2/Tarea/tasa_guber_st.txt\"\n",
        "btasafondeo=\"RiesgosFinancieros/2022-2/Tarea/tfondeo.txt\"\n",
        "plazos_bdm=cbind( 707,\t707) #Vencimiento del bono\n",
        "plazocupon_bdm=cbind( 28,\t28) #plazos_bdm fijos de cada cupón\n",
        "contratos_bdm=cbind(-1000, 0) #posición invertida\n",
        "nominal_bdm=100\n",
        "\n",
        "#FUTUROS TDC\n",
        "bext=\"RiesgosFinancieros/2022-2/Tarea/tasa_libor.txt\"\n",
        "bdom=\"RiesgosFinancieros/2022-2/Tarea/tasa_fwd.txt\"\n",
        "SymbolsFX_ftdc<-cbind(\"USDMXN=X\", \"GBPUSD=X\" ) \n",
        "plazos_fwd=cbind(5, 5)\n",
        "contratos_fwd=cbind(100, 0)\n",
        "kst_fwd=cbind(20.83, 0)\n",
        "nominal_fwd=1\n",
        "yext=1 #1 si se carga información de yahoo en la fecha definida por fval o SymbolsFX, en caso contrario se utiliza información que se tendrá que cargar de tasas_spot.txt\n",
        "trlib=1 #1 si la curva libor viene a 182 0 si no.\n",
        "\n",
        "#FUTUROS DE IPC\n",
        "#Descontamos con gubernamental\n",
        "base=\"RiesgosFinancieros/2022-2/Tarea/tasa_guber.txt\"\n",
        "SymbolsEQ_find<-c(\"^MXX\",  \"GCARSOA1.MX\") \n",
        "plazos_fwd_ind=cbind(53,53)\n",
        "contratos_fwd_ind=cbind(50,0)\n",
        "kst_fwd_ind=c(49525, 49525)\n",
        "nominal_fwd_ind=1\n",
        "\n",
        "#SWAP \n",
        "btasadesc_sw=\"RiesgosFinancieros/2022-2/Tarea/tasa_TIIE_SW_OP.txt\"\n",
        "btasacupvar_sw=\"RiesgosFinancieros/2022-2/Tarea/tasa_DIRS_SW_OP.txt\"\n",
        "tasafija_sw= cbind(0.06,0.059) #se establece la tasa fija a pagar para cada swap\n",
        "plazos_sw= cbind(588,270) #se establece el número de días que vivirá el swap\n",
        "plazocupon_sw= cbind(28,28)#se establece el número de días que se pagará cada cupón\n",
        "contratos_sw= cbind(16000000,-12000000) #se establece el número de contratos_sw de cada swap\n",
        "nominal_sw= cbind(1,1) #se establece el nominal_sw de cada swap\n",
        "por_sw=cbind(0,1) #se establece 0 si se paga tasa fija y 1 si se paga tasa variable\n",
        "\n",
        "#OPCIONES \n",
        "btasadesc_oir=\"RiesgosFinancieros/2022-2/Tarea/tasa_TIIE_SW_OP.txt\"\n",
        "btasaspot_oir=\"RiesgosFinancieros/2022-2/Tarea/tasa_DIRS_SW_OP.txt\"\n",
        "bvolspot_oir=\"RiesgosFinancieros/2022-2/Tarea/tvoltiie_opc.txt\"\n",
        "plazos_oir=cbind(1700, 700) #T-t\n",
        "pr_oir=28 #plazo de referencia  \n",
        "dct_oir=360 #d_base\n",
        "cp_oir=cbind(1,0) #si es call (cap) o put (floor)\n",
        "K_oir=cbind(0.058,0.06)\n",
        "contratos_oir=cbind(1000,500)\n",
        "nominal_oir=1\n",
        "cs_oir=1 #1 si es continua la tasa 0 si es simple"
      ],
      "execution_count": 261,
      "outputs": []
    },
    {
      "cell_type": "code",
      "source": [
        "%%R\n",
        "btasacupvar_sw"
      ],
      "metadata": {
        "colab": {
          "base_uri": "https://localhost:8080/"
        },
        "id": "gHvlf9Kt4kCN",
        "outputId": "5d89d83e-1c40-460e-c7f1-34317bcee16a"
      },
      "execution_count": 262,
      "outputs": [
        {
          "output_type": "stream",
          "name": "stdout",
          "text": [
            "[1] \"RiesgosFinancieros/2022-2/Tarea/tasa_DIRS_SW_OP.txt\"\n"
          ]
        }
      ]
    },
    {
      "cell_type": "markdown",
      "metadata": {
        "id": "wYq9vgjOcix0"
      },
      "source": [
        "# Carga de datos"
      ]
    },
    {
      "cell_type": "code",
      "source": [
        "%%R\n",
        "#CARGA DE DATOS DE ACCIONES\n",
        "pos=cbind(t(pos_fx),t(pos_eq))\n",
        "\n",
        "#Creación del objeto para guardar los datos\n",
        "dataEnv<-new.env()\n",
        "dataEnvFX<-new.env()\n",
        "\n",
        "#obtener los datos\n",
        "getSymbols.yahoo(Symbols,env=dataEnv,to=fval)\n",
        "getSymbols.yahoo(SymbolsFX,env=dataEnvFX,to=fval)\n",
        "\n",
        "#limpiarlos, alinearnos y quedarnos con el precio de cierre \n",
        "bt.prep(dataEnv,align='remove.na',fill.gaps = T)\n",
        "bt.prep(dataEnvFX,align='remove.na',fill.gaps=T)\n",
        "#muestra de datos\n",
        "#head(dataEnv$prices)\n",
        "#head(dataEnvFX$prices)\n",
        "\n",
        "#Nos quedamos con los precios de cierre\n",
        "stock_prices = dataEnv$prices\n",
        "stock_pricesFX=dataEnvFX$prices\n",
        "\n",
        "#cambiar todo a pesos mexicanos\n",
        "stock_pricesFX=cbind(stock_pricesFX[,1,with=F]*stock_pricesFX[,3,with=F],stock_pricesFX[,2,with=F]*stock_pricesFX[,3,with=F],stock_pricesFX[,3,with=F])\n",
        "stock_prices_EQFX=merge(stock_pricesFX,stock_prices,join = \"inner\")\n",
        "\n",
        "#Precios actuales\n",
        "x0=stock_prices_EQFX[nrow(stock_prices_EQFX),]\n",
        "#x0\n",
        "\n",
        "aux2=data.table(Date=as.Date(index(stock_prices_EQFX)),coredata(stock_prices_EQFX))\n",
        "tail(aux2)"
      ],
      "metadata": {
        "colab": {
          "base_uri": "https://localhost:8080/"
        },
        "id": "CAlVMa2ky-K2",
        "outputId": "e89cee86-b81e-4d20-bf9c-6bd9d5d35e45"
      },
      "execution_count": 263,
      "outputs": [
        {
          "output_type": "stream",
          "name": "stdout",
          "text": [
            "         Date EURUSD.X GBPUSD.X USDMXN.X AMXL.MX GCARSOA1.MX WALMEX.MX\n",
            "1: 2022-03-23 22.35971 26.89405 20.27220   20.73       73.71     77.99\n",
            "2: 2022-03-24 22.26207 26.71136 20.22664   20.91       75.61     78.56\n",
            "3: 2022-03-25 22.09215 26.47899 20.06630   21.00       75.77     78.59\n",
            "4: 2022-03-28 21.99689 26.39227 20.03015   20.72       75.81     79.83\n",
            "5: 2022-03-29 22.08800 26.32673 20.09125   20.70       74.29     78.58\n",
            "6: 2022-03-30 22.14488 26.14256 19.96560   20.75       73.53     80.34\n"
          ]
        }
      ]
    },
    {
      "cell_type": "code",
      "source": [
        "%%R\n",
        "#CETES \n",
        "\n",
        "data<-read.table(base)\n",
        "n<-nrow(data)\n",
        "m_gov=ncol(data)\n",
        "\n",
        "#x_orig_gov=data.frame(data[2:n,1:m_gov])\n",
        "\n",
        "x_orig_gov=as.data.table(mutate(data[2:n,1:m_gov],Date=as.Date(V1,format=\"%Y%m%d\")))\n",
        "x_orig_gov=x_orig_gov%>%select(-V1)\n",
        "\n",
        "nodos_gov=data.frame(data[1,2:m_gov])"
      ],
      "metadata": {
        "id": "qB4pnw_y-zuJ"
      },
      "execution_count": 264,
      "outputs": []
    },
    {
      "cell_type": "code",
      "source": [
        "%%R\n",
        "#BONO M\n",
        "#carga de tasas de descuento\n",
        "data1<-read.table(btasadesc)\n",
        "n<-nrow(data1)\n",
        "m_orig=ncol(data1)\n",
        "X_orig=data.frame(data1[2:n,2:m_orig])\n",
        "nodos=data.frame(data1[1,2:m_orig])\n",
        "n=n-1\n",
        "\n",
        "m=ncol(plazos)\n",
        "X=matrix(0,n-1,m)\n",
        "for (i in 1:(n-1))\n",
        "{\n",
        "X[i,]=if(itpl==0){approx(nodos,X_orig[i,],plazos)$y}else{talamb(nodos,X_orig[i,],plazos)}\n",
        "}\n",
        "head(X)"
      ],
      "metadata": {
        "id": "mJj-KoA9-3Ir",
        "colab": {
          "base_uri": "https://localhost:8080/"
        },
        "outputId": "897c3240-cffb-4c64-b821-b3023af5a48f"
      },
      "execution_count": 265,
      "outputs": [
        {
          "output_type": "stream",
          "name": "stdout",
          "text": [
            "           [,1] [,2]\n",
            "[1,] 0.07537882   NA\n",
            "[2,] 0.07631780   NA\n",
            "[3,] 0.07698505   NA\n",
            "[4,] 0.07454305   NA\n",
            "[5,] 0.07670660   NA\n",
            "[6,] 0.07720393   NA\n"
          ]
        }
      ]
    },
    {
      "cell_type": "code",
      "source": [
        "%%R\n",
        "#BONDE D\n",
        "#carga de datos\n",
        "#carga de tasas de descuento\n",
        "data1<-read.table(base)\n",
        "n<-nrow(data1)\n",
        "m_bd=ncol(data1)\n",
        "##X_orig_bd=as.data.table(mutate(data1[2:n,1:m_tybm],Date=as.Date(V1,format=\"%Y%m%d\")))\n",
        "#X_orig_bd%>%select(-V1)\n",
        "\n",
        "X1_orig=mutate(data.frame(data1[2:n,1:m_bd]), V1=as.Date(V1,format=\"%Y%m%d\"))\n",
        "print(head(X1_orig[,1:4]))\n",
        "#nodos=data.frame(data1[1,2:m_bd])\n",
        "n=n-1\n",
        "\n",
        "data3<-read.table(btasadescst)\n",
        "n3<-nrow(data3)\n",
        "m3_bd=ncol(data3)\n",
        "X3_orig_bd=as.data.table(mutate(data3[2:n,1:m3_bd],Date=as.Date(V1,format=\"%Y%m%d\")))\n",
        "X3_orig_bd=X3_orig_bd%>%select(-V1)\n",
        "\n",
        "X3a_orig=mutate(data.frame(data1[2:n,1:m_bd]), V1=as.Date(V1,format=\"%Y%m%d\"))\n",
        "nodos3_bd=data.frame(data3[1,2:m3_bd])\n",
        "n3=n3-1\n",
        "\n",
        "data2<-read.table(btasafondeo)\n",
        "n2<-nrow(data2)\n",
        "X2_orig_bd=data.frame(data2[2:n2,1:2])\n",
        "print(head(X2_orig_bd))\n",
        "X2_orig_bd=mutate(X2_orig_bd, V1=as.Date(V1,format=\"%Y%m%d\"), Date=as.Date(V1,format=\"%Y%m%d\"), V2=as.numeric(as.character(V2)))\n",
        "tfh=seq(min(X2_orig_bd$V1), max(X2_orig_bd$V1), \"days\") #sucesión de dias para tasa fondeo\n",
        "tfhd=data.frame(ID=1:count(tfh),fecha=tfh)\n",
        "\n",
        "#Cruzar la sucesión de todos los días versus el de tasa de fondeo\n",
        "tfhd=setDT(tfhd)[, Date := tfh][order(-Date)]\n",
        "X2_orig_bd=setDT(X2_orig_bd)[, Date := V1][order(-Date)]\n",
        "# rolling join unión por rolling, rellena las fechas que faltaban con el último valor conocido \"roll=Inf\"\n",
        "X2_orig_bd=X2_orig_bd[tfhd, on = .(Date), roll = Inf] \n",
        "print(head(X2_orig_bd))\n",
        "#buscar fecha de valuación en tfondeo\n",
        "tf_act=X2_orig_bd[fecha==fval,]$V2/100\n",
        "tf_int=X2_orig_bd[fecha<=fval & fecha>=(fval-plazocupon_bdm[1])]$V2/100\n",
        "\n",
        "X1_orig=setDT(X1_orig)[, Date:= V1][order(-Date)] #Para alinear con valor presente y tasa de fondeo."
      ],
      "metadata": {
        "id": "KfrbnD3NI8h5",
        "colab": {
          "base_uri": "https://localhost:8080/"
        },
        "outputId": "ce00e33d-6131-48d7-9019-ebb57ce173c5"
      },
      "execution_count": 266,
      "outputs": [
        {
          "output_type": "stream",
          "name": "stdout",
          "text": [
            "          V1         V2         V3         V4\n",
            "2 2022-03-31 0.07845614 0.07749243 0.07650381\n",
            "3 2022-03-30 0.07663158 0.07749243 0.07650381\n",
            "4 2022-03-29 0.07663158 0.07749243 0.07685555\n",
            "5 2022-03-28 0.07753656 0.07749243 0.07685555\n",
            "6 2022-03-25 0.07663158 0.07749243 0.07685555\n",
            "7 2022-03-24 0.07663158 0.07742413 0.07685555\n",
            "        V1    V2\n",
            "2 19981103 30.75\n",
            "3 19981104  29.2\n",
            "4 19981105  29.8\n",
            "5 19981106  31.3\n",
            "6 19981109  32.9\n",
            "7 19981110 34.54\n",
            "           V1   V2       Date   ID      fecha\n",
            "1: 2022-03-31 6.52 2022-03-31 8550 2022-03-31\n",
            "2: 2022-03-30 6.48 2022-03-30 8549 2022-03-30\n",
            "3: 2022-03-29 6.46 2022-03-29 8548 2022-03-29\n",
            "4: 2022-03-28 6.45 2022-03-28 8547 2022-03-28\n",
            "5: 2022-03-25 6.47 2022-03-27 8546 2022-03-27\n",
            "6: 2022-03-25 6.47 2022-03-26 8545 2022-03-26\n"
          ]
        }
      ]
    },
    {
      "cell_type": "code",
      "metadata": {
        "id": "zP3dhNYMRWMP",
        "colab": {
          "base_uri": "https://localhost:8080/"
        },
        "outputId": "7faaddde-5c9e-497c-e009-7cea53f2e4fa"
      },
      "source": [
        "%%R\n",
        "   #CARGA DE DATOS PARA SWAP\n",
        "  data1<-read.table(btasadesc_sw)\n",
        "  n1<-nrow(data1)\n",
        "  m1_orig_sw=ncol(data1)\n",
        "  X1_orig_sw=data.table(mutate(data1[2:n1,1:m1_orig_sw],Date=as.Date(V1,format=\"%Y%m%d\")))\n",
        "  X1_orig_sw=X1_orig_sw%>%select(-V1)\n",
        "  nodos1_sw=data.frame(data1[1,2:m1_orig_sw])\n",
        "  \n",
        "  data2<-read.table(btasacupvar_sw)\n",
        "  n2<-nrow(data2)\n",
        "  m2_orig_sw=ncol(data2)\n",
        "  X2_orig_sw=data.table(mutate(data2[2:n1,1:m1_orig_sw],Date=as.Date(V1,format=\"%Y%m%d\")))\n",
        "  X2_orig_sw=X2_orig_sw%>%select(-V1)\n",
        "  nodos2_sw=data.frame(data2[1,2:m2_orig_sw])\n",
        "  X2_orig_sw"
      ],
      "execution_count": 267,
      "outputs": [
        {
          "output_type": "stream",
          "name": "stdout",
          "text": [
            "           V2       V3       V4       V5       V6       V7       V8       V9\n",
            "  1: 6.605831 6.689449 6.775184 6.828315 6.896106 6.905513 6.898793 6.784002\n",
            "  2: 6.651778 6.735977 6.822308 6.875809 6.944071 6.946175 6.931947 6.795927\n",
            "  3: 6.633530 6.717499 6.803593 6.856946 6.925022 6.934019 6.926814 6.763071\n",
            "  4: 6.615352 6.699091 6.784949 6.838156 6.906045 6.944522 6.967215 6.804032\n",
            "  5: 6.597443 6.680955 6.766581 6.819644 6.887349 6.932852 6.962704 6.771289\n",
            " ---                                                                        \n",
            "251: 4.116708 4.168818 4.222248 4.255358 4.297605 4.264310 4.220471 4.106565\n",
            "252: 4.120777 4.172939 4.226421 4.259565 4.301853 4.259305 4.206085 4.126408\n",
            "253: 4.146701 4.199191 4.253009 4.286361 4.328916 4.299702 4.259921 4.202170\n",
            "254: 4.141027 4.193445 4.247190 4.280496 4.322992 4.275557 4.217339 4.196554\n",
            "255: 4.181767 4.234700 4.288974 4.322608 4.365523 4.336305 4.296433 4.258407\n",
            "          V10      V11      V12      V13      V14      V15      V16      V17\n",
            "  1: 6.652051 6.607669 6.597928 6.620858 6.645707 6.672339 6.698625 6.724239\n",
            "  2: 6.673120 6.592126 6.586188 6.598651 6.624055 6.659911 6.704141 6.737388\n",
            "  3: 6.617081 6.532031 6.530935 6.530724 6.537380 6.558274 6.599171 6.638533\n",
            "  4: 6.620208 6.589337 6.557648 6.519281 6.537343 6.567671 6.601735 6.628008\n",
            "  5: 6.563234 6.560197 6.559198 6.554876 6.551990 6.562624 6.591168 6.607032\n",
            " ---                                                                        \n",
            "251: 4.040855 4.133627 4.192489 4.281171 4.458996 4.667979 4.802188 4.844629\n",
            "252: 4.074539 4.142554 4.196265 4.312102 4.510140 4.704775 4.822272 4.856585\n",
            "253: 4.170453 4.241179 4.305583 4.439470 4.629458 4.809993 4.921021 4.950395\n",
            "254: 4.156292 4.233869 4.281527 4.406577 4.627759 4.797835 4.901411 4.932740\n",
            "255: 4.199071 4.241050 4.319837 4.454448 4.681524 4.850770 4.954042 4.988122\n",
            "           Date\n",
            "  1: 2022-03-31\n",
            "  2: 2022-03-30\n",
            "  3: 2022-03-29\n",
            "  4: 2022-03-28\n",
            "  5: 2022-03-25\n",
            " ---           \n",
            "251: 2021-04-08\n",
            "252: 2021-04-07\n",
            "253: 2021-04-06\n",
            "254: 2021-04-05\n",
            "255: 2021-03-31\n"
          ]
        }
      ]
    },
    {
      "cell_type": "code",
      "source": [
        "  %%R\n",
        "  #CARGA DE DATOS PARA OPCIONES DE TASA DE INTERÉS\n",
        "  #carga de datos\n",
        "  #carga de rho\t\n",
        "  data1<-read.table(btasadesc_oir) \n",
        "  n<-nrow(data1)\n",
        "  m1_orig_oir=ncol(data1)\n",
        "  x1_orig_oir=data.table(mutate(data1[2:n,1:m1_orig_oir],Date=as.Date(V1,format=\"%Y%m%d\")))\n",
        "  x1_orig_oir=x1_orig_oir%>%select(-V1)\n",
        "  nodos1_oir=data.frame(data1[1,2:m1_orig_oir])\n",
        "  \n",
        "  #data1[1:3,]\n",
        "  #carga de tasas spot\n",
        "  data2<-read.table(btasaspot_oir)\n",
        "  n<-nrow(data2)\n",
        "  m2_orig_oir=ncol(data2)\n",
        "  x2_orig_oir=data.table(mutate(data2[2:n,1:m2_orig_oir],Date=as.Date(V1,format=\"%Y%m%d\")))\n",
        "  x2_orig_oir=x2_orig_oir%>%select(-V1)\n",
        "  nodos2_oir=data.frame(data2[1,2:m2_orig_oir])\n",
        "  #carga de volatilidades de spot\n",
        "  data3<-read.table(bvolspot_oir)\n",
        "  n<-nrow(data3)\n",
        "  m3_orig_oir=ncol(data3)\n",
        "  x3_orig_oir=data.table(mutate(data3[2:n,1:m3_orig_oir],Date=as.Date(V1,format=\"%Y%m%d\")))\n",
        "  x3_orig_oir=x3_orig_oir%>%select(-V1)\n",
        "  \n",
        "  nodos3_oir=data.frame(data3[1,2:m3_orig_oir])\n",
        "  x3_orig_oir"
      ],
      "metadata": {
        "id": "J0L3L9_z_SaN",
        "colab": {
          "base_uri": "https://localhost:8080/"
        },
        "outputId": "287e4b68-f4e3-47dd-9aeb-f4a09358373d"
      },
      "execution_count": 268,
      "outputs": [
        {
          "output_type": "stream",
          "name": "stdout",
          "text": [
            "            V2        V3        V4         V5        V6        V7        V8\n",
            "  1: 0.4665709 0.3328868 0.2742244 0.20591512 0.2510428 0.2783824 0.2798213\n",
            "  2: 0.4905821 0.3499227 0.2891028 0.21831964 0.2634969 0.2793499 0.2967162\n",
            "  3: 0.4905484 0.3498969 0.2890889 0.21831964 0.2634969 0.2793499 0.2967162\n",
            "  4: 0.4904293 0.3498066 0.2890363 0.21831964 0.2634969 0.2793499 0.2967162\n",
            "  5: 0.5088287 0.3620960 0.3017326 0.23280813 0.2869167 0.2902659 0.2967162\n",
            " ---                                                                       \n",
            "251: 0.1647192 0.1137882 0.1019463 0.09472095 0.1607378 0.1796671 0.1929648\n",
            "252: 0.1771317 0.1236374 0.1078410 0.09427439 0.1483829 0.1662206 0.1880526\n",
            "253: 0.1740137 0.1215733 0.1057074 0.09179348 0.1438925 0.1627474 0.1850755\n",
            "254: 0.1916142 0.1352480 0.1139142 0.09179348 0.1339689 0.1627474 0.1696939\n",
            "255: 0.1932923 0.1365530 0.1146992 0.09179348 0.1329765 0.1627474 0.1746557\n",
            "            V9       Date\n",
            "  1: 0.2724996 2022-03-31\n",
            "  2: 0.3224502 2022-03-30\n",
            "  3: 0.3224442 2022-03-29\n",
            "  4: 0.3225564 2022-03-28\n",
            "  5: 0.3322934 2022-03-25\n",
            " ---                     \n",
            "251: 0.2296812 2021-04-08\n",
            "252: 0.2278930 2021-04-07\n",
            "253: 0.2230602 2021-04-06\n",
            "254: 0.1686102 2021-04-05\n",
            "255: 0.1772210 2021-03-31\n"
          ]
        }
      ]
    },
    {
      "cell_type": "code",
      "metadata": {
        "id": "P9xZwaO8duGB",
        "colab": {
          "base_uri": "https://localhost:8080/"
        },
        "outputId": "abbce228-767b-4e1c-8211-0808b2441567"
      },
      "source": [
        "%%R\n",
        "#CARGA DE DATOS DE  FORWARDS DE TDC\n",
        "#datas\n",
        "#data<-read.table(\"tasa_tiie.txt\")\n",
        "data1<-read.table(bext)\n",
        "data2<-read.table(bdom)\n",
        "\n",
        "########minimos para parametrizar\n",
        "n1=nrow(data1)\n",
        "n2=nrow(data2)\n",
        "m1_ftdc=ncol(data1)\n",
        "m2_ftdc=ncol(data2)\n",
        "n=min(n1,n2)-1\n",
        "###NODOS###\n",
        "nodos1_ftdc=data.frame(data1[1,2:m1_ftdc])\n",
        "nodos2_ftdc=data.frame(data2[1,2:m2_ftdc])\n",
        "####MATRICES DEL MISMO TAMAÑO MENOS DOLAR\n",
        "\n",
        "x1_ftdc=as.data.table(mutate(data1[2:n,1:m1_ftdc],Date=as.Date(V1,format=\"%Y%m%d\")))\n",
        "\n",
        "x1_ftdc=x1_ftdc%>%select(-V1)\n",
        "x2_ftdc=as.data.table(mutate(data2[2:n,1:m2_ftdc],Date=as.Date(V1,format=\"%Y%m%d\")))\n",
        "x2_ftdc=x2_ftdc%>%select(-V1)\n",
        "\n",
        "###Para Dolar\n",
        "\n",
        "if (yext==1)\n",
        "{\n",
        "\n",
        "#Creación del objeto para guardar los datos\n",
        "  dataEnvFX_ftdc<-new.env()\n",
        "  \n",
        "#obtener los datos\n",
        "  getSymbols.yahoo(SymbolsFX_ftdc,env=dataEnvFX_ftdc, to=fval)\n",
        "#limpiarlos, alinearnos y quedarnos con el precio de cierre \n",
        "  bt.prep(dataEnvFX_ftdc,align='remove.na',fill.gaps=T)\n",
        "  \n",
        "#Nos quedamos con los precios\n",
        "  X3_ftdc=data.table(Date=as.Date(index(dataEnvFX_ftdc$prices[,2])),coredata(dataEnvFX_ftdc$prices[,2]))\n",
        "} else  \n",
        "{ \n",
        "data3<-read.table(btsp)\n",
        "n3<-nrow(data3)\n",
        "m3<-ncol(data3)\n",
        "X3=data.table(as.matrix(as.double(as.matrix(data3[2:(n+1),m3]))))\n",
        "X3_find=as.data.table(mutate(data3[2:(n+1),1:m3],Date=as.Date(V1,format=\"%Y%m%d\")))\n",
        "}\n",
        "X3_ftdc"
      ],
      "execution_count": 269,
      "outputs": [
        {
          "output_type": "stream",
          "name": "stdout",
          "text": [
            "            Date USDMXN=X\n",
            "   1: 2007-01-01 10.80300\n",
            "   2: 2007-01-02 10.76050\n",
            "   3: 2007-01-03 10.83000\n",
            "   4: 2007-01-04 10.86500\n",
            "   5: 2007-01-05 10.91200\n",
            "  ---                    \n",
            "3975: 2022-03-25 20.06630\n",
            "3976: 2022-03-28 20.03015\n",
            "3977: 2022-03-29 20.09125\n",
            "3978: 2022-03-30 19.96560\n",
            "3979: 2022-03-31 19.87815\n"
          ]
        }
      ]
    },
    {
      "cell_type": "code",
      "source": [
        "%%R\n",
        "# CARGA DE DATOS DE  FORWARD DE IPC\n",
        "\n",
        "data<-read.table(base)\n",
        "n<-nrow(data)\n",
        "m_gov=ncol(data)\n",
        "#x_orig_gov=data.frame(data[2:n,1:m_gov])\n",
        "x_orig_gov=as.data.table(mutate(data[2:n,1:m_gov],Date=as.Date(V1,format=\"%Y%m%d\")))\n",
        "x_orig_gov=x_orig_gov%>%select(-V1)\n",
        "nodos_gov=data.frame(data[1,2:m_gov])\n",
        "  \n",
        "  #Creación del objeto para guardar los datos\n",
        "  dataEnvEQ<-new.env()\n",
        "  \n",
        "  #obtener los datos\n",
        "  getSymbols.yahoo(SymbolsEQ_find,env=dataEnvEQ, to=fval)\n",
        "  #limpiarlos, alinearnos y quedarnos con el precio de cierre \n",
        "  bt.prep(dataEnvEQ,align='remove.na',fill.gaps=T)\n",
        "  \n",
        "  #muestra de datos\n",
        "#  head(dataEnvEQ$prices)\n",
        "  \n",
        "  #Nos quedamos con los precios\n",
        "  X3_find=data.table(Date=as.Date(index(dataEnvEQ$prices[,2])),coredata(dataEnvEQ$prices[,2]))\n",
        "  X3_find"
      ],
      "metadata": {
        "id": "eyoSH7njARy_",
        "colab": {
          "base_uri": "https://localhost:8080/"
        },
        "outputId": "7e4ff8b8-fe0b-4667-912c-8cb4f2f4cb9e"
      },
      "execution_count": 270,
      "outputs": [
        {
          "output_type": "stream",
          "name": "stdout",
          "text": [
            "            Date      MXX\n",
            "   1: 2007-01-02 26664.45\n",
            "   2: 2007-01-03 26619.37\n",
            "   3: 2007-01-04 26566.28\n",
            "   4: 2007-01-05 26135.60\n",
            "   5: 2007-01-08 26281.64\n",
            "  ---                    \n",
            "3825: 2022-03-24 55829.86\n",
            "3826: 2022-03-25 55436.05\n",
            "3827: 2022-03-28 55685.14\n",
            "3828: 2022-03-29 56111.21\n",
            "3829: 2022-03-30 55814.99\n"
          ]
        }
      ]
    },
    {
      "cell_type": "markdown",
      "metadata": {
        "id": "re1W63Xxcqk6"
      },
      "source": [
        "# Integración de Insumos"
      ]
    },
    {
      "cell_type": "markdown",
      "metadata": {
        "id": "dFkiz2PAcuD7"
      },
      "source": [
        "Aseguramiento de que todos los factores de riesgo estén alineados en sus fechas, nos quedamos con la intersección. Posteriormente, filtramos cada histórico factor de riesgo hacia esta intersección de todos."
      ]
    },
    {
      "cell_type": "code",
      "metadata": {
        "id": "TfZnjpRrRWMW",
        "colab": {
          "base_uri": "https://localhost:8080/"
        },
        "outputId": "2197d11e-c271-476b-e565-f24c1c67e4ea"
      },
      "source": [
        "%%R\n",
        "#INTERSECCIÓN DE FECHAS DE TODOS LOS INSUMOS    \n",
        "  \n",
        "#head(x_orig_gov)  \n",
        "lin_gub=data.table(Date=as.Date(aux2[x_orig_gov,on=.(Date),nomatch=0]$Date)) #Fechas acciones, equity y guber\n",
        "nrow(lin_gub)\n",
        "lin_gub_bmybdst=data.table(Date=as.Date(lin_gub[X3_orig_bd,on=.(Date),nomatch=0]$Date)) #Fechas acciones, equity, guber y st (bonde)\n",
        "nrow(lin_gub_bmybdst)\n",
        "#lin_gub_bmybdst_flib=data.table(Date=as.Date(lin_gub_bmybdst[x1_ftdc,on=.(Date),nomatch=0]$Date)) #Fechas acciones, equity, guber, st (bonde), libor\n",
        "\n",
        "lin_gub_bmybdst=data.table(Date=as.Date(X3_ftdc[x_orig_gov,on=.(Date),nomatch=0]$Date)) #Fechas acciones, equity y guber\n",
        "print(nrow(lin_gub_bmybdst))\n",
        "lin_gub_bmybdst_flib=data.table(Date=as.Date(lin_gub_bmybdst[x1_ftdc,on=.(Date),nomatch=0]$Date)) #Fechas acciones, equity, guber, st (bonde), libor\n",
        "print(nrow(lin_gub_bmybdst_flib))\n",
        "lin_gub_bmybdst_flibfwd=data.table(Date=as.Date(lin_gub_bmybdst_flib[x2_ftdc,on=.(Date),nomatch=0]$Date)) #Fechas acciones, equity, guber, st (bonde), libor, fwd\n",
        "print(nrow(lin_gub_bmybdst_flibfwd))\n",
        "lin_gub_bmybdst_flibfwdspind=data.table(Date=as.Date(lin_gub_bmybdst_flibfwd[X3_find,on=.(Date),nomatch=0]$Date)) #Fechas acciones, equity, guber, st (bonde), libor, fwd, spot, equity or index\n",
        "print(nrow(lin_gub_bmybdst_flibfwdspind))\n",
        "\n",
        "\n",
        "lin_gub_bmybdst_flibfwdspind_swcup=data.table(Date=as.Date(lin_gub_bmybdst_flibfwdspind[X1_orig_sw,on=.(Date),nomatch=0]$Date)) #Fechas acciones, equity, guber, st (bonde), libor, fwd, spot, equity or index, swap cupón\n",
        "print(nrow(lin_gub_bmybdst_flibfwdspind_swcup))\n",
        "lin_gub_bmybdst_flibfwdspind_swcupvp=data.table(Date=as.Date(lin_gub_bmybdst_flibfwdspind_swcup[X2_orig_sw,on=.(Date),nomatch=0]$Date)) #Fechas acciones, equity, guber, st (bonde), libor, fwd, spot, equity or index, swap cupón\n",
        "print(nrow(lin_gub_bmybdst_flibfwdspind_swcupvp))\n",
        "lin_gub_bmybdst_flibfwdspind_swcupvp_oirs=data.table(Date=as.Date(lin_gub_bmybdst_flibfwdspind_swcupvp[x1_orig_oir,on=.(Date),nomatch=0]$Date)) #Fechas acciones, equity, guber, st (bonde), libor, fwd, spot, equity or index, swap cupón, opciones ir spot\n",
        "print(nrow(lin_gub_bmybdst_flibfwdspind_swcupvp_oirs))\n",
        "lin_gub_bmybdst_flibfwdspind_swcupvp_oirsvp=data.table(Date=as.Date(lin_gub_bmybdst_flibfwdspind_swcupvp_oirs[x2_orig_oir,on=.(Date),nomatch=0]$Date)) #Fechas acciones, equity, guber, st (bonde), libor, fwd, spot, equity or index, swap cupón, opciones ir spot, opc ir vp\n",
        "print(nrow(lin_gub_bmybdst_flibfwdspind_swcupvp_oirsvp))\n",
        "lin_gub_bmybdst_flibfwdspind_swcupvp_oirsvpvol=data.table(Date=as.Date(lin_gub_bmybdst_flibfwdspind_swcupvp_oirsvp[x3_orig_oir,on=.(Date),nomatch=0]$Date)) #Fechas acciones, equity, guber, st (bonde), libor, fwd, spot, equity or index, swap cupón, opciones ir spot, opc ir vp, opc ir vol\n",
        "print(nrow(lin_gub_bmybdst_flibfwdspind_swcupvp_oirsvpvol))\n",
        "print(lin_gub_bmybdst_flibfwdspind_swcupvp_oirsvpvol)\n",
        "\n",
        "print(unique(lin_gub_bmybdst_flibfwdspind_swcupvp_oirsvpvol))\n",
        "lin_gub_bmybdst_flibfwdspind_swcupvp_oirsvpvol=unique(lin_gub_bmybdst_flibfwdspind_swcupvp_oirsvpvol)\n",
        "print(lin_gub_bmybdst_flibfwdspind_swcupvp_oirsvpvol)"
      ],
      "execution_count": 271,
      "outputs": [
        {
          "output_type": "stream",
          "name": "stdout",
          "text": [
            "[1] 255\n",
            "[1] 254\n",
            "[1] 254\n",
            "[1] 253\n",
            "[1] 253\n",
            "[1] 253\n",
            "[1] 253\n",
            "[1] 253\n",
            "[1] 253\n",
            "           Date\n",
            "  1: 2022-03-30\n",
            "  2: 2022-03-29\n",
            "  3: 2022-03-28\n",
            "  4: 2022-03-25\n",
            "  5: 2022-03-24\n",
            " ---           \n",
            "249: 2021-04-09\n",
            "250: 2021-04-08\n",
            "251: 2021-04-07\n",
            "252: 2021-04-06\n",
            "253: 2021-04-05\n",
            "           Date\n",
            "  1: 2022-03-30\n",
            "  2: 2022-03-29\n",
            "  3: 2022-03-28\n",
            "  4: 2022-03-25\n",
            "  5: 2022-03-24\n",
            " ---           \n",
            "249: 2021-04-09\n",
            "250: 2021-04-08\n",
            "251: 2021-04-07\n",
            "252: 2021-04-06\n",
            "253: 2021-04-05\n",
            "           Date\n",
            "  1: 2022-03-30\n",
            "  2: 2022-03-29\n",
            "  3: 2022-03-28\n",
            "  4: 2022-03-25\n",
            "  5: 2022-03-24\n",
            " ---           \n",
            "249: 2021-04-09\n",
            "250: 2021-04-08\n",
            "251: 2021-04-07\n",
            "252: 2021-04-06\n",
            "253: 2021-04-05\n"
          ]
        }
      ]
    },
    {
      "cell_type": "code",
      "metadata": {
        "id": "kMNQXZpl0x7Y"
      },
      "source": [
        "%%R\n",
        "n=nrow(lin_gub_bmybdst_flibfwdspind_swcupvp_oirsvpvol) #Historia de todos\n",
        "\n",
        "#historia de acciones y divisas\n",
        "stock_prices_EQFX=lin_gub_bmybdst_flibfwdspind_swcupvp_oirsvpvol[aux2,on=.(Date),nomatch=0][order(-Date)]\n",
        "stock_prices_EQFX=stock_prices_EQFX%>%select(-Date)\n",
        "\n",
        "#historia de curva gubernamental\n",
        "x_orig_gov=lin_gub_bmybdst_flibfwdspind_swcupvp_oirsvpvol[x_orig_gov,on=.(Date),nomatch=0][order(-Date)]\n",
        "x_orig_gov=x_orig_gov%>%select(-Date)\n",
        "\n",
        "#Historia de curvas de bonde\n",
        "#CONSIDERAR LA CURVA GUBERNAMENTAL X1_ORIG_GOV\n",
        "X1_orig=lin_gub_bmybdst_flibfwdspind_swcupvp_oirsvpvol[X1_orig,on=.(Date),nomatch=0][order(-Date)]\n",
        "X1_orig=X1_orig%>%select(-Date)\n",
        "# X2_orig_bd=lin_gub_bmybdst_flibfwdspind_swcupvp_oirsvpvol[X2_orig_bd,on=.(Date),nomatch=0][order(-Date)]\n",
        "# X2_orig_bd=X2_orig_bd%>%select(-Date)\n",
        "X3_orig_bd=lin_gub_bmybdst_flibfwdspind_swcupvp_oirsvpvol[X3_orig_bd,on=.(Date),nomatch=0][order(-Date)]\n",
        "X3_orig_bd=X3_orig_bd%>%select(-Date)\n",
        "\n",
        "#historia de curvas de forward tdc\n",
        "x1_ftdc=lin_gub_bmybdst_flibfwdspind_swcupvp_oirsvpvol[x1_ftdc,on=.(Date),nomatch=0][order(-Date)]\n",
        "x1_ftdc=x1_ftdc%>%select(-Date)/100\n",
        "x2_ftdc=lin_gub_bmybdst_flibfwdspind_swcupvp_oirsvpvol[x2_ftdc,on=.(Date),nomatch=0][order(-Date)]\n",
        "x2_ftdc=x2_ftdc%>%select(-Date)/100\n",
        "X3_ftdc=lin_gub_bmybdst_flibfwdspind_swcupvp_oirsvpvol[X3_ftdc,on=.(Date),nomatch=0][order(-Date)]\n",
        "X3_ftdc=X3_ftdc%>%select(-Date)\n",
        "\n",
        "#historia de curvas de forward ind\n",
        "#CONSIDERAR LA CURVA GUBERNAMENTAL X1_ORIG_GOV\n",
        "X3_find=lin_gub_bmybdst_flibfwdspind_swcupvp_oirsvpvol[X3_find,on=.(Date),nomatch=0][order(-Date)]\n",
        "X3_find=X3_find%>%select(-Date)\n",
        "\n",
        "#historia de swaps\n",
        "X1_orig_sw=lin_gub_bmybdst_flibfwdspind_swcupvp_oirsvpvol[X1_orig_sw,on=.(Date),nomatch=0][order(-Date)]\n",
        "X1_orig_sw=X1_orig_sw%>%select(-Date)/100\n",
        "X2_orig_sw=lin_gub_bmybdst_flibfwdspind_swcupvp_oirsvpvol[X2_orig_sw,on=.(Date),nomatch=0][order(-Date)]\n",
        "X2_orig_sw=X2_orig_sw%>%select(-Date)/100\n",
        "\n",
        "#historia de opciones\n",
        "x1_orig_oir=lin_gub_bmybdst_flibfwdspind_swcupvp_oirsvpvol[x1_orig_oir,on=.(Date),nomatch=0][order(-Date)]\n",
        "x1_orig_oir=x1_orig_oir%>%select(-Date)/100\n",
        "x2_orig_oir=lin_gub_bmybdst_flibfwdspind_swcupvp_oirsvpvol[x2_orig_oir,on=.(Date),nomatch=0][order(-Date)]\n",
        "x2_orig_oir=x2_orig_oir%>%select(-Date)/100\n",
        "x3_orig_oir=lin_gub_bmybdst_flibfwdspind_swcupvp_oirsvpvol[x3_orig_oir,on=.(Date),nomatch=0][order(-Date)]\n",
        "x3_orig_oir=x3_orig_oir%>%select(-Date)"
      ],
      "execution_count": 272,
      "outputs": []
    },
    {
      "cell_type": "markdown",
      "metadata": {
        "id": "-jBoCn2Wcykt"
      },
      "source": [
        "# Pasos para medir el riesgo por el método de Simulación Histórica"
      ]
    },
    {
      "cell_type": "markdown",
      "metadata": {
        "id": "Bz4Qmyb-cz5p"
      },
      "source": [
        "Para todos los instrumentos hay que definir y calcular los siguientes elementos:\\\n",
        "1.Historico de factores de riesgo\\\n",
        "2.Vector de precios actual\\\n",
        "3.Valoración al día actual"
      ]
    },
    {
      "cell_type": "markdown",
      "metadata": {
        "id": "wAQ_eiVhv2Wv"
      },
      "source": [
        "## Acciones y Divisas\n",
        "\n"
      ]
    },
    {
      "cell_type": "code",
      "metadata": {
        "id": "EFy_Mrcqv7-J",
        "colab": {
          "base_uri": "https://localhost:8080/"
        },
        "outputId": "49025534-2531-4b6e-e1c1-df90112d36a4"
      },
      "source": [
        "%%R\n",
        "#Divisas y acciones \n",
        "x0_acc_div=stock_prices_EQFX[1,]\n",
        "DeltaX_acc_div=as.matrix(log(as.matrix(stock_prices_EQFX[1:(n-1)])/as.matrix(stock_prices_EQFX[2:(n)])))\n",
        "V0_acc_div=pos*x0_acc_div\n",
        "\n",
        "print(V0_acc_div)"
      ],
      "execution_count": 273,
      "outputs": [
        {
          "output_type": "stream",
          "name": "stdout",
          "text": [
            "   EURUSD.X  GBPUSD.X USDMXN.X AMXL.MX GCARSOA1.MX WALMEX.MX\n",
            "1: 15501.42 -15685.53  29948.4 -103750       73530     96408\n"
          ]
        }
      ]
    },
    {
      "cell_type": "code",
      "source": [
        ""
      ],
      "metadata": {
        "id": "OUOi1_Vk99pa"
      },
      "execution_count": 273,
      "outputs": []
    },
    {
      "cell_type": "markdown",
      "metadata": {
        "id": "lolA4cfrwiQL"
      },
      "source": [
        "## Bonos"
      ]
    },
    {
      "cell_type": "code",
      "source": [
        "%%R\n",
        "#CETES\n",
        "\n",
        "#paso para interpolar las tasas\n",
        "n_cete <-nrow(x_orig_gov)\n",
        "m=ncol(plazos_cete)\n",
        "x=matrix(0,n_cete-1,m)\n",
        "\n",
        "for (i in 1:(n_cete-1)){\n",
        "x[i,]=approx(nodos_gov,x_orig_gov[i,],plazos_cete)$y\n",
        "}\n",
        "\n",
        "x0=x[1,]\n",
        "\n",
        "#función\n",
        "bonocupcero = function(i,t){\n",
        "1/(1+i*t/360)\n",
        "}\n",
        "\n",
        "V0=as.matrix(bonocupcero(x0,plazos_cete))*contratos_cete*nominal_cete #Valor actual de cada bono\n",
        "\n",
        "V0_cete =V0[1]\n",
        "V0_cete"
      ],
      "metadata": {
        "id": "6hiK7ulnJZ2d",
        "colab": {
          "base_uri": "https://localhost:8080/"
        },
        "outputId": "67c63112-0e58-45a3-8c5e-b6a8786ba6b3"
      },
      "execution_count": 274,
      "outputs": [
        {
          "output_type": "stream",
          "name": "stdout",
          "text": [
            "[1] 1442.687\n"
          ]
        }
      ]
    },
    {
      "cell_type": "code",
      "source": [
        "# Bono M\n",
        "%%R\n",
        "bonoMyield=function(x, plazos, plazocupon, tfcupon, nominal, contratos) #valoración bono tasa fija\n",
        "{\n",
        "x=x0  \n",
        "N=as.integer(plazos/plazocupon)+1   \n",
        "a=(1-(1+x*plazocupon/360)^(-N))/(plazocupon*x/360)\n",
        "p1=plazos-plazocupon*(N-1)   \n",
        "((contratos*nominal*tfcupon*plazocupon/360)*a+(contratos*nominal)/((1+x*plazocupon/360)^N))*(1+x*plazocupon/360)^(1-p1/plazocupon)   \n",
        "}\n",
        "\n",
        "x0=X[1,] #tasas de descuento valor actual\n",
        "\n",
        "bonoMyield(x0,plazos, plazocupon, tfcupon, nominal, contratos)"
      ],
      "metadata": {
        "id": "FDK9C9LTtooT",
        "colab": {
          "base_uri": "https://localhost:8080/"
        },
        "outputId": "19eaa3a6-47c6-49c4-825f-d40593605bdc"
      },
      "execution_count": 275,
      "outputs": [
        {
          "output_type": "stream",
          "name": "stdout",
          "text": [
            "         [,1] [,2]\n",
            "[1,] 935.1361   NA\n"
          ]
        }
      ]
    },
    {
      "cell_type": "code",
      "metadata": {
        "id": "Sa8BHfZ-wkqZ"
      },
      "source": [
        "%%R\n",
        "#BONDE D CÁLCULO\n",
        "\n",
        "X2_pr=lin_gub_bmybdst_flibfwdspind_swcupvp_oirsvpvol[X2_orig_bd, on = .(Date),nomatch=0][order(-Date)] #Se alinea la tasa de fondeo por fecha con la tasa de valor presente.\n",
        "m=ncol(plazos_bdm)\n",
        "\n",
        "N_bd=as.integer(plazos_bdm/plazocupon_bdm)+1 #número de cupones a pagar\n",
        "VTplazos_bdm=matrix(0,1,sum(N_bd)) #vector de todos los plazos_bdm de todos los contratos_bdm\n",
        "contratos_bdmT=matrix(0,1,sum(N_bd)) #vector de todos los contratos_bdm de todos los flujos de todos los contratos_bdm\n",
        "nominal_bdmT=matrix(0,1,sum(N_bd)) #vector de todos los nominal_bdmes de todos los flujos de todos los contratos_bdm\n",
        "plazocupon_bdmT=matrix(0,1,sum(N_bd)) #vector de todos los plazos_bdmcupon de todos los flujos de todos los contratos_bdm\n",
        "tasafijaT_bd=matrix(0,1,sum(N_bd)) #vector de tasas fijas de todos los flujos de todos los contratos_bdm\n",
        "ulNomT_bd=matrix(0,1,sum(N_bd)) #vector de contratos_bdm a final de flujo\n",
        "\n",
        "plazini_bd=plazos_bdm-plazocupon_bdm*(N_bd-1) #vector de plazos_bdm iniciales\n",
        "ddv=plazocupon_bdm-plazini_bd #dias trasncurridos del cupón vigente\n",
        "tfcupon=matrix(0,1,m)  #El primero cupón de cada bono\n",
        "tfcupondev=matrix(0,1,m) #cupón de los días devengados\n",
        "tfcupgen=((1+tf_act/360)^(plazocupon_bdm[1])-1)*360/plazocupon_bdm[1] #el segundo al último cupón de todos los bonos\n",
        "\n",
        "#calcula cupones de bonos\n",
        "for (j in (1:m))\n",
        "{\n",
        "  tfcupondev[j]=(prod(1+tf_int[(1:ddv[j])]/360)-1)*360/ddv[j]\n",
        "  tfcupon[j]=((1+tfcupondev[j]*ddv[j]/360)*(1+tf_act/360)^(plazocupon_bdm[1]-ddv[j])-1)*360/plazocupon_bdm[1]\n",
        "}\n",
        "\n",
        "\n",
        "for (j in (1:m))\n",
        "{\n",
        "  if (j==1)\n",
        "  {\n",
        "    VTplazos_bdm[,1:sum(N_bd[1:j])]=seq(plazini_bd[j],plazos_bdm[j], by=plazocupon_bdm[j])\n",
        "    contratos_bdmT[,1:sum(N_bd[1:j])]=seq(contratos_bdm[j],contratos_bdm[j])\n",
        "    plazocupon_bdmT[,1:sum(N_bd[1:j])]=seq(plazocupon_bdm[j],plazocupon_bdm[j])\n",
        "    ulNomT_bd[,sum(N_bd[1:j])]=contratos_bdm[j]\n",
        "    tasafijaT_bd[,1]=tfcupon[j]\n",
        "    tasafijaT_bd[,2:sum(N_bd[1:j])]=seq(tfcupgen,tfcupgen)\n",
        "  }\n",
        "  else\n",
        "  {\n",
        "    VTplazos_bdm[,(sum(N_bd[1:j-1])+1):sum(N_bd[1:j])]=seq(plazini_bd[j],plazos_bdm[j], by=plazocupon_bdm[j])\n",
        "    contratos_bdmT[,(sum(N_bd[1:j-1])+1):sum(N_bd[1:j])]=seq(contratos_bdm[j],contratos_bdm[j])\t\t\t\t\t\n",
        "    plazocupon_bdmT[,(sum(N_bd[1:j-1])+1):sum(N_bd[1:j])]=seq(plazocupon_bdm[j],plazocupon_bdm[j])\n",
        "    tasafijaT_bd[,(sum(N_bd[1:j-1])+1)]=tfcupon[j]\n",
        "    tasafijaT_bd[,(sum(N_bd[1:j-1])+2):sum(N_bd[1:j])]=seq(tfcupgen,tfcupgen)\n",
        "    ulNomT_bd[,sum(N_bd[1:j])]=contratos_bdm[j]\n",
        "  }\n",
        "}\n",
        "\n",
        "Xvp_bd=matrix(0,n,ncol(VTplazos_bdm))\n",
        "Xst_bd=matrix(0,n,ncol(VTplazos_bdm))\n",
        "\n",
        "itpl=0\n",
        "for (i in (1:n))\n",
        "{\n",
        "  Xvp_bd[i,]=if(itpl==0){approx(nodos_gov,x_orig_gov[i,],VTplazos_bdm,rule=2)$y}\n",
        "               else{talamb(nodos_gov,x_orig_gov[i,],VTplazos_bdm)}\n",
        "  Xst_bd[i,]=if(itpl==0){approx(nodos3_bd,X3_orig_bd[i,],VTplazos_bdm,rule=2)$y}else{talamb(nodos3_bd,X3_orig_bd[i,],VTplazos_bdm)}\n",
        "  \n",
        "}\n",
        "\n",
        "X_bd_tc=matrix(1,n,ncol(contratos_bdmT))*X2_pr$V2/100\n",
        "X_bd_ext=cbind(X_bd_tc,as.matrix(Xvp_bd),as.matrix(Xst_bd))\n"
      ],
      "execution_count": 276,
      "outputs": []
    },
    {
      "cell_type": "code",
      "source": [
        "%%R\n",
        "bondeD=function(contratos_bdmT,  nominal_bdm, tf_act, plazocupon_bdmT, VTplazos_bdm, Xvp, Xst, N,ddv)\n",
        "{\n",
        "  tfcupon=matrix(0,1,m)  #El primero cupón de cada bono\n",
        "  tfcupondev=matrix(0,1,m) #cupón de los días devengados\n",
        "  tfcupgen=((1+tf_act/360)^(plazocupon_bdm[1])-1)*360/plazocupon_bdm[1] #el segundo al último cupón de todos los bonos\n",
        "  tasafijaT=matrix(0,1,sum(N))\n",
        "  #calcula cupones de bonos\n",
        "  for (j in (1:m)){\n",
        "    tfcupondev[j]=(prod(1+tf_int[(1:ddv[j])]/360)-1)*360/ddv[j]\n",
        "    tfcupon[j]=((1+tfcupondev[j]*ddv[j]/360)*(1+tf_act/360)^(plazocupon_bdm[1]-ddv[j])-1)*360/plazocupon_bdm[1]\n",
        "  }\n",
        "  \n",
        "  \n",
        "  for (j in (1:m)){\n",
        "    if (j==1){\n",
        "      tasafijaT[,1]=tfcupon[j]\n",
        "      tasafijaT[,2:sum(N[1:j])]=seq(tfcupgen,tfcupgen)\n",
        "    }\n",
        "    else{\n",
        "      tasafijaT[,(sum(N[1:j-1])+1)]=tfcupon[j]\n",
        "      tasafijaT[,(sum(N[1:j-1])+2):sum(N[1:j])]=seq(tfcupgen,tfcupgen)\n",
        "    }\n",
        "  }\n",
        "  \n",
        "  \n",
        "  V0=matrix(0,1,count(N))\n",
        "  V0f=((((contratos_bdmT*(tasafijaT)*(plazocupon_bdmT/360))+ulNomT_bd)/(1+(Xvp+Xst)*VTplazos_bdm/360)))*nominal_bdm\n",
        "  for (j in (1:count(N))){\n",
        "    if(j==1){\n",
        "      V0[j]=sum(V0f[j:N[j]])}\n",
        "    else\n",
        "    {V0[j]=sum(V0f[(sum(N[1:j-1])+1):(sum(N[1:j]))])}}\n",
        "  V0\n",
        "  } \n",
        "\n",
        "V0_bd=bondeD(contratos_bdmT, nominal_bdm, tf_act, plazocupon_bdmT, VTplazos_bdm, Xvp_bd[1,], Xst_bd[1,], N_bd,ddv)\n",
        "\n",
        "V0_bd"
      ],
      "metadata": {
        "id": "2hkvnoMft8no",
        "colab": {
          "base_uri": "https://localhost:8080/"
        },
        "outputId": "20b8634a-a63c-4bc4-947d-9571615b0619"
      },
      "execution_count": 277,
      "outputs": [
        {
          "output_type": "stream",
          "name": "stdout",
          "text": [
            "          [,1] [,2]\n",
            "[1,] -94292.17    0\n"
          ]
        }
      ]
    },
    {
      "cell_type": "markdown",
      "metadata": {
        "id": "8hY4aG-zuvX_"
      },
      "source": [
        "## Forwards de Tipo de Cambio"
      ]
    },
    {
      "cell_type": "code",
      "metadata": {
        "id": "-N3pqGmgutZK",
        "colab": {
          "base_uri": "https://localhost:8080/"
        },
        "outputId": "bc5d176b-67ef-4e08-a918-d98fc2023563"
      },
      "source": [
        "%%R\n",
        "#FORWARDS Y/O FUTUROS DE TIPO DE CAMBIO VALORACIÓN\n",
        "\n",
        "################MATRICES DE INTERPOLACION LINEAL ####################\n",
        "\n",
        "m=ncol(plazos_fwd)\n",
        "X1_fwtdc=matrix(0,n,m)\n",
        "X2_fwtdc=matrix(0,n,m)\n",
        "\n",
        "\n",
        "for (j in 1:n)\n",
        "{\n",
        "  X1_fwtdc[j,]=if(itpl==0){approx(nodos1_ftdc,x1_ftdc[j,],plazos_fwd,rule=2)$y}else{talamb(nodos1_ftdc,x1_ftdc[j,],plazos_fwd)}\n",
        "  X2_fwtdc[j,]=if(itpl==0){approx(nodos2_ftdc,x2_ftdc[j,],plazos_fwd,rule=2)$y}else{talamb(nodos2_ftdc,x2_ftdc[j,],plazos_fwd)}\n",
        "  if(trlib==1){X1_fwtdc[j,]=((1+X1_fwtdc[j,])^(plazos_fwd/180)-1)*360/plazos_fwd} #transformación de act 180 a 360\n",
        "}\n",
        "\n",
        "\n",
        "futuroTC = function(t,tl,tn,s,k) #t=dias por vencer, tn=tasa nacional para tipo de cambio forward, tl= tasa extranjera pra tipo de cambio forward, S=spot\n",
        "{\n",
        "  f=s*((1+tn*t/360)/(1+tl*t/360)) #Se obtiene el tipo de cambio forward\n",
        "  t(as.numeric((f-k)/(1+t*tn/360))) #Se obtiene el valor del payoff a valor presente con el valor z que define si es largo o corto\n",
        "}\n",
        "\n",
        "X3_ftdc=as.matrix(X3_ftdc)\n",
        "\n",
        "\n",
        "X_futtdc=cbind(X1_fwtdc,X2_fwtdc,X3_ftdc)\n",
        "\n",
        "V0_fwtdc=futuroTC(plazos_fwd,X1_fwtdc[1,],X2_fwtdc[1,],X3_ftdc[1,],kst_fwd)*contratos_fwd*nominal_fwd\n",
        "# V0_fwtdc=futuroTC(plazos_fwd,X1_fwtdc[1,],X2_fwtdc[1,],X3_ftdc[1,],kst_fwd)*contratos_fwd*nominal_fwd\n",
        "V0_fwtdc"
      ],
      "execution_count": 278,
      "outputs": [
        {
          "output_type": "stream",
          "name": "stdout",
          "text": [
            "          [,1] [,2]\n",
            "[1,] -85.61414    0\n"
          ]
        }
      ]
    },
    {
      "cell_type": "markdown",
      "metadata": {
        "id": "3xrsdVCFu96d"
      },
      "source": [
        "## Forward de indices"
      ]
    },
    {
      "cell_type": "code",
      "metadata": {
        "id": "sSGTSmwGu-O6",
        "colab": {
          "base_uri": "https://localhost:8080/"
        },
        "outputId": "244cb0f7-3ab6-421e-dae8-56e85b03ac53"
      },
      "source": [
        "%%R\n",
        "#FORWARDS Y/O FUTUROS DE ÍNDICES CÁLCULO\n",
        "\n",
        "################MATRICES DE INTERPOLACION LINEAL ####################\n",
        "n=nrow(lin_gub_bmybdst_flibfwdspind_swcupvp_oirsvpvol) #Historia de todos\n",
        "m_ind=ncol(plazos_fwd_ind)\n",
        "X1_fwind=matrix(0,n,m_ind) #DIVIDENDOS\n",
        "X2_fwind=matrix(0,n,m_ind)\n",
        "\n",
        "for (j in 1:n)\n",
        "{\n",
        "  #X1_fwind[j,]=if(itpl==0){approx(nodos1_,x1_ftdc[j,],plazos_fwd)$y}else{talamb(nodos1_ftdc,x1_ftdc[j,],plazos_fwd)}\n",
        "  X2_fwind[j,]=if(itpl==0){approx(nodos_gov,x_orig_gov[j,],plazos_fwd_ind,rule=2)$y}else{talamb(nodos_gov,x_orig_gov[j,],plazos_fwd_ind)}\n",
        "  #if(trlib==1){X1_fwtdc[j,]=((1+X1_fwtdc[j,])^(plazos_fwd/180)-1)*360/plazos_fwd} #transformación de act 180 a 360\n",
        "}\n",
        "\n",
        "X3_find=as.matrix(X3_find)\n",
        "X_futind=cbind(X1_fwind,X2_fwind,matrix(X3_find,n,ncol(X1_fwind)))\n",
        "\n",
        "V0_fwind=futuroTC(plazos_fwd_ind,X1_fwind[1,],X2_fwind[1,],X3_find[1,],kst_fwd_ind)*contratos_fwd_ind*nominal_fwd_ind\n",
        "V0_fwind"
      ],
      "execution_count": 279,
      "outputs": [
        {
          "output_type": "stream",
          "name": "stdout",
          "text": [
            "         [,1] [,2]\n",
            "[1,] 342308.9    0\n"
          ]
        }
      ]
    },
    {
      "cell_type": "markdown",
      "metadata": {
        "id": "EbJH8k5GxWrr"
      },
      "source": [
        "## Swaps\n"
      ]
    },
    {
      "cell_type": "code",
      "metadata": {
        "id": "53jKdJPVxY_g",
        "colab": {
          "base_uri": "https://localhost:8080/"
        },
        "outputId": "8bc5630c-b8d5-4d39-9005-6dd0ab16a5b1"
      },
      "source": [
        "%%R\n",
        "##SWAP TASA FIJA VS TASA VARIABLE CÁLCULO\n",
        "\n",
        "##Interpolamos\n",
        "\n",
        "nodosvp=nodos1_sw\n",
        "nodostc=nodos2_sw\n",
        "curvavp=as.matrix(X1_orig_sw)\n",
        "curvatc=X2_orig_sw\n",
        "n1=nrow(curvavp)\n",
        "n2=nrow(curvatc)\n",
        "\n",
        "\n",
        "m=max(ncol(plazos_sw),1) #número de contratos_sw swap a valorar\n",
        "N=matrix(0,1,m) #es un vector de m valores donde se cargarán los m número de cupones a pagar para cada contrato\n",
        "for (j in (1:m))\n",
        "{\n",
        "  N[j]=as.integer(plazos_sw[j]/plazocupon_sw[j])+1 #número de cupones a pagar\n",
        "}\n",
        "VTplazos_sw=matrix(0,1,sum(N)) #vector de todos los plazos_sw de todos los contratos_sw\n",
        "contratos_swT=matrix(0,1,sum(N)) #vector de todos los contratos_sw de todos los flujos de todos los contratos_sw\n",
        "nominal_swT=matrix(0,1,sum(N)) #vector de todos los nominal_swes de todos los flujos de todos los contratos_sw\n",
        "por_swT=matrix(0,1,sum(N)) #vector de todos los dummy si paga o recibe de todos los flujos de todos los contratos_sw\n",
        "plazocupon_swT=matrix(0,1,sum(N)) #vector de todos los plazos_swcupon de todos los flujos de todos los contratos_sw\n",
        "tasafija_swT=matrix(0,1,sum(N)) #vector de tasas fijas de todos los flujos de todos los contratos_sw\n",
        "VTplazos_swc=matrix(0,1,sum(N)) #vector de todos los plazos_sw cortos de todos los contratos_sw\n",
        "\n",
        "\n",
        "plazini=plazos_sw-plazocupon_sw*(N-1) #vector de plazos_sw iniciales\n",
        "\n",
        "for (j in (1:m))\n",
        "{\n",
        "  if (j==1)\n",
        "  {\n",
        "    VTplazos_sw[,1:sum(N[1:j])]=seq(plazini[j],plazos_sw[j], by=plazocupon_sw[j])\n",
        "    VTplazos_swc[,1:sum(N[1:j])]=c(0,VTplazos_sw[,1:(sum(N[1:j])-1)])\n",
        "    contratos_swT[,1:sum(N[1:j])]=seq(contratos_sw[j],contratos_sw[j])\n",
        "    nominal_swT[,1:sum(N[1:j])]=seq(nominal_sw[j],nominal_sw[j])\n",
        "    por_swT[,1:sum(N[1:j])]=seq(por_sw[j],por_sw[j])\n",
        "    plazocupon_swT[,1:sum(N[1:j])]=seq(plazocupon_sw[j],plazocupon_sw[j])\n",
        "    tasafija_swT[,1:sum(N[1:j])]=seq(tasafija_sw[j],tasafija_sw[j])\n",
        "  }\n",
        "  else\n",
        "  {\n",
        "    VTplazos_sw[,(sum(N[1:j-1])+1):sum(N[1:j])]=seq(plazini[j],plazos_sw[j], by=plazocupon_sw[j])\n",
        "    VTplazos_swc[,(sum(N[1:j-1])+1):sum(N[1:j])]=c(0,VTplazos_sw[,(sum(N[1:j-1])+1):(sum(N[1:j])-1)])\n",
        "    contratos_swT[,(sum(N[1:j-1])+1):sum(N[1:j])]=seq(contratos_sw[j],contratos_sw[j])\t\t\t\t\t\n",
        "    nominal_swT[,(sum(N[1:j-1])+1):sum(N[1:j])]=seq(nominal_sw[j],nominal_sw[j])\n",
        "    por_swT[,(sum(N[1:j-1])+1):sum(N[1:j])]=seq(por_sw[j],por_sw[j])\n",
        "    plazocupon_swT[,(sum(N[1:j-1])+1):sum(N[1:j])]=seq(plazocupon_sw[j],plazocupon_sw[j])\n",
        "    tasafija_swT[,(sum(N[1:j-1])+1):sum(N[1:j])]=seq(tasafija_sw[j],tasafija_sw[j])\n",
        "  }\n",
        "}\n",
        "\n",
        "\n",
        "Xvp=matrix(0,n,ncol(VTplazos_sw))\n",
        "Xtc=matrix(0,n,ncol(VTplazos_sw))\n",
        "Xtcc=matrix(0,n,ncol(VTplazos_sw))\n",
        "XtfwdT=matrix(0,n,ncol(VTplazos_sw))\n",
        "\n",
        "for (i in (1:n))\n",
        "{\n",
        "  Xvp[i,]=if(itpl==0){approx(nodosvp,curvavp[i,],VTplazos_sw,rule=2)$y}else{talamb(nodosvp,curvavp[i,],VTplazos_sw)}\n",
        "  Xtc[i,]=if(itpl==0){approx(nodostc,curvatc[i,],VTplazos_sw,rule=2)$y}else{talamb(nodostc,curvatc[i,],VTplazos_sw)}\n",
        "  Xtcc[i,]=if(itpl==0){approx(nodostc,curvatc[i,],VTplazos_swc, rule=2)$y}else{talamb(nodostc,curvatc[i,],VTplazos_swc)}\n",
        "  \n",
        "  XtfwdT[i,]=((1+Xtc[i,]*VTplazos_sw/360)/(1+Xtcc[i,]*VTplazos_swc/360)-1)*360/plazocupon_swT \n",
        "  for (j in (1:ncol(VTplazos_sw)))\n",
        "  {\n",
        "    if (VTplazos_sw[j]<= plazocupon_swT[j])\n",
        "    {\n",
        "      XtfwdT[i,j]=Xtc[i,j]\n",
        "    }\n",
        "    else\n",
        "    {\n",
        "      j=sum(N[1:j])\n",
        "    }\n",
        "  }\n",
        "}\n",
        "\n",
        "X_sw=cbind(XtfwdT,Xvp)\n",
        "\n",
        "swap=function(por_swT, contratos_swT, nominal_swT, XtfwdT, tasafija_swT, plazocupon_swT, VTplazos_sw, Xvp, N)\n",
        "{\n",
        "  V0=matrix(0,1,ncol(N))\n",
        "  V0f=(((contratos_swT*(XtfwdT-tasafija_swT)*(plazocupon_swT/360)))/(1+Xvp*VTplazos_sw/360))*nominal_swT*(-1)^por_swT\n",
        "  for (j in (1:ncol(N)))\n",
        "  {\n",
        "    if(j==1)\n",
        "    {\n",
        "      V0[j]=sum(V0f[j:N[j]])\n",
        "    }\n",
        "    else\n",
        "    {\n",
        "      V0[j]=sum(V0f[(sum(N[1:j-1])+1):(sum(N[1:j]))])\n",
        "    }\n",
        "  }\n",
        "  V0\n",
        "}\n",
        "\n",
        "V0_sw=swap(por_swT, contratos_swT, nominal_swT, XtfwdT[1,], tasafija_swT, plazocupon_swT, VTplazos_sw, Xvp[1,], N)\n",
        "V0_sw"
      ],
      "execution_count": 280,
      "outputs": [
        {
          "output_type": "stream",
          "name": "stdout",
          "text": [
            "         [,1]     [,2]\n",
            "[1,] 135101.8 80734.57\n"
          ]
        }
      ]
    },
    {
      "cell_type": "markdown",
      "metadata": {
        "id": "w3o67gb6xj28"
      },
      "source": [
        "##Opciones de Tasa de Interés"
      ]
    },
    {
      "cell_type": "code",
      "metadata": {
        "id": "eez6lrp1xh0W",
        "colab": {
          "base_uri": "https://localhost:8080/"
        },
        "outputId": "afedc656-8704-44a5-da08-b0d7f3b92699"
      },
      "source": [
        "%%R\n",
        "\n",
        "##opciones de tasa de interés, con inicio el día de la valuación CÁLCULO\n",
        "#Posición inicial\n",
        "\n",
        "#interpolación de tasas y volatilidades\n",
        "m=ncol(plazos_oir)\n",
        "x1=matrix(0,n,m)\n",
        "x2tc=matrix(0,n,m)\n",
        "x2tl=matrix(0,n,m)\n",
        "x2=matrix(0,n,m)\n",
        "x3=matrix(0,n,m)\n",
        "for (i in 1:(n))\n",
        "{\n",
        "  x1[i,]=if(itpl==0){approx(nodos1_oir,x1_orig_oir[i,],plazos_oir,rule=2)$y}else{talamb(nodos1_oir,x1_orig_oir[i,],plazos_oir)}\n",
        "  x2tc[i,]=if(itpl==0){approx(nodos2_oir,x2_orig_oir[i,],plazos_oir,rule=2)$y}else{talamb(nodos2_oir,x2_orig_oir[i,],plazos_oir)}\n",
        "  x2tl[i,]=if(itpl==0){approx(nodos2_oir,x2_orig_oir[i,],(plazos_oir+pr_oir),rule=2)$y}else{talamb(nodos2_oir,x2_orig_oir[i,],(plazos_oir+pr_oir))}\n",
        "  x3[i,]=if(itpl==0){approx(nodos3_oir,x3_orig_oir[i,],plazos_oir,rule=2)$y}else{talamb(nodos3_oir,x3_orig_oir[i,],plazos_oir)}\n",
        "  x2[i,]=((1+x2tl[i,]*(plazos_oir+pr_oir)/360)/(1+x2tc[i,]*(plazos_oir)/360)-1)*360/pr_oir\n",
        "}\n",
        "\n",
        "\n",
        "x01=x1[1,] #tasas de descuento\n",
        "x02=x2[1,] #tasas spot\n",
        "x03=x3[1,] #volatilidades\n",
        "\n",
        "X_oir=cbind(x1,x2,x3)\n",
        "\n",
        "opctint = function(d,S,K_oir,vol,t,cp_oir,cs_oir,pr_oir,dct_oir)\t#función de una opción europea\n",
        "{\n",
        "  d1=if(cs_oir==1){(log(S/K_oir)+vol^2*t/(365*2))*(1/(vol*sqrt(t/365)))}else{(log(S/K_oir)+vol^2*t/(360*2))*(1/(vol*sqrt(t/360)))}\n",
        "  d2=if(cs_oir==1){(log(S/K_oir)-vol^2*t/(365*2))*(1/(vol*sqrt(t/365)))}else{(log(S/K_oir)-vol^2*t/(360*2))*(1/(vol*sqrt(t/360)))}\n",
        "  vp=if(cs_oir==1){log(1+d*t/360)*365/t}else{d}  \n",
        "  (if(cs_oir==1){(S*pnorm(d1*(-1)^cp_oir)-K_oir*pnorm(d2*(-1)^cp_oir))*(exp(-vp*t/365))*(-1)^cp_oir}else{(S*pnorm(d1*(-1)^cp_oir)-K_oir*pnorm(d2*(-1)^cp_oir))*(1/(1+vp*t/360))*(-1)^cp_oir})*(pr_oir/dct_oir)/(1+S*pr_oir/dct_oir)\n",
        "}\n",
        "\n",
        "\n",
        "V0_oir=opctint(x01,x02,K_oir,x03,plazos_oir,cp_oir,cs_oir,pr_oir,dct_oir)*contratos_oir*nominal_oir #Valor del portafolio\n",
        "V0_oir"
      ],
      "execution_count": 281,
      "outputs": [
        {
          "output_type": "stream",
          "name": "stdout",
          "text": [
            "         [,1]      [,2]\n",
            "[1,] 1.002318 0.2479957\n"
          ]
        }
      ]
    },
    {
      "cell_type": "markdown",
      "metadata": {
        "id": "fomjk490c_Tm"
      },
      "source": [
        "# Integración de factores y cálculo de riesgo \n"
      ]
    },
    {
      "cell_type": "code",
      "metadata": {
        "id": "ix7N-zKGG2on",
        "colab": {
          "base_uri": "https://localhost:8080/"
        },
        "outputId": "68b00e1e-e77e-4e11-db2f-1cbbc563b3c8"
      },
      "source": [
        "%%R\n",
        "#DIMENSION DE TODOS LOS INSTRUMENTOS\n",
        "n_if=matrix(0,7,1)\n",
        "n_if[1]=ncol(stock_prices_EQFX) #acciones y divisas\n",
        "n_if[2]=ncol(X_bd_ext) #bonde\n",
        "n_if[3]=ncol(X_sw) #swaps\n",
        "n_if[4]=ncol(X_oir) #opciones tasa de interés\n",
        "n_if[5]=ncol(X_futtdc) #Forwards de tipo de cambio\n",
        "n_if[6]=ncol(X_futind) #Forwards de índices\n",
        "n_if[7]=ncol(x)-1 #cetes\n",
        "\n",
        "#valor del portafolios\n",
        "\n",
        "V0_port=cbind(V0_acc_div, V0_bd, V0_sw, V0_oir,V0_fwtdc,V0_fwind, V0_cete)\n",
        "V0T_port=sum(V0_port)\n",
        "\n",
        "#INTEGRACIÓN DE TODOS LOS FACTORES DE RIESGO EN UNA MATRIZ\n",
        "X_port=cbind(stock_prices_EQFX,x_orig_gov, X_bd_ext,X_sw,X_oir,X_futtdc,X_futind, x[,1]) #Factores de riesgo del portafolios de 8(9) instrumentos financieros\n",
        "\n",
        "#Cálculo de variaciones Delta_X DEL PORTAFOLIOS\n",
        "DeltaX_port=as.matrix(log(X_port[1:(n-1)]/X_port[2:(n)]))\n",
        "DeltaX_port[is.nan(DeltaX_port)] <- 0 #quitamos NaN\n",
        "DeltaX_port[is.na(DeltaX_port)] <- 0 #quitamos Na\n",
        "DeltaX_port[is.infinite(DeltaX_port)] <- 0 #quitamos Na\n",
        "\n",
        "\n",
        "Ns=nrow(DeltaX_port) #Definimos número de escenarios históricos\n",
        "#alpha=0.98 #Nivel de Confianza para las medidas de riesgo\n",
        "\n",
        "DeltaX_s=DeltaX_port\n",
        "# print(head(DeltaX_s))\n",
        "\n",
        "print(n_if)\n"
      ],
      "execution_count": 282,
      "outputs": [
        {
          "output_type": "stream",
          "name": "stdout",
          "text": [
            "     [,1]\n",
            "[1,]    6\n",
            "[2,]  156\n",
            "[3,]   64\n",
            "[4,]    6\n",
            "[5,]    5\n",
            "[6,]    6\n",
            "[7,]    1\n"
          ]
        }
      ]
    },
    {
      "cell_type": "code",
      "metadata": {
        "id": "UkGGAUX6iXa0",
        "colab": {
          "base_uri": "https://localhost:8080/"
        },
        "outputId": "5be7ca57-2191-4eb2-ff22-ecce5ef7c3ea"
      },
      "source": [
        "%%R\n",
        "\n",
        "#Medidas de riesgo CON alisado\n",
        "\n",
        "#Se necesita definir\n",
        "#1) El valor del peso inicial del primer escenario \"w0\"\n",
        "#2) La función de cuantil con vector de probabilidades no iguales\n",
        "#3) La función de CVaR con probabilidades no iguales\n",
        "\n",
        "#w0=0.05\n",
        "\n",
        "#Creación de dos funciones que sirven para este fin\n",
        "# Percentil con pesos de probabilidades\n",
        "# \n",
        "# v  un vector de observaciones\n",
        "# w Un vector numérico de valores positivos, en general es la distrubición.\n",
        "# p  el valor de la probabilidad entre 0 y 1.\n",
        "# \n",
        "# Esta función no interpola\n",
        "\n",
        "wquantile <- function(v,w=rep(1,length(v)),p) \n",
        "{ \n",
        "  if ( !is.numeric(w) || length(v) != length(w) ) \n",
        "    stop(\"Los valores y los pesos tienen que tener misma longitud\") \n",
        "  if ( !is.numeric(p) || any( p<0 | p>1) ) \n",
        "    stop(\"Percentil tiene que ser 0<=p<=1\") \n",
        "  if ( min(w) < 0 ) stop(\"Los pesos tiene que ser mayores que 0\") \n",
        "  ranking <- order(v) \n",
        "  sumw <- cumsum(w[ranking]) \n",
        "  plist <- sumw / sumw[ length(sumw) ] \n",
        "  v [ ranking [ which.max( plist >= p ) ] ]  \n",
        "} \n",
        "\n",
        "#CVaR con alisado\n",
        "wcvar <- function(v,w=rep(1,length(v)),p=.5) \n",
        "{ \n",
        "  if ( !is.numeric(w) || length(v) != length(w) ) \n",
        "    stop(\"Los valores y los pesos tienen que tener misma longitud\") \n",
        "  if ( !is.numeric(p) || any( p<0 | p>1) ) \n",
        "    stop(\"Percentil tiene que ser 0<=p<=1\") \n",
        "  if ( min(w) < 0 ) stop(\"Los pesos tiene que ser mayores que 0\") \n",
        "  ranking <- order(v) \n",
        "  sumw <- cumsum(w[ranking]) \n",
        "  plist <- sumw / sumw[ length(sumw) ] \n",
        "  loss= v [ ranking [ which( plist < p ) ] ]  \n",
        "  esc=w [ ranking [ which( plist < p ) ] ]  \n",
        "  sum(loss*esc)/(sum(esc))\n",
        "} \n",
        "\n",
        "\n",
        "#esc_cvar=which(cumsum(p_esc[order(PLT[,1])])<pdca)\n",
        "\n",
        "\n",
        "#p_esc[esc_cvar]\n",
        "\n",
        "#tshs=cbind(PLT,p_esc)\n",
        "\n",
        "w0=0.05\n",
        "n=Ns\n",
        "lambda =uniroot(function(x) w0*(1-x^(n))/(1-x)-1, c(0,0.99), tol = 1e-28)$root\n",
        "lambda\n",
        "\n",
        "#generamos la función que genera \"n\" escenarios con base en w0 y lambda\n",
        "genera_esc=function(lamda,w0,n)\n",
        "{\n",
        "  p_esc=matrix(0,n,1)\n",
        "  for (i in (1:n))\n",
        "  {\n",
        "    p_esc[i]=w0*lambda^(i-1)\n",
        "  }\n",
        "  p_esc\n",
        "}\n",
        "\n",
        "p_esc=genera_esc(lambda,w0,n)\n",
        "head(p_esc)"
      ],
      "execution_count": 283,
      "outputs": [
        {
          "output_type": "stream",
          "name": "stdout",
          "text": [
            "           [,1]\n",
            "[1,] 0.05000000\n",
            "[2,] 0.04750001\n",
            "[3,] 0.04512501\n",
            "[4,] 0.04286877\n",
            "[5,] 0.04072533\n",
            "[6,] 0.03868907\n"
          ]
        }
      ]
    },
    {
      "cell_type": "markdown",
      "metadata": {
        "id": "VXuyQcc622Cx"
      },
      "source": [
        "# Medición de Riesgo"
      ]
    },
    {
      "cell_type": "markdown",
      "metadata": {
        "id": "j2L9uCZl28DD"
      },
      "source": [
        "## Acciones y divisas"
      ]
    },
    {
      "cell_type": "code",
      "metadata": {
        "id": "sI6U0L2w2501",
        "colab": {
          "base_uri": "https://localhost:8080/"
        },
        "outputId": "fc677b21-0861-4c78-ca75-1356d0b5d08e"
      },
      "source": [
        "%%R\n",
        "#Medición de riesgo por instrumento, instrumento-factor de riesgo, instrumento - total\n",
        "\n",
        "\n",
        "#Cálculo de matriz de pérdidas y ganancias Acciones y Divisas\n",
        "\n",
        "#riesgo del acciones y divisas\n",
        "m_fx= ncol(stock_pricesFX)\n",
        "m_acc= ncol(stock_prices)\n",
        "m=m_fx+m_acc    #PASO CLAVE\n",
        "X_s_acc_div=matrix(0,Ns,n_if[1]) #Factores de riesgo simulados con base en DeltaX_s x0*(1+Delta_Xs)   #PASO CLAVE\n",
        "V_acc_div=matrix(0,Ns,m)\n",
        "Vfr1_acc_div=matrix(0,Ns,m_fx)\n",
        "Vfr2_acc_div=matrix(0,Ns,m_acc)\n",
        "PG_acc_div=matrix(0,Ns,m) #Pèrdidas y ganancias\n",
        "PGfr1_acc_div=matrix(0,Ns,m_fx)\n",
        "PGfr2_acc_div=matrix(0,Ns,m_acc)\n",
        "PGT_acc_div=matrix(0,Ns,1) #Suma de las pérdidas y ganancias de cada instrumento\n",
        "PGfr1T_acc_div=matrix(0,Ns,1)\n",
        "PGfr2T_acc_div=matrix(0,Ns,1)\n",
        "\n",
        "DeltaX_s_acc_div=DeltaX_s[,(1:n_if[1])]    #PASO CLAVE\n",
        "x0_acc_div=stock_prices_EQFX[1,]   #PASO CLAVE\n",
        "\n",
        "for (i in 1:Ns)\n",
        "{\n",
        "  X_s_acc_div[i,]=as.matrix(x0_acc_div*exp(DeltaX_s_acc_div[i,]))\n",
        "  #PASO CLAVE\n",
        "  V_acc_div[i,]=cbind(t(pos_fx),t(pos_eq))*X_s_acc_div[i,]\n",
        "  #PASO CLAVE\n",
        "  Vfr1_acc_div[i,]=t(pos_fx)*X_s_acc_div[i,1:m_fx]\n",
        "  #PASO CLAVE\n",
        "  Vfr2_acc_div[i,]=t(pos_eq)*X_s_acc_div[i,(m_fx+1):(m_fx+m_acc)]\n",
        "  #PASO CLAVE\n",
        "  PG_acc_div[i,]=as.matrix(V_acc_div[i,]-V0_acc_div)\n",
        "  PGfr1_acc_div[i,]=as.matrix(Vfr1_acc_div[i,]-V0_acc_div[,1:m_fx])\n",
        "  PGfr2_acc_div[i,]=as.matrix(Vfr2_acc_div[i,]-V0_acc_div[,(m_fx+1):(m_fx+m_acc)])\n",
        "  PGT_acc_div[i,]=sum(PG_acc_div[i,])\n",
        "  PGfr1T_acc_div[i,]=sum(PGfr1_acc_div[i,])\n",
        "  PGfr2T_acc_div[i,]=sum(PGfr2_acc_div[i,])\n",
        "}\n",
        "\n",
        "#VaR por posición\n",
        "VaRCont_acc_div=matrix(0,1,m)\n",
        "VaRfr1_acc_div=matrix(0,1,m_fx)\n",
        "VaRfr2_acc_div=matrix(0,1,m_acc)\n",
        "CVaRCont_acc_div=matrix(0,1,m)\n",
        "CVaRfr1_acc_div=matrix(0,1,m_fx)\n",
        "CVaRfr2_acc_div=matrix(0,1,m_acc)\n",
        "\n",
        "VaRCont_CA_acc_div=matrix(0,1,m)\n",
        "VaRfr1_CA_acc_div=matrix(0,1,m_fx)\n",
        "VaRfr2_CA_acc_div=matrix(0,1,m_acc)\n",
        "CVaRCont_CA_acc_div=matrix(0,1,m)\n",
        "CVaRfr1_CA_acc_div=matrix(0,1,m_fx)\n",
        "CVaRfr2_CA_acc_div=matrix(0,1,m_acc)\n",
        "\n",
        "\n",
        "for (i in (1:m))\n",
        "{\n",
        "  #Sin alisado\n",
        "  VaRCont_acc_div[i]=equantile(PG_acc_div[,i],1-alpha,Ns)\n",
        "  CVaRCont_acc_div[i]= mean(merge(which(PG_acc_div[,i]<VaRCont_acc_div[i]),cbind(seq(1,Ns),PG_acc_div[,i]), by.x=1,by.y=1)[,2])\n",
        "\n",
        "  #Con alisado\n",
        "  VaRCont_CA_acc_div[i]=wquantile(PG_acc_div[,i],p_esc, 1-alpha)\n",
        "  CVaRCont_CA_acc_div[i]= mean(merge(which(PG_acc_div[,i]<VaRCont_CA_acc_div[i]),cbind(seq(1,Ns),PG_acc_div[,i]), by.x=1,by.y=1)[,2])\n",
        "\n",
        "  if (i<=m_fx)\n",
        "  {\n",
        "  VaRfr1_acc_div[i]=equantile(PGfr1_acc_div[,i],1-alpha,Ns)\n",
        "  CVaRfr1_acc_div[i]= mean(merge(which(PGfr1_acc_div[,i]<VaRfr1_acc_div[i]),cbind(seq(1,Ns),PGfr1_acc_div[,i]), by.x=1,by.y=1)[,2])\n",
        "  }\n",
        "  if (i<=m_acc)\n",
        "  {  \n",
        "  VaRfr2_acc_div[i]=equantile(PGfr2_acc_div[,i],1-alpha,Ns)\n",
        "  CVaRfr2_acc_div[i]= mean(merge(which(PGfr2_acc_div[,i]<VaRfr2_acc_div[i]),cbind(seq(1,Ns),PGfr2_acc_div[,i]), by.x=1,by.y=1)[,2])\n",
        "  }\n",
        "}\n",
        "\n",
        "\n",
        "#VaR Total\n",
        "VaRTotal_acc_div=equantile(PGT_acc_div,1-alpha,Ns)\n",
        "CVaRTotal_acc_div= mean(merge(which(PGT_acc_div<VaRTotal_acc_div),cbind(seq(1,Ns),PGT_acc_div), by.x=1,by.y=1)[,2])\n",
        "\n",
        "#VaR y CVaR Total por factor de riesgo 1\n",
        "#Sin alisado\n",
        "VaRTotalfr1_acc_div=equantile(PGfr1T_acc_div,1-alpha,Ns)\n",
        "CVaRTotalfr1_acc_div= mean(PGfr1T_acc_div[which(PGfr1T_acc_div<VaRTotalfr1_acc_div),])\n",
        "\n",
        "#Con alisado\n",
        "VaRTotalfr1_CA_acc_div = wquantile(PGfr1T_acc_div,p_esc, 1-alpha)\n",
        "CVaRTotalfr1_CA_acc_div = mean(PGfr1T_acc_div[which(PGfr1T_acc_div<VaRTotalfr1_CA_acc_div),])\n",
        "\n",
        "#VaR y CVaR Total por factor de riesgo 2\n",
        "#Sin alisado\n",
        "VaRTotalfr2_acc_div=equantile(PGfr2T_acc_div,1-alpha,Ns)\n",
        "CVaRTotalfr2_acc_div= mean(PGfr2T_acc_div[which(PGfr2T_acc_div<VaRTotalfr2_acc_div),])\n",
        "\n",
        "#Con alisado\n",
        "VaRTotalfr2_CA_acc_div = wquantile(PGfr2T_acc_div,p_esc, 1-alpha)\n",
        "CVaRTotalfr2_CA_acc_div = mean(PGfr2T_acc_div[which(PGfr2T_acc_div<VaRTotalfr2_CA_acc_div),])\n",
        "\n",
        "print(cbind(VaRTotal_acc_div,sum(V0_acc_div), VaRCont_acc_div, V0_acc_div))\n",
        "cbind(CVaRTotal_acc_div,sum(V0_acc_div), CVaRCont_acc_div, V0_acc_div)\n",
        "cbind(VaRTotal_acc_div,VaRTotalfr1_acc_div,VaRTotalfr2_acc_div)\n",
        "cbind(CVaRTotal_acc_div,CVaRTotalfr1_acc_div,CVaRTotalfr2_acc_div)"
      ],
      "execution_count": 284,
      "outputs": [
        {
          "output_type": "stream",
          "name": "stdout",
          "text": [
            "   VaRTotal_acc_div       V2        V1        V2        V3        V4        V5\n",
            "1:        -4306.785 95952.28 -149.0083 -160.1994 -317.2778 -2940.283 -2955.189\n",
            "          V6 EURUSD.X  GBPUSD.X USDMXN.X AMXL.MX GCARSOA1.MX WALMEX.MX\n",
            "1: -2616.769 15501.42 -15685.53  29948.4 -103750       73530     96408\n",
            "     CVaRTotal_acc_div CVaRTotalfr1_acc_div CVaRTotalfr2_acc_div\n",
            "[1,]         -5307.676             -423.176            -5309.633\n"
          ]
        }
      ]
    },
    {
      "cell_type": "code",
      "source": [
        "%%R\n",
        "#VaR y CVaR  Divisas\n",
        "Acc_VaR_CVaR <- cbind(VaRCont_acc_div[,1:3], \n",
        "CVaRCont_acc_div[,1:3], VaRCont_CA_acc_div[,1:3],CVaRCont_CA_acc_div[,1:3] )\n",
        "colnames(Acc_VaR_CVaR) <- c(\"VaR SA\", \"CVaR SA\", \"VaR CA\", \"CVaR CA\")\n",
        "\n",
        "Acc_VaR_CVaR <- rbind(Acc_VaR_CVaR, c(VaRTotalfr1_acc_div, CVaRTotalfr1_acc_div, VaRTotalfr1_CA_acc_div, CVaRTotalfr1_CA_acc_div))\n",
        "rownames(Acc_VaR_CVaR) <- c(names(stock_pricesFX), \"Total\")\n",
        "\n",
        "Acc_VaR_CVaR\n"
      ],
      "metadata": {
        "id": "hEP8a1Oq74Zz",
        "colab": {
          "base_uri": "https://localhost:8080/"
        },
        "outputId": "f1b88025-9d78-4148-c2a1-490321d152c5"
      },
      "execution_count": 285,
      "outputs": [
        {
          "output_type": "stream",
          "name": "stdout",
          "text": [
            "            VaR SA   CVaR SA    VaR CA   CVaR CA\n",
            "EURUSD.X -149.0083 -189.9811 -214.0865 -271.4772\n",
            "GBPUSD.X -160.1994 -179.9433 -130.5663 -158.3959\n",
            "USDMXN.X -317.2778 -442.8901 -640.9600       NaN\n",
            "Total    -357.8263 -423.1760 -493.7925       NaN\n"
          ]
        }
      ]
    },
    {
      "cell_type": "code",
      "source": [
        "%%R\n",
        "#VaR y CVaR Acciones\n",
        "Div_VaR_CVaR <- cbind(VaRCont_acc_div[,4:6], CVaRCont_acc_div[,4:6], VaRCont_CA_acc_div[,4:6],CVaRCont_CA_acc_div[,4:6] )\n",
        "colnames(Div_VaR_CVaR) <- c(\"VaR SA\", \"CVaR SA\", \"VaR CA\", \"CVaR CA\")\n",
        "\n",
        "Div_VaR_CVaR <- rbind(Div_VaR_CVaR, c(VaRTotalfr2_acc_div, CVaRTotalfr2_acc_div, VaRTotalfr2_CA_acc_div, CVaRTotalfr2_CA_acc_div))\n",
        "rownames(Div_VaR_CVaR) <- c(names(stock_prices), \"Total\")\n",
        "\n",
        "Div_VaR_CVaR"
      ],
      "metadata": {
        "id": "m_rdUZglcsdz",
        "colab": {
          "base_uri": "https://localhost:8080/"
        },
        "outputId": "b1626346-50d6-49da-946b-62fb84e53baf"
      },
      "execution_count": 286,
      "outputs": [
        {
          "output_type": "stream",
          "name": "stdout",
          "text": [
            "               VaR SA   CVaR SA    VaR CA   CVaR CA\n",
            "AMXL.MX     -2940.283 -4142.288 -3426.218 -4736.788\n",
            "GCARSOA1.MX -2955.189 -3435.131 -2592.736 -3068.185\n",
            "WALMEX.MX   -2616.769 -3111.195 -3115.921 -3269.536\n",
            "Total       -4559.199 -5309.633 -4888.826 -5682.427\n"
          ]
        }
      ]
    },
    {
      "cell_type": "code",
      "source": [
        "%%R\n",
        "# VaR y CVaR TOTAL \n",
        "print(\"VaR Total Acciones y Divisas:\")\n",
        "print(VaRTotal_acc_div)\n",
        "\n",
        "print('CVaR Total Acciones y divisas:')\n",
        "print(CVaRTotal_acc_div)"
      ],
      "metadata": {
        "id": "hWJheW9njh0I",
        "colab": {
          "base_uri": "https://localhost:8080/"
        },
        "outputId": "5cbfd345-9365-41d6-ddb0-7eda9d0b206c"
      },
      "execution_count": 287,
      "outputs": [
        {
          "output_type": "stream",
          "name": "stdout",
          "text": [
            "[1] \"VaR Total Acciones y Divisas:\"\n",
            "[1] -4306.785\n",
            "[1] \"CVaR Total Acciones y divisas:\"\n",
            "[1] -5307.676\n"
          ]
        }
      ]
    },
    {
      "cell_type": "markdown",
      "source": [
        "## Riesgo de CETES"
      ],
      "metadata": {
        "id": "79oISyJl3cT9"
      }
    },
    {
      "cell_type": "code",
      "source": [
        "%%R\n",
        "#CETES\n",
        "\n",
        "#Cálculo de matriz de pérdidas y ganancias \n",
        "#dimensión\n",
        "m=n_if[7]  #PASO CLAVE\n",
        "X_s_cete= matrix(0,Ns,m)    #PASO CLAVE\n",
        "PG_cete= matrix(0,Ns,m)\n",
        "V_cete = matrix(0,Ns,m)\n",
        "\n",
        "DeltaX_s_cete=DeltaX_s[,ncol(DeltaX_s)]    #PASO CLAVE\n",
        "x0_cete=x[1,1] #Escenario base\n",
        "\n",
        "for (i in 1:Ns)\n",
        "{\n",
        "  X_s_cete[i]=x0_cete*exp(DeltaX_s_cete[i])\n",
        "  V_cete[i] = bonocupcero(X_s_cete[i],plazos_cete)*contratos_cete*nominal_cete\n",
        "  PG_cete[i]=V_cete[i]-V0_cete\n",
        "}\n",
        "\n",
        "# VaR y CVaR sin alisado\n",
        "VaR_cetes_SA=equantile(PG_cete,1-alpha,Ns)\n",
        "CVaR_cetes_SA= mean(PG_cete[which(PG_cete<VaR_cetes_SA),])\n",
        "\n",
        "# VaR y CVaR con alisado\n",
        "\n",
        "VaR_cetes_CA=wquantile(PG_cete,p_esc,1-alpha)\n",
        "CVaR_cetes_CA= mean(PG_cete[which(PG_cete<VaR_cetes_CA),])\n",
        "\n",
        "#Resumen\n",
        "Cetes_VaR_CVaR <- cbind(VaR_cetes_SA, CVaR_cetes_SA, VaR_cetes_CA, CVaR_cetes_CA)\n",
        "colnames(Cetes_VaR_CVaR) <-  c(\"VaR SA\", \"CVaR SA\", \"VaR CA\", \"CVaR CA\")\n",
        "rownames(Cetes_VaR_CVaR) <- c(\"CETES\")\n",
        "Cetes_VaR_CVaR"
      ],
      "metadata": {
        "id": "4Z2DfTQC3alv",
        "colab": {
          "base_uri": "https://localhost:8080/"
        },
        "outputId": "e085ff8d-f881-4ca7-8ef1-dc268170c0f0"
      },
      "execution_count": 288,
      "outputs": [
        {
          "output_type": "stream",
          "name": "stdout",
          "text": [
            "         VaR SA  CVaR SA     VaR CA   CVaR CA\n",
            "CETES -1.054782 -1.83657 -0.6318718 -1.346447\n"
          ]
        }
      ]
    },
    {
      "cell_type": "markdown",
      "metadata": {
        "id": "MkFd85063HTZ"
      },
      "source": [
        "## Riesgo de Bondes D"
      ]
    },
    {
      "cell_type": "code",
      "metadata": {
        "id": "BTbDAKfJ3E0K",
        "colab": {
          "base_uri": "https://localhost:8080/"
        },
        "outputId": "e3a6c534-3b30-487e-d214-09b90a022ff5"
      },
      "source": [
        "%%R\n",
        "#Cálculo de matriz de pérdidas y ganancias BONDES\n",
        "#dimensión\n",
        "m=count(N_bd)    #PASO CLAVE\n",
        "X_s_bd=matrix(0,Ns,n_if[2]) #Factores de riesgo simulados con base en DeltaX_s x0*(1+Delta_Xs)   #PASO CLAVE\n",
        "V_bd=matrix(0,Ns,m)\n",
        "Vfr1_bd=matrix(0,Ns,m)\n",
        "Vfr2_bd=matrix(0,Ns,m)\n",
        "Vfr3_bd=matrix(0,Ns,m)\n",
        "PG_bd=matrix(0,Ns,m) #Pèrdidas y ganancias\n",
        "PGfr1_bd=matrix(0,Ns,m)\n",
        "PGfr2_bd=matrix(0,Ns,m)\n",
        "PGfr3_bd=matrix(0,Ns,m)\n",
        "PGT_bd=matrix(0,Ns,1)\n",
        "PGfr1T_bd=matrix(0,Ns,1)\n",
        "PGfr2T_bd=matrix(0,Ns,1)\n",
        "PGfr3T_bd=matrix(0,Ns,1)\n",
        "\n",
        "DeltaX_s_bd=DeltaX_s[,sum(n_if[1:1],1):sum(n_if[1:2])]    #PASO CLAVE\n",
        "x0_bd=X_bd_ext[1,]    #PASO CLAVE\n",
        "\n",
        "for (i in 1:Ns)\n",
        "{\n",
        "  X_s_bd[i,]=x0_bd*exp(DeltaX_s_bd[i,])\n",
        "  #PASO CLAVE\n",
        "  V_bd[i,]=bondeD(contratos_bdmT, nominal_bdm, X_s_bd[i,1], plazocupon_bdmT, VTplazos_bdm, X_s_bd[i,(n_if[4]/3+1):(n_if[4]*2/3)], X_s_bd[i,(n_if[4]*2/3+1):(n_if[4])], N_bd,ddv)\n",
        "  #PASO CLAVE\n",
        "  Vfr1_bd[i,]=bondeD(contratos_bdmT, nominal_bdm, X_s_bd[i,1], plazocupon_bdmT, VTplazos_bdm, x0_bd[(n_if[4]/3+1):(n_if[4]*2/3)], x0_bd[(n_if[4]*2/3+1):(n_if[4])], N_bd,ddv)\n",
        "  #PASO CLAVE\n",
        "  Vfr2_bd[i,]=bondeD(contratos_bdmT, nominal_bdm, x0_bd[1], plazocupon_bdmT, VTplazos_bdm, X_s_bd[i,(n_if[4]/3+1):(n_if[4]*2/3)], x0_bd[(n_if[4]*2/3+1):(n_if[4])], N_bd,ddv)\n",
        "  #PASO CLAVE\n",
        "  Vfr3_bd[i,]=bondeD(contratos_bdmT, nominal_bdm, x0_bd[1], plazocupon_bdmT, VTplazos_bdm, x0_bd[(n_if[4]/3+1):(n_if[4]*2/3)], X_s_bd[i,(n_if[4]*2/3+1):(n_if[4])], N_bd,ddv)\n",
        "  #PASO CLAVE\n",
        "  PG_bd[i,]=V_bd[i,]-V0_bd\n",
        "  PGfr1_bd[i,]=Vfr1_bd[i,]-V0_bd\n",
        "  PGfr2_bd[i,]=Vfr2_bd[i,]-V0_bd\n",
        "  PGfr3_bd[i,]=Vfr3_bd[i,]-V0_bd\n",
        "  PGT_bd[i,]=sum(PG_bd[i,])\n",
        "  PGfr1T_bd[i,]=sum(PGfr1_bd[i,])\n",
        "  PGfr2T_bd[i,]=sum(PGfr2_bd[i,])\n",
        "  PGfr3T_bd[i,]=sum(PGfr3_bd[i,])\n",
        "}\n",
        "\n",
        "\n",
        "#VaR y CVaR Total\n",
        "\n",
        "#Sin alisado\n",
        "VaRTotal_bd=equantile(PGT_bd,1-alpha,Ns)\n",
        "CVaRTotal_bd= mean(merge(which(PGT_bd<VaRTotal_bd),cbind(seq(1,Ns),PGT_bd), by.x=1,by.y=1)[,2])\n",
        "\n",
        "VaRTotalfr1_bd=equantile(PGfr1T_bd,1-alpha,Ns)\n",
        "CVaRTotalfr1_bd= mean(PGfr1T_bd[which(PGfr1T_bd<VaRTotalfr1_bd),])\n",
        "\n",
        "VaRTotalfr2_bd=equantile(PGfr2T_bd,1-alpha,Ns)\n",
        "CVaRTotalfr2_bd= mean(PGfr2T_bd[which(PGfr2T_bd<VaRTotalfr2_bd),])\n",
        "\n",
        "VaRTotalfr3_bd=equantile(PGfr3T_bd,1-alpha,Ns)\n",
        "CVaRTotalfr3_bd= mean(PGfr3T_bd[which(PGfr2T_bd<VaRTotalfr3_bd),])\n",
        "\n",
        "#Con alisado\n",
        "VaRTotal_CA_bd=wquantile(PGT_bd,p_esc,1-alpha)\n",
        "CVaRTotal_CA_bd= mean(merge(which(PGT_bd<VaRTotal_CA_bd),cbind(seq(1,Ns),PGT_bd), by.x=1,by.y=1)[,2])\n",
        "\n",
        "VaRTotalfr1_CA_bd=wquantile(PGfr1T_bd,p_esc,1-alpha)\n",
        "CVaRTotalfr1_CA_bd= mean(PGfr1T_bd[which(PGfr1T_bd<VaRTotalfr1_CA_bd),])\n",
        "\n",
        "VaRTotalfr2_CA_bd=wquantile(PGfr2T_bd,p_esc,1-alpha)\n",
        "CVaRTotalfr2_CA_bd= mean(PGfr2T_bd[which(PGfr2T_bd<VaRTotalfr2_CA_bd),])\n",
        "\n",
        "VaRTotalfr3_CA_bd=wquantile(PGfr3T_bd,p_esc,1-alpha)\n",
        "CVaRTotalfr3_CA_bd= mean(PGfr3T_bd[which(PGfr2T_bd<VaRTotalfr3_CA_bd),])\n",
        "\n",
        "\n",
        "#Resumen\n",
        "Bonde_VaR_CVaR <- rbind(c(VaRTotal_bd,CVaRTotal_bd, VaRTotal_CA_bd, CVaRTotal_CA_bd),\n",
        "                        c(VaRTotalfr1_bd,CVaRTotalfr1_bd,VaRTotalfr1_CA_bd,CVaRTotalfr1_CA_bd ),\n",
        "                        c(VaRTotalfr2_bd, CVaRTotalfr2_bd, VaRTotalfr2_CA_bd, CVaRTotalfr2_CA_bd),\n",
        "                        c(VaRTotalfr3_bd,CVaRTotalfr3_bd,VaRTotalfr3_CA_bd,CVaRTotalfr3_CA_bd ))\n",
        "colnames(Bonde_VaR_CVaR ) <-  c(\"VaR SA\", \"CVaR SA\", \"VaR CA\", \"CVaR CA\")\n",
        "rownames(Bonde_VaR_CVaR ) <- c(\"Total BONDE\", \"FR1\", \"FR2\", \"FR3\")\n",
        "Bonde_VaR_CVaR "
      ],
      "execution_count": 289,
      "outputs": [
        {
          "output_type": "stream",
          "name": "stdout",
          "text": [
            "              VaR SA  CVaR SA   VaR CA  CVaR CA\n",
            "Total BONDE 2538.386 2440.554 2581.671 2514.286\n",
            "FR1         2665.051 2619.449 2659.151 2579.093\n",
            "FR2         2689.913 2621.877 2813.469 2736.874\n",
            "FR3         2780.048 2859.192 2773.408 2859.192\n"
          ]
        }
      ]
    },
    {
      "cell_type": "markdown",
      "metadata": {
        "id": "80gR917i3a8n"
      },
      "source": [
        "## Riesgo SWAPS"
      ]
    },
    {
      "cell_type": "code",
      "metadata": {
        "id": "3B6EVEC63ZDJ",
        "colab": {
          "base_uri": "https://localhost:8080/"
        },
        "outputId": "a74a2cb2-658f-4eac-d96e-27951c34245d"
      },
      "source": [
        "%%R\n",
        "#Cálculo de matriz de pérdidas y ganancias SWAP\n",
        "\n",
        "#riesgo del swap\n",
        "m=ncol(N)    #PASO CLAVE\n",
        "X_s_sw=matrix(0,Ns,n_if[3]) #Factores de riesgo simulados con base en DeltaX_s x0*(1+Delta_Xs)   #PASO CLAVE\n",
        "V_sw=matrix(0,Ns,m)\n",
        "Vfr1_sw=matrix(0,Ns,m)\n",
        "Vfr2_sw=matrix(0,Ns,m)\n",
        "PG_sw=matrix(0,Ns,m) #Pèrdidas y ganancias\n",
        "PGfr1_sw=matrix(0,Ns,m)\n",
        "PGfr2_sw=matrix(0,Ns,m)\n",
        "PGT_sw=matrix(0,Ns,1)\n",
        "PGfr1T_sw=matrix(0,Ns,1)\n",
        "PGfr2T_sw=matrix(0,Ns,1)\n",
        "\n",
        "DeltaX_s_sw=DeltaX_s[,sum(n_if[1:2],1):sum(n_if[1:3])]    #PASO CLAVE\n",
        "x0_sw=as.numeric(c(XtfwdT[1,],Xvp[1,]))   #PASO CLAVE\n",
        "\n",
        "for (i in 1:Ns)\n",
        "{\n",
        "  X_s_sw[i,]=x0_sw*exp(DeltaX_s_sw[i,])\n",
        "  #PASO CLAVE\n",
        "  V_sw[i,]=swap(por_swT, contratos_swT, nominal_swT, X_s_sw[i,1:(n_if[3]/2)], tasafija_swT, plazocupon_swT, VTplazos_sw, X_s_sw[i,(n_if[3]/2+1):(n_if[3])],N)\n",
        "  #PASO CLAVE\n",
        "  Vfr1_sw[i,]=swap(por_swT, contratos_swT, nominal_swT,X_s_sw[i,1:(n_if[3]/2)], tasafija_swT, plazocupon_swT, VTplazos_sw, Xvp[1,],N)\n",
        "  #PASO CLAVE\n",
        "  Vfr2_sw[i,]=swap(por_swT, contratos_swT, nominal_swT,  XtfwdT[1,], tasafija_swT, plazocupon_swT, VTplazos_sw, X_s_sw[i,(n_if[3]/2+1):(n_if[3])],N)\n",
        "  #PASO CLAVE\n",
        "  PG_sw[i,]=V_sw[i,]-V0_sw\n",
        "  PGfr1_sw[i,]=Vfr1_sw[i,]-V0_sw\n",
        "  PGfr2_sw[i,]=Vfr2_sw[i,]-V0_sw\n",
        "  PGT_sw[i,]=sum(PG_sw[i,])\n",
        "  PGfr1T_sw[i,]=sum(PGfr1_sw[i,])\n",
        "  PGfr2T_sw[i,]=sum(PGfr2_sw[i,])\n",
        "}\n",
        "\n",
        "#VaR por posición \n",
        "VaRCont_sw=matrix(0,1,m)\n",
        "VaRfr1_sw=matrix(0,1,m)\n",
        "VaRfr2_sw=matrix(0,1,m)\n",
        "\n",
        "CVaRCont_sw=matrix(0,1,m)\n",
        "CVaRfr1_sw=matrix(0,1,m)\n",
        "CVaRfr2_sw=matrix(0,1,m)\n",
        "\n",
        "VaRCont_CA_sw=matrix(0,1,m)\n",
        "VaRfr1_CA_sw=matrix(0,1,m)\n",
        "VaRfr2_CA_sw=matrix(0,1,m)\n",
        "\n",
        "CVaRfr1_CA_sw=matrix(0,1,m)\n",
        "CVaRfr2_CA_sw=matrix(0,1,m)\n",
        "CVaRCont_CA_sw=matrix(0,1,m)\n",
        "\n",
        "for (i in (1:m))\n",
        "{\n",
        "  #Sin alisado\n",
        "  VaRCont_sw[i]=equantile(PG_sw[,i],1-alpha,Ns)\n",
        "  VaRfr1_sw[i]=equantile(PGfr1_sw[,i],1-alpha,Ns)\n",
        "  VaRfr2_sw[i]=equantile(PGfr2_sw[,i],1-alpha,Ns)\n",
        "\n",
        "  CVaRfr1_sw[i]= mean(merge(which(PGfr1_sw[,i]<VaRfr1_sw[i]),cbind(seq(1,Ns),PGfr1_sw[,i]), by.x=1,by.y=1)[,2])\n",
        "  CVaRfr2_sw[i]= mean(merge(which(PGfr2_sw[,i]<VaRfr2_sw[i]),cbind(seq(1,Ns),PGfr2_sw[,i]), by.x=1,by.y=1)[,2])\n",
        "  CVaRCont_sw[i]= mean(merge(which(PG_sw[,i]<VaRCont_sw[i]),cbind(seq(1,Ns),PG_sw[,i]), by.x=1,by.y=1)[,2])\n",
        "\n",
        "  #Con alisado\n",
        "  VaRCont_CA_sw[i]=wquantile(PG_sw[,i],p_esc, 1-alpha)\n",
        "  VaRfr1_CA_sw[i]=wquantile(PGfr1_sw[,i],p_esc,1-alpha)\n",
        "  VaRfr2_CA_sw[i]=wquantile(PGfr2_sw[,i],p_esc,1-alpha)\n",
        "\n",
        "  CVaRfr1_CA_sw[i]= mean(merge(which(PGfr1_sw[,i]<VaRfr1_CA_sw[i]),cbind(seq(1,Ns),PGfr1_sw[,i]), by.x=1,by.y=1)[,2])\n",
        "  CVaRfr2_CA_sw[i]= mean(merge(which(PGfr2_sw[,i]<VaRfr2_CA_sw[i]),cbind(seq(1,Ns),PGfr2_sw[,i]), by.x=1,by.y=1)[,2])\n",
        "  CVaRCont_CA_sw[i]= mean(merge(which(PG_sw[,i]<VaRCont_CA_sw[i]),cbind(seq(1,Ns),PG_sw[,i]), by.x=1,by.y=1)[,2])\n",
        "}\n",
        "\n",
        "#Resumen VaR y CVaR posición Larga\n",
        "SwapL_VaR_CVaR <- rbind(c(VaRCont_sw[,1], CVaRCont_sw[,1], VaRCont_CA_sw[,1], CVaRCont_CA_sw[,1]), \n",
        "                        c(VaRfr1_sw[,1],CVaRfr1_sw[,1],VaRfr1_CA_sw[,1],CVaRfr1_CA_sw[,1]), \n",
        "                        c(VaRfr2_sw[,1],CVaRfr2_sw[,1],VaRfr2_CA_sw[,1],CVaRfr2_CA_sw[,1]))\n",
        "colnames(SwapL_VaR_CVaR) <- c(\"VaR SA\", \"CVaR SA\", \"VaR CA\", \"CVaR CA\")\n",
        "rownames(SwapL_VaR_CVaR) <- c(\"Total Swap Largo\", \"FR1\", \"FR2\")\n",
        "SwapL_VaR_CVaR"
      ],
      "execution_count": 290,
      "outputs": [
        {
          "output_type": "stream",
          "name": "stdout",
          "text": [
            "                      VaR SA     CVaR SA      VaR CA     CVaR CA\n",
            "Total Swap Largo -22715.7154 -31329.1950 -28809.6013 -39513.6686\n",
            "FR1              -22754.7864 -31329.4430 -28814.4369 -39513.3639\n",
            "FR2                -191.8218   -318.7339   -305.0335   -399.3062\n"
          ]
        }
      ]
    },
    {
      "cell_type": "code",
      "source": [
        "%%R\n",
        "#Resumen VaR y CVaR posición Corta\n",
        "SwapC_VaR_CVaR <- rbind(c(VaRCont_sw[,2], CVaRCont_sw[,2], VaRCont_CA_sw[,2], CVaRCont_CA_sw[,2]), \n",
        "                        c(VaRfr1_sw[,2],CVaRfr1_sw[,2],VaRfr1_CA_sw[,2],CVaRfr1_CA_sw[,2]), \n",
        "                        c(VaRfr2_sw[,2],CVaRfr2_sw[,2],VaRfr2_CA_sw[,2],CVaRfr2_CA_sw[,2]))\n",
        "colnames(SwapC_VaR_CVaR) <- c(\"VaR SA\", \"CVaR SA\", \"VaR CA\", \"CVaR CA\")\n",
        "rownames(SwapC_VaR_CVaR) <- c(\"Total Swap Corto\", \"FR1\", \"FR2\")\n",
        "SwapC_VaR_CVaR\n"
      ],
      "metadata": {
        "id": "WtogWeBbh4lS",
        "colab": {
          "base_uri": "https://localhost:8080/"
        },
        "outputId": "bca1035f-a1da-46bb-e92e-04cc5398dd49"
      },
      "execution_count": 291,
      "outputs": [
        {
          "output_type": "stream",
          "name": "stdout",
          "text": [
            "                      VaR SA     CVaR SA    VaR CA    CVaR CA\n",
            "Total Swap Corto -11530.4241 -14592.2087 -3485.368 -6764.8718\n",
            "FR1              -11526.1113 -14612.1535 -3492.049 -6775.5557\n",
            "FR2                 -93.1214   -138.7824  -133.843  -176.7767\n"
          ]
        }
      ]
    },
    {
      "cell_type": "code",
      "source": [
        "%%R\n",
        "#VaR y CVaR Total\n",
        "\n",
        "#Sin alisado\n",
        "VaRTotal_sw=equantile(PGT_sw,1-alpha,Ns)\n",
        "CVaRTotal_sw= mean(merge(which(PGT_sw<VaRTotal_sw),cbind(seq(1,Ns),PGT_sw), by.x=1,by.y=1)[,2])\n",
        "\n",
        "VaRTotalfr1_sw=equantile(PGfr1T_sw,1-alpha,Ns)\n",
        "CVaRTotalfr1_sw= mean(PGfr1T_sw[which(PGfr1T_sw<VaRTotalfr1_sw),])\n",
        "\n",
        "VaRTotalfr2_sw=equantile(PGfr2T_sw,1-alpha,Ns)\n",
        "CVaRTotalfr2_sw= mean(PGfr2T_sw[which(PGfr2T_sw<VaRTotalfr2_sw),])\n",
        "\n",
        "#Con alisado\n",
        "VaRTotal_CA_sw=wquantile(PGT_sw,p_esc,1-alpha)\n",
        "CVaRTotal_CA_sw= mean(merge(which(PGT_sw<VaRTotal_CA_sw),cbind(seq(1,Ns),PGT_sw), by.x=1,by.y=1)[,2])\n",
        "\n",
        "VaRTotalfr1_CA_sw=wquantile(PGfr1T_sw,p_esc,1-alpha)\n",
        "CVaRTotalfr1_CA_sw= mean(PGfr1T_sw[which(PGfr1T_sw<VaRTotalfr1_CA_sw),])\n",
        "\n",
        "VaRTotalfr2_CA_sw=wquantile(PGfr2T_sw,p_esc,1-alpha)\n",
        "CVaRTotalfr2_CA_sw= mean(PGfr2T_sw[which(PGfr2T_sw<VaRTotalfr2_CA_sw),])\n",
        "\n",
        "#Resumen Total VaR y CVaR\n",
        "Swaps_VaR_CVaR <- rbind(c(VaRTotal_sw,CVaRTotal_sw,VaRTotal_CA_sw,CVaRTotal_CA_sw), \n",
        "                        c(VaRTotalfr1_sw,CVaRTotalfr1_sw,VaRTotalfr1_CA_sw,CVaRTotalfr1_CA_sw), \n",
        "                        c(VaRTotalfr2_sw,CVaRTotalfr2_sw,VaRTotalfr2_CA_sw,CVaRTotalfr2_CA_sw))\n",
        "colnames(Swaps_VaR_CVaR) <- c(\"VaR SA\", \"CVaR SA\", \"VaR CA\", \"CVaR CA\")\n",
        "rownames(Swaps_VaR_CVaR) <- c(\"Total Swaps\", \"FR1\", \"FR2\")\n",
        "Swaps_VaR_CVaR\n",
        "\n",
        "# print(cbind(VaRTotal_sw,sum(V0_sw), VaRCont_sw, V0_sw))\n",
        "# print(cbind(CVaRTotal_sw,sum(V0_sw), CVaRCont_sw, V0_sw))\n",
        "# print(cbind(VaRTotal_sw,VaRTotalfr1_sw,VaRTotalfr2_sw))\n",
        "# print(cbind(CVaRTotal_sw,CVaRTotalfr1_sw,CVaRTotalfr2_sw))"
      ],
      "metadata": {
        "id": "mOWdw7qEhvVM",
        "colab": {
          "base_uri": "https://localhost:8080/"
        },
        "outputId": "14df2764-424a-48a9-b357-f929558a6560"
      },
      "execution_count": 292,
      "outputs": [
        {
          "output_type": "stream",
          "name": "stdout",
          "text": [
            "                 VaR SA     CVaR SA      VaR CA     CVaR CA\n",
            "Total Swaps -20867.4743 -30389.8207 -28031.8623 -37973.0833\n",
            "FR1         -20890.8051 -30406.5182 -28031.0566 -37971.1288\n",
            "FR2           -284.7163   -457.5163   -438.8765   -576.0829\n"
          ]
        }
      ]
    },
    {
      "cell_type": "markdown",
      "metadata": {
        "id": "E-3ehLwY3iwr"
      },
      "source": [
        "## Opciones Tasa de Interés"
      ]
    },
    {
      "cell_type": "code",
      "metadata": {
        "id": "PtnOCFXN3lad",
        "colab": {
          "base_uri": "https://localhost:8080/"
        },
        "outputId": "0c227e26-7a6b-42ea-b3b8-6f33267cd8fb"
      },
      "source": [
        "%%R\n",
        "#Cálculo de matriz de pérdidas y ganancias Opciones Tasa de interés\n",
        "#dimensión\n",
        "m=ncol(plazos_oir)  #PASO CLAVE\n",
        "X_s_oir=matrix(0,Ns,n_if[4]) #Factores de riesgo simulados con base en DeltaX_s x0*(1+Delta_Xs) #PASO CLAVE\n",
        "V_oir=matrix(0,Ns,m)\n",
        "Vfr1_oir=matrix(0,Ns,m)\n",
        "Vfr2_oir=matrix(0,Ns,m)\n",
        "Vfr3_oir=matrix(0,Ns,m)\n",
        "PG_oir=matrix(0,Ns,m) #Pèrdidas y ganancias\n",
        "PGfr1_oir=matrix(0,Ns,m)\n",
        "PGfr2_oir=matrix(0,Ns,m)\n",
        "PGfr3_oir=matrix(0,Ns,m)\n",
        "PGT_oir=matrix(0,Ns,1)\n",
        "PGfr1T_oir=matrix(0,Ns,1)\n",
        "PGfr2T_oir=matrix(0,Ns,1)\n",
        "PGfr3T_oir=matrix(0,Ns,1)\n",
        "\n",
        "DeltaX_s_oir=DeltaX_s[,sum(n_if[1:3],1):sum(n_if[1:4])]  #PASO CLAVE\n",
        "x0_oir=X_oir[1,] #PASO CLAVE\n",
        "\n",
        "for (i in 1:Ns)\n",
        "{\n",
        "  X_s_oir[i,]=x0_oir*exp(DeltaX_s_oir[i,])\n",
        "  #PASO CLAVE\n",
        "  V_oir[i,]=  opctint(X_s_oir[i,(1:(n_if[4]/3))],X_s_oir[i,((n_if[4]/3+1):(n_if[4]/3*2))],K_oir,X_s_oir[i,((n_if[4]*2/3+1):(n_if[4]))],plazos_oir,cp_oir,cs_oir,pr_oir,dct_oir)*contratos_oir*nominal_oir #Valor del portafolio  \n",
        "  #PASO CLAVE\n",
        "  Vfr1_oir[i,]=opctint(X_s_oir[i,(1:(n_if[4]/3))],x0_oir[((n_if[4]/3+1):(n_if[4]/3*2))],K_oir,x0_oir[((n_if[4]*2/3+1):(n_if[4]))],plazos_oir,cp_oir,cs_oir,pr_oir,dct_oir)*contratos_oir*nominal_oir #Valor del portafolio  \n",
        "  #PASO CLAVE\n",
        "  Vfr2_oir[i,]=opctint(x0_oir[(1:(n_if[4]/3))],X_s_oir[i,((n_if[4]/3+1):(n_if[4]/3*2))],K_oir,x0_oir[((n_if[4]*2/3+1):(n_if[4]))],plazos_oir,cp_oir,cs_oir,pr_oir,dct_oir)*contratos_oir*nominal_oir #Valor del portafolio  \n",
        "  #PASO CLAVE\n",
        "  Vfr3_oir[i,]=opctint(x0_oir[(1:(n_if[4]/3))],x0_oir[((n_if[4]/3+1):(n_if[4]/3*2))],K_oir,X_s_oir[i,((n_if[4]*2/3+1):(n_if[4]))],plazos_oir,cp_oir,cs_oir,pr_oir,dct_oir)*contratos_oir*nominal_oir #Valor del portafolio  \n",
        "  PG_oir[i,]=V_oir[i,]-V0_oir\n",
        "  PGfr1_oir[i,]=Vfr1_oir[i,]-V0_oir\n",
        "  PGfr2_oir[i,]=Vfr2_oir[i,]-V0_oir\n",
        "  PGfr3_oir[i,]=Vfr3_oir[i,]-V0_oir\n",
        "  PGT_oir[i,]=sum(PG_oir[i,])\n",
        "  PGfr1T_oir[i,]=sum(PGfr1_oir[i,])\n",
        "  PGfr2T_oir[i,]=sum(PGfr2_oir[i,])\n",
        "  PGfr3T_oir[i,]=sum(PGfr3_oir[i,])\n",
        "}\n",
        "PG_oir[1:5,]\n",
        "PGfr1_oir[1:5,]\n",
        "PGfr2_oir[1:5,]\n",
        "PGT_oir[1:5,]\n",
        "\n",
        "#VaR por posición\n",
        "VaRCont_oir=matrix(0,1,m)\n",
        "VaRfr1_oir=matrix(0,1,m)\n",
        "VaRfr2_oir=matrix(0,1,m)\n",
        "VaRfr3_oir=matrix(0,1,m)\n",
        "CVaRCont_oir=matrix(0,1,m)\n",
        "CVaRfr1_oir=matrix(0,1,m)\n",
        "CVaRfr2_oir=matrix(0,1,m)\n",
        "CVaRfr3_oir=matrix(0,1,m)\n",
        "\n",
        "VaRCont_CA_oir=matrix(0,1,m)\n",
        "CVaRCont_CA_oir=matrix(0,1,m)\n",
        "VaRfr1_CA_oir=matrix(0,1,m)\n",
        "CVaRfr1_CA_oir=matrix(0,1,m)\n",
        "VaRfr2_CA_oir=matrix(0,1,m)\n",
        "CVaRfr2_CA_oir=matrix(0,1,m)\n",
        "VaRfr3_CA_oir=matrix(0,1,m)\n",
        "CVaRfr3_CA_oir=matrix(0,1,m)\n",
        "\n",
        "for (i in (1:m))\n",
        "{\n",
        "  #Sin alisado\n",
        "  VaRCont_oir[i]=equantile(PG_oir[,i],1-alpha,Ns)\n",
        "  CVaRCont_oir[i]= mean(merge(which(PG_oir[,i]<VaRCont_oir[i]),cbind(seq(1,Ns),PG_oir[,i]), by.x=1,by.y=1)[,2])\n",
        "\n",
        "  VaRfr1_oir[i]=equantile(PGfr1_oir[,i],1-alpha,Ns)\n",
        "  CVaRfr1_oir[i]= mean(merge(which(PGfr1_oir[,i]<VaRfr1_oir[i]),cbind(seq(1,Ns),PGfr1_oir[,i]), by.x=1,by.y=1)[,2])\n",
        "\n",
        "  VaRfr2_oir[i]=equantile(PGfr2_oir[,i],1-alpha,Ns)\n",
        "  CVaRfr2_oir[i]= mean(merge(which(PGfr2_oir[,i]<VaRfr2_oir[i]),cbind(seq(1,Ns),PGfr2_oir[,i]), by.x=1,by.y=1)[,2])\n",
        "\n",
        "  VaRfr3_oir[i]=equantile(PGfr3_oir[,i],1-alpha,Ns)\n",
        "  CVaRfr3_oir[i]= mean(merge(which(PGfr3_oir[,i]<VaRfr3_oir[i]),cbind(seq(1,Ns),PGfr3_oir[,i]), by.x=1,by.y=1)[,2])\n",
        "\n",
        "  #Con alisado\n",
        "  VaRCont_CA_oir[i]=wquantile(PG_oir[,i],p_esc,1-alpha)\n",
        "  CVaRCont_CA_oir[i]= mean(merge(which(PG_oir[,i]<VaRCont_CA_oir[i]),cbind(seq(1,Ns),PG_oir[,i]), by.x=1,by.y=1)[,2])\n",
        "\n",
        "  VaRfr1_CA_oir[i]=wquantile(PGfr1_oir[,i],p_esc,1-alpha)\n",
        "  CVaRfr1_CA_oir[i]= mean(merge(which(PGfr1_oir[,i]<VaRfr1_CA_oir[i]),cbind(seq(1,Ns),PGfr1_oir[,i]), by.x=1,by.y=1)[,2])\n",
        "\n",
        "  VaRfr2_CA_oir[i]=wquantile(PGfr2_oir[,i],p_esc,1-alpha)\n",
        "  CVaRfr2_CA_oir[i]= mean(merge(which(PGfr2_oir[,i]<VaRfr2_CA_oir[i]),cbind(seq(1,Ns),PGfr2_oir[,i]), by.x=1,by.y=1)[,2])\n",
        "\n",
        "  VaRfr3_CA_oir[i]=wquantile(PGfr3_oir[,i],p_esc,1-alpha)\n",
        "  CVaRfr3_CA_oir[i]= mean(merge(which(PGfr3_oir[,i]<VaRfr3_CA_oir[i]),cbind(seq(1,Ns),PGfr3_oir[,i]), by.x=1,by.y=1)[,2])\n",
        "}\n",
        "\n",
        "#Resumen\n",
        "Opcion1_VaR_CVaR <- rbind(c(VaRCont_oir[1],CVaRCont_oir[1], VaRCont_CA_oir[1], CVaRCont_CA_oir[1]),\n",
        "                          c(VaRfr1_oir[1],CVaRfr1_oir[1], VaRfr1_CA_oir[1], CVaRfr1_CA_oir[1]),\n",
        "                          c(VaRfr2_oir[1], CVaRfr2_oir[1], VaRfr2_CA_oir[1], CVaRfr2_CA_oir[1]),\n",
        "                          c(VaRfr3_oir[1], CVaRfr3_oir[1], VaRfr3_CA_oir[1], CVaRfr3_CA_oir[1])\n",
        ")\n",
        "                  \n",
        "colnames(Opcion1_VaR_CVaR ) <-  c(\"VaR SA\", \"CVaR SA\", \"VaR CA\", \"CVaR CA\")\n",
        "rownames(Opcion1_VaR_CVaR ) <- c(\"Total Opción 1\", \"FR1\", \"FR2\", \"FR3\")\n",
        "Opcion1_VaR_CVaR \n"
      ],
      "execution_count": 293,
      "outputs": [
        {
          "output_type": "stream",
          "name": "stdout",
          "text": [
            "                    VaR SA     CVaR SA       VaR CA      CVaR CA\n",
            "Total Opción 1 -0.03932438 -0.05134277 -0.049025948 -0.062577812\n",
            "FR1            -0.01295580 -0.01772750 -0.016842984 -0.022258227\n",
            "FR2            -0.06213690 -0.08351985 -0.079049530 -0.103885318\n",
            "FR3            -0.01294514 -0.02175582 -0.005344718 -0.009218226\n"
          ]
        }
      ]
    },
    {
      "cell_type": "code",
      "source": [
        "%%R\n",
        "#Resumen Opción 2\n",
        "Opcion2_VaR_CVaR <- rbind(c(VaRCont_oir[2],CVaRCont_oir[2], VaRCont_CA_oir[2], CVaRCont_CA_oir[2]),\n",
        "                          c(VaRfr1_oir[2], CVaRfr1_oir[2], VaRfr1_CA_oir[2], CVaRfr1_CA_oir[2]),\n",
        "                          c(VaRfr2_oir[2], CVaRfr2_oir[2], VaRfr2_CA_oir[2], CVaRfr2_CA_oir[2]),\n",
        "                          c(VaRfr3_oir[2], CVaRfr3_oir[2], VaRfr3_CA_oir[2], CVaRfr3_CA_oir[2])\n",
        ")\n",
        "                  \n",
        "colnames(Opcion2_VaR_CVaR ) <-  c(\"VaR SA\", \"CVaR SA\", \"VaR CA\", \"CVaR CA\")\n",
        "rownames(Opcion2_VaR_CVaR ) <- c(\"Total Opción 2\", \"FR1\", \"FR2\", \"FR3\")\n",
        "Opcion2_VaR_CVaR "
      ],
      "metadata": {
        "colab": {
          "base_uri": "https://localhost:8080/"
        },
        "id": "VU-Gh73SU6PI",
        "outputId": "f05d259a-a1f9-446c-9e9e-84ec87037751"
      },
      "execution_count": 294,
      "outputs": [
        {
          "output_type": "stream",
          "name": "stdout",
          "text": [
            "                     VaR SA      CVaR SA       VaR CA      CVaR CA\n",
            "Total Opción 2 -0.022634754 -0.037764922 -0.009295559 -0.015981896\n",
            "FR1            -0.001503600 -0.002043248 -0.001923494 -0.002554849\n",
            "FR2            -0.017948848 -0.030117192 -0.007270346 -0.012399739\n",
            "FR3            -0.005236803 -0.008677545 -0.002224101 -0.003753300\n"
          ]
        }
      ]
    },
    {
      "cell_type": "code",
      "source": [
        "%%R\n",
        "#OPCIONES\n",
        "#VaR Total Sin alisado\n",
        "VaRTotal_oir=equantile(PGT_oir,1-alpha,Ns)\n",
        "CVaRTotal_oir= mean(merge(which(PGT_oir<VaRTotal_oir),cbind(seq(1,Ns),PGT_oir), by.x=1,by.y=1)[,2])\n",
        "\n",
        "VaRTotalfr1_oir=equantile(PGfr1T_oir,1-alpha,Ns)\n",
        "CVaRTotalfr1_oir= mean(PGfr1T_oir[which(PGfr1T_oir<VaRTotalfr1_oir),])\n",
        "\n",
        "VaRTotalfr2_oir=equantile(PGfr2T_oir,1-alpha,Ns)\n",
        "CVaRTotalfr2_oir= mean(PGfr2T_oir[which(PGfr2T_oir<VaRTotalfr2_oir),])\n",
        "\n",
        "VaRTotalfr3_oir=equantile(PGfr3T_oir,1-alpha,Ns)\n",
        "CVaRTotalfr3_oir= mean(PGfr3T_oir[which(PGfr2T_oir<VaRTotalfr2_oir),])\n",
        "\n",
        "#VaR Total Con alisado\n",
        "VaRTotal_CA_oir=wquantile(PGT_oir,p_esc,1-alpha)\n",
        "CVaRTotal_CA_oir= mean(merge(which(PGT_oir<VaRTotal_CA_oir),cbind(seq(1,Ns),PGT_oir), by.x=1,by.y=1)[,2])\n",
        "\n",
        "VaRTotalfr1_CA_oir=wquantile(PGfr1T_oir,p_esc,1-alpha)\n",
        "CVaRTotalfr1_CA_oir= mean(PGfr1T_oir[which(PGfr1T_oir<VaRTotalfr1_CA_oir),])\n",
        "\n",
        "VaRTotalfr2_CA_oir=wquantile(PGfr2T_oir,p_esc,1-alpha)\n",
        "CVaRTotalfr2_CA_oir= mean(PGfr2T_oir[which(PGfr2T_oir<VaRTotalfr2_CA_oir),])\n",
        "\n",
        "VaRTotalfr3_CA_oir=wquantile(PGfr3T_oir,p_esc,1-alpha)\n",
        "CVaRTotalfr3_CA_oir= mean(PGfr3T_oir[which(PGfr2T_oir<VaRTotalfr3_CA_oir),])\n",
        "\n",
        "#Resumen Opciones TOTAL \n",
        "OpcionT_VaR_CVaR <- rbind(c(VaRTotal_oir,CVaRTotal_oir, VaRTotal_CA_oir, CVaRTotal_CA_oir),\n",
        "                          c(VaRTotalfr1_oir,CVaRTotalfr1_oir, VaRTotalfr1_CA_oir, CVaRTotalfr1_CA_oir),\n",
        "                          c(VaRTotalfr2_oir,CVaRTotalfr2_oir, VaRTotalfr2_CA_oir, CVaRTotalfr2_CA_oir),\n",
        "                          c(VaRTotalfr3_oir,CVaRTotalfr3_oir, VaRTotalfr3_CA_oir, CVaRTotalfr3_CA_oir)                        \n",
        ")\n",
        "                  \n",
        "colnames(OpcionT_VaR_CVaR ) <-  c(\"VaR SA\", \"CVaR SA\", \"VaR CA\", \"CVaR CA\")\n",
        "rownames(OpcionT_VaR_CVaR ) <- c(\"Total Opción 1\", \"FR1\", \"FR2\", \"FR3\")\n",
        "OpcionT_VaR_CVaR \n"
      ],
      "metadata": {
        "colab": {
          "base_uri": "https://localhost:8080/"
        },
        "id": "URLSvhQYS5_M",
        "outputId": "9962429d-57dc-4f7d-866c-3a62befaa1f6"
      },
      "execution_count": 295,
      "outputs": [
        {
          "output_type": "stream",
          "name": "stdout",
          "text": [
            "                     VaR SA     CVaR SA       VaR CA      CVaR CA\n",
            "Total Opción 1 -0.006949365 -0.01156733 -0.004081966 -0.005904569\n",
            "FR1            -0.014484939 -0.01976564 -0.018766478 -0.024813076\n",
            "FR2            -0.009584753 -0.01031072 -0.010550415 -0.010680197\n",
            "FR3            -0.018181942  0.06215037 -0.007568818  0.058108351\n"
          ]
        }
      ]
    },
    {
      "cell_type": "markdown",
      "metadata": {
        "id": "U8UuKLnm_cPD"
      },
      "source": [
        "##Riesgo de Forwards TdC"
      ]
    },
    {
      "cell_type": "code",
      "metadata": {
        "id": "FuMl4BPw_Uuk",
        "colab": {
          "base_uri": "https://localhost:8080/"
        },
        "outputId": "620eac05-0cd7-4410-8ff2-8b5e65ca20b5"
      },
      "source": [
        "%%R\n",
        "#Cálculo de matriz de pérdidas y ganancias FUTUROS TDC\n",
        "#dimensión\n",
        "m=ncol(plazos_fwd)  #PASO CLAVE\n",
        "X_s_fwtdc=matrix(0,Ns,n_if[5]) #Factores de riesgo simulados con base en DeltaX_s x0*(1+Delta_Xs) #PASO CLAVE\n",
        "V_fwtdc=matrix(0,Ns,m)\n",
        "Vfr1_fwtdc=matrix(0,Ns,m)\n",
        "Vfr2_fwtdc=matrix(0,Ns,m)\n",
        "Vfr3_fwtdc=matrix(0,Ns,m)\n",
        "PG_fwtdc=matrix(0,Ns,m) #Pèrdidas y ganancias\n",
        "PGfr1_fwtdc=matrix(0,Ns,m)\n",
        "PGfr2_fwtdc=matrix(0,Ns,m)\n",
        "PGfr3_fwtdc=matrix(0,Ns,m)\n",
        "PGT_fwtdc=matrix(0,Ns,1)\n",
        "PGfr1T_fwtdc=matrix(0,Ns,1)\n",
        "PGfr2T_fwtdc=matrix(0,Ns,1)\n",
        "PGfr3T_fwtdc=matrix(0,Ns,1)\n",
        "\n",
        "DeltaX_s_fwtdc=DeltaX_s[,sum(n_if[1:4],1):sum(n_if[1:5])]  #PASO CLAVE\n",
        "x0_fwtdc=X_futtdc[1,] #PASO CLAVE\n",
        "\n",
        "for (i in 1:Ns)\n",
        "{\n",
        "  X_s_fwtdc[i,]=x0_fwtdc*exp(DeltaX_s_fwtdc[i,])\n",
        "  #PASO CLAVE\n",
        "  V_fwtdc[i,]=futuroTC(plazos_fwd,X_s_fwtdc[i,1:((n_if[5]-1)/2)],X_s_fwtdc[i,((n_if[5]-1)/2+1):(n_if[5]-1)],X_s_fwtdc[i,(n_if[5])],kst_fwd)*contratos_fwd*nominal_fwd     \n",
        "  #PASO CLAVE\n",
        "  Vfr1_fwtdc[i,]=futuroTC(plazos_fwd,X_s_fwtdc[i,1:((n_if[5]-1)/2)],x0_fwtdc[((n_if[5]-1)/2+1):(n_if[5]-1)],x0_fwtdc[(n_if[5])],kst_fwd)*contratos_fwd*nominal_fwd\n",
        "  #PASO CLAVE\n",
        "  Vfr2_fwtdc[i,]=futuroTC(plazos_fwd,x0_fwtdc[1:((n_if[5]-1)/2)],X_s_fwtdc[i,((n_if[5]-1)/2+1):(n_if[5]-1)],x0_fwtdc[(n_if[5])],kst_fwd)*contratos_fwd*nominal_fwd \n",
        "  PG_fwtdc[i,]=V_fwtdc[i,]-V0_fwtdc\n",
        "  PGfr1_fwtdc[i,]=Vfr1_fwtdc[i,]-V0_fwtdc\n",
        "  PGfr2_fwtdc[i,]=Vfr2_fwtdc[i,]-V0_fwtdc\n",
        "  PGfr3_fwtdc[i,]=Vfr3_fwtdc[i,]-V0_fwtdc\n",
        "  PGT_fwtdc[i,]=sum(PG_fwtdc[i,])\n",
        "  PGfr1T_fwtdc[i,]=sum(PGfr1_fwtdc[i,])\n",
        "  PGfr2T_fwtdc[i,]=sum(PGfr2_fwtdc[i,])\n",
        "  PGfr3T_fwtdc[i,]=sum(PGfr3_fwtdc[i,])\n",
        "}\n",
        "\n",
        "#VaR y CVaR Total\n",
        "\n",
        "#Sin alisado\n",
        "VaRTotal_fwtdc=equantile(PGT_fwtdc,1-alpha,Ns)\n",
        "CVaRTotal_fwtdc= mean(merge(which(PGT_fwtdc<VaRTotal_fwtdc),cbind(seq(1,Ns),PGT_fwtdc), by.x=1,by.y=1)[,2])\n",
        "\n",
        "VaRTotalfr1_fwtdc=equantile(PGfr1T_fwtdc,1-alpha,Ns)\n",
        "CVaRTotalfr1_fwtdc= mean(PGfr1T_fwtdc[which(PGfr1T_fwtdc<VaRTotalfr1_fwtdc),])\n",
        "\n",
        "VaRTotalfr2_fwtdc=equantile(PGfr2T_fwtdc,1-alpha,Ns)\n",
        "CVaRTotalfr2_fwtdc= mean(PGfr2T_fwtdc[which(PGfr2T_fwtdc<VaRTotalfr2_fwtdc),])\n",
        "\n",
        "VaRTotalfr3_fwtdc=equantile(PGfr3T_fwtdc,1-alpha,Ns)\n",
        "CVaRTotalfr3_fwtdc= mean(PGfr3T_fwtdc[which(PGfr2T_fwtdc<VaRTotalfr3_fwtdc),])\n",
        "\n",
        "#Con  alisado\n",
        "VaRTotal_CA_fwtdc=wquantile(PGT_fwtdc,p_esc,1-alpha)\n",
        "CVaRTotal_CA_fwtdc= mean(merge(which(PGT_fwtdc<VaRTotal_CA_fwtdc),cbind(seq(1,Ns),PGT_fwtdc), by.x=1,by.y=1)[,2])\n",
        "\n",
        "VaRTotalfr1_CA_fwtdc=wquantile(PGfr1T_fwtdc,p_esc,1-alpha)\n",
        "CVaRTotalfr1_CA_fwtdc= mean(PGfr1T_fwtdc[which(PGfr1T_fwtdc<VaRTotalfr1_CA_fwtdc),])\n",
        "\n",
        "VaRTotalfr2_CA_fwtdc=wquantile(PGfr2T_fwtdc,p_esc,1-alpha)\n",
        "CVaRTotalfr2_CA_fwtdc= mean(PGfr2T_fwtdc[which(PGfr2T_fwtdc<VaRTotalfr2_CA_fwtdc),])\n",
        "\n",
        "VaRTotalfr3_CA_fwtdc=wquantile(PGfr3T_fwtdc,p_esc,1-alpha)\n",
        "CVaRTotalfr3_CA_fwtdc= mean(PGfr3T_fwtdc[which(PGfr2T_fwtdc<VaRTotalfr3_CA_fwtdc),])\n",
        "\n",
        "#Resumen\n",
        "FWD_TDC_VaR_CVaR <- rbind(c(VaRTotal_fwtdc,CVaRTotal_fwtdc, VaRTotal_CA_fwtdc, CVaRTotal_CA_fwtdc),\n",
        "                          c(VaRTotalfr1_fwtdc,CVaRTotalfr1_fwtdc,VaRTotalfr1_CA_fwtdc,CVaRTotalfr1_CA_fwtdc),\n",
        "                          c(VaRTotalfr2_fwtdc, CVaRTotalfr2_fwtdc, VaRTotalfr2_CA_fwtdc, CVaRTotalfr2_CA_fwtdc),\n",
        "                          c(VaRTotalfr3_fwtdc,CVaRTotalfr3_fwtdc,VaRTotalfr3_CA_fwtdc,CVaRTotalfr3_CA_fwtdc)\n",
        "                          )\n",
        "colnames(FWD_TDC_VaR_CVaR ) <-  c(\"VaR SA\", \"CVaR SA\", \"VaR CA\", \"CVaR CA\")\n",
        "rownames(FWD_TDC_VaR_CVaR ) <- c(\"Total Forward TDC\", \"FR1\", \"FR2\", \"FR3\")\n",
        "FWD_TDC_VaR_CVaR"
      ],
      "execution_count": 296,
      "outputs": [
        {
          "output_type": "stream",
          "name": "stdout",
          "text": [
            "                        VaR SA      CVaR SA      VaR CA      CVaR CA\n",
            "Total Forward TDC -15.89581486 -20.49460761 -7.90416412 -13.17497266\n",
            "FR1                -0.05007073  -0.07011861 -0.06622219  -0.08864067\n",
            "FR2                -0.03411734  -0.06210918 -0.01740035  -0.02824682\n",
            "FR3                85.61414454  85.61414454 85.61414454  85.61414454\n"
          ]
        }
      ]
    },
    {
      "cell_type": "markdown",
      "metadata": {
        "id": "lI_rW2CVBqy_"
      },
      "source": [
        "##Riesgo Forward Índice"
      ]
    },
    {
      "cell_type": "code",
      "metadata": {
        "id": "J_2ODgK7BjrG",
        "colab": {
          "base_uri": "https://localhost:8080/"
        },
        "outputId": "9ebce1fc-cd39-4144-ef61-04b387409377"
      },
      "source": [
        "%%R\n",
        "#Cálculo de matriz de pérdidas y ganancias FUTUROS IPC\n",
        "m=ncol(plazos_fwd_ind)  #PASO CLAVE\n",
        "X_s_fwind=matrix(0,Ns,n_if[6]) #Factores de riesgo simulados con base en DeltaX_s x0*(1+Delta_Xs) #PASO CLAVE\n",
        "V_fwind=matrix(0,Ns,m)\n",
        "Vfr1_fwind=matrix(0,Ns,m)\n",
        "Vfr2_fwind=matrix(0,Ns,m)\n",
        "Vfr3_fwind=matrix(0,Ns,m)\n",
        "PG_fwind=matrix(0,Ns,m) #Pèrdidas y ganancias\n",
        "PGfr1_fwind=matrix(0,Ns,m)\n",
        "PGfr2_fwind=matrix(0,Ns,m)\n",
        "PGfr3_fwind=matrix(0,Ns,m)\n",
        "PGT_fwind=matrix(0,Ns,1)\n",
        "PGfr1T_fwind=matrix(0,Ns,1)\n",
        "PGfr2T_fwind=matrix(0,Ns,1)\n",
        "PGfr3T_fwind=matrix(0,Ns,1)\n",
        "\n",
        "DeltaX_s_fwind=DeltaX_s[,sum(n_if[1:5],1):sum(n_if[1:6])]  #PASO CLAVE\n",
        "x0_fwind=X_futind[1,] #PASO CLAVE\n",
        "\n",
        "\n",
        "for (i in 1:Ns)\n",
        "{\n",
        "  X_s_fwind[i,]=x0_fwind* exp(DeltaX_s_fwind[i,])\n",
        "  V_fwind[i,]=futuroTC(plazos_fwd_ind,X_s_fwind[i,1:(n_if[6]/3)],X_s_fwind[i,(n_if[6]/3+1):(n_if[6]*2/3)],X_s_fwind[i,(n_if[6]*2/3+1):n_if[6]],kst_fwd_ind)*contratos_fwd_ind*nominal_fwd_ind     \n",
        "  \n",
        "  Vfr1_fwind[i,]=futuroTC(plazos_fwd_ind,X_s_fwind[i,1:(n_if[6]/3)],X_s_fwind[i,(n_if[6]/3+1):(n_if[6]*2/3)],X_s_fwind[i,(n_if[6]*2/3+1):n_if[6]],kst_fwd_ind)*contratos_fwd_ind*nominal_fwd_ind \n",
        "\n",
        "  Vfr2_fwind[i,]=futuroTC(plazos_fwd_ind,X_s_fwind[i,1:(n_if[6]/3)],X_s_fwind[i,(n_if[6]/3+1):(n_if[6]*2/3)],X_s_fwind[i,(n_if[6]*2/3+1):n_if[6]],kst_fwd_ind)*contratos_fwd_ind*nominal_fwd_ind \n",
        "\n",
        "  Vfr3_fwind[i,]=futuroTC(plazos_fwd_ind,X_s_fwind[i,1:(n_if[6]/3)],X_s_fwind[i,(n_if[6]/3+1):(n_if[6]*2/3)],X_s_fwind[i,(n_if[6]*2/3+1):n_if[6]],kst_fwd_ind)*contratos_fwd_ind*nominal_fwd_ind \n",
        "  \n",
        "  \n",
        "  PG_fwind[i,]=V_fwind[i,]-V0_fwind\n",
        "  PGfr1_fwind[i,]=Vfr1_fwind[i,]-V0_fwind\n",
        "  PGfr2_fwind[i,]=Vfr2_fwind[i,]-V0_fwind\n",
        "  PGfr3_fwind[i,]=Vfr3_fwind[i,]-V0_fwind\n",
        "  PGT_fwind[i,]=sum(PG_fwind[i,])\n",
        "  PGfr1T_fwind[i,]=sum(PGfr1_fwind[i,])\n",
        "  PGfr2T_fwind[i,]=sum(PGfr2_fwind[i,])\n",
        "  PGfr3T_fwind[i,]=sum(PGfr3_fwind[i,])\n",
        "}\n",
        "\n",
        "#VaR por posición\n",
        "VaRCont_fwind=matrix(0,1,m)\n",
        "VaRfr1_fwind=matrix(0,1,m)\n",
        "VaRfr2_fwind=matrix(0,1,m)\n",
        "VaRfr3_fwind=matrix(0,1,m)\n",
        "CVaRCont_fwind=matrix(0,1,m)\n",
        "CVaRfr1_fwind=matrix(0,1,m)\n",
        "CVaRfr2_fwind=matrix(0,1,m)\n",
        "CVaRfr3_fwind=matrix(0,1,m)\n",
        "for (i in (1:m))\n",
        "{\n",
        "  VaRCont_fwind[i]=quantile(PG_fwind[,i],1-alpha,Ns)\n",
        "  VaRfr1_fwind[i]=quantile(PGfr1_fwind[,i],1-alpha,Ns)\n",
        "  VaRfr2_fwind[i]=quantile(PGfr2_fwind[,i],1-alpha,Ns)\n",
        "  VaRfr3_fwind[i]=quantile(PGfr3_fwind[,i],1-alpha,Ns)\n",
        "  CVaRfr1_fwind[i]= mean(merge(which(PGfr1_fwind[,i]<VaRfr1_fwind[i]),cbind(seq(1,Ns),PGfr1_fwind[,i]), by.x=1,by.y=1)[,2])\n",
        "  CVaRfr2_fwind[i]= mean(merge(which(PGfr2_fwind[,i]<VaRfr2_fwind[i]),cbind(seq(1,Ns),PGfr2_fwind[,i]), by.x=1,by.y=1)[,2])\n",
        "  CVaRfr3_fwind[i]= mean(merge(which(PGfr3_fwind[,i]<VaRfr3_fwind[i]),cbind(seq(1,Ns),PGfr3_fwind[,i]), by.x=1,by.y=1)[,2])\n",
        "  CVaRCont_fwind[i]= mean(merge(which(PG_fwind[,i]<VaRCont_fwind[i]),cbind(seq(1,Ns),PG_fwind[,i]), by.x=1,by.y=1)[,2])\n",
        "}\n",
        "VaRCont_fwind\n",
        "VaRfr1_fwind\n",
        "VaRfr2_fwind\n",
        "CVaRCont_fwind\n",
        "CVaRfr1_fwind\n",
        "CVaRfr2_fwind\n",
        "\n",
        "\n",
        "#VaR y CVaR Total\n",
        "\n",
        "#Sin alisado \n",
        "VaRTotal_fwind=equantile(PGT_fwind,1-alpha,Ns)\n",
        "CVaRTotal_fwind= mean(merge(which(PGT_fwind<VaRTotal_fwind),cbind(seq(1,Ns),PGT_fwind), by.x=1,by.y=1)[,2])\n",
        "\n",
        "VaRTotalfr1_fwind=equantile(PGfr1T_fwind,1-alpha,Ns)\n",
        "CVaRTotalfr1_fwind= mean(PGfr1T_fwind[which(PGfr1T_fwind<VaRTotalfr1_fwind),])\n",
        "\n",
        "VaRTotalfr2_fwind=equantile(PGfr2T_fwind,1-alpha,Ns)\n",
        "CVaRTotalfr2_fwind= mean(PGfr2T_fwind[which(PGfr2T_fwind<VaRTotalfr2_fwind),])\n",
        "\n",
        "VaRTotalfr3_fwind=equantile(PGfr3T_fwind,1-alpha,Ns)\n",
        "CVaRTotalfr3_fwind= mean(PGfr3T_fwind[which(PGfr3T_fwind<VaRTotalfr3_fwind),])\n",
        "\n",
        "#Con alisado \n",
        "VaRTotal_CA_fwind=wquantile(PGT_fwind,p_esc,1-alpha)\n",
        "CVaRTotal_CA_fwind= mean(merge(which(PGT_fwind<VaRTotal_CA_fwind),cbind(seq(1,Ns),PGT_fwind), by.x=1,by.y=1)[,2])\n",
        "\n",
        "VaRTotalfr1_CA_fwind=wquantile(PGfr1T_fwind,p_esc,1-alpha)\n",
        "CVaRTotalfr1_CA_fwind= mean(PGfr1T_fwind[which(PGfr1T_fwind<VaRTotalfr1_CA_fwind),])\n",
        "\n",
        "VaRTotalfr2_CA_fwind=wquantile(PGfr2T_fwind,p_esc,1-alpha)\n",
        "CVaRTotalfr2_CA_fwind= mean(PGfr2T_fwind[which(PGfr2T_fwind<VaRTotalfr2_CA_fwind),])\n",
        "\n",
        "VaRTotalfr3_CA_fwind=wquantile(PGfr3T_fwind,p_esc,1-alpha)\n",
        "CVaRTotalfr3_CA_fwind= mean(PGfr3T_fwind[which(PGfr3T_fwind<VaRTotalfr3_CA_fwind),])\n",
        "\n",
        "\n",
        "#Resumen\n",
        "FWD_IND_VaR_CVaR <- rbind(c(VaRTotal_fwind,CVaRTotal_fwind, VaRTotal_CA_fwind, CVaRTotal_CA_fwind),\n",
        "                          c(VaRTotalfr1_fwind,CVaRTotalfr1_fwind,VaRTotalfr1_CA_fwind,CVaRTotalfr1_CA_fwind),\n",
        "                          c(VaRTotalfr2_fwind, CVaRTotalfr2_fwind, VaRTotalfr2_CA_fwind, CVaRTotalfr2_CA_fwind),\n",
        "                          c(VaRTotalfr3_fwind,CVaRTotalfr3_fwind,VaRTotalfr3_CA_fwind,CVaRTotalfr3_CA_fwind)\n",
        "                          )\n",
        "colnames(FWD_IND_VaR_CVaR ) <-  c(\"VaR SA\", \"CVaR SA\", \"VaR CA\", \"CVaR CA\")\n",
        "rownames(FWD_IND_VaR_CVaR ) <- c(\"Total Forward IND\", \"FR1\", \"FR2\", \"FR3\")\n",
        "FWD_IND_VaR_CVaR\n"
      ],
      "execution_count": 297,
      "outputs": [
        {
          "output_type": "stream",
          "name": "stdout",
          "text": [
            "                     VaR SA   CVaR SA    VaR CA   CVaR CA\n",
            "Total Forward IND -45739.17 -58703.79 -14433.19 -27276.03\n",
            "FR1               -45739.17 -58703.79 -14433.19 -27276.03\n",
            "FR2               -45739.17 -58703.79 -14433.19 -27276.03\n",
            "FR3               -45739.17 -58703.79 -14433.19 -27276.03\n"
          ]
        }
      ]
    },
    {
      "cell_type": "markdown",
      "metadata": {
        "id": "nqHYp5vD3oE5"
      },
      "source": [
        "# Riesgo integral"
      ]
    },
    {
      "cell_type": "code",
      "metadata": {
        "id": "gDa4BHcz3p1a",
        "colab": {
          "base_uri": "https://localhost:8080/"
        },
        "outputId": "a3a89e0b-ca67-49e8-8dd0-2530be542b7b"
      },
      "source": [
        "%%R\n",
        "\n",
        "#Medición de riesgo por factor de riesgo de todo el portafolios\n",
        "#Acciones\n",
        "#1. Acciones \n",
        "PGPort_ACC=PGfr2T_acc_div + PGfr3T_fwind #Pérdidas y ganancias\n",
        "\n",
        "#Sin alisado\n",
        "VaRPort_ACC=equantile(PGPort_ACC,1-alpha,Ns) #VaR\n",
        "CVaRPort_ACC= mean(PGPort_ACC[which(PGPort_ACC<VaRPort_ACC)]) #CVaR\n",
        "\n",
        "#Con alisado\n",
        "VaRPort_CA_ACC=wquantile(PGPort_ACC,p_esc, 1-alpha) #VaR\n",
        "CVaRPort_CA_ACC= mean(PGPort_ACC[which(PGPort_ACC<VaRPort_CA_ACC)]) #CVaR\n",
        "\n",
        "#Tasa de Interés\n",
        "#1. Dado que swaps y bondes son de tasa de interés usaremos PGT_bd y PGT_sw\n",
        "#2. Para futuros usaremos PGfr1T_fwtdc y PGfr2T_fwtdc\n",
        "PGPort_TI=PGT_bd+PGT_sw+PGfr1T_oir +PGfr2T_oir + PGfr1T_fwind +PGfr2T_fwind + PGfr1T_fwtdc + PGfr2T_fwtdc#Pérdidas y ganancias\n",
        "\n",
        "#Sin alisado\n",
        "VaRPort_TI=equantile(PGPort_TI,1-alpha,Ns) #VaR\n",
        "CVaRPort_TI= mean(PGPort_TI[which(PGPort_TI<VaRPort_TI)]) #CVaR\n",
        "\n",
        "#Con alisado\n",
        "VaRPort_CA_TI=wquantile(PGPort_TI,p_esc, 1-alpha) #VaR\n",
        "CVaRPort_CA_TI= mean(PGPort_TI[which(PGPort_TI<VaRPort_CA_TI)]) #CVaR\n",
        "\n",
        "#Tipo de cambio\n",
        "#1. Dado que swaps y bondes son de tasa de interés no usamos nada\n",
        "#2. Para futuros usamos sólo PGfr3T_fwtdc\n",
        "PGPort_TDC=PGfr1T_acc_div + PGfr3T_fwtdc  #Pérdidas y ganancias\n",
        "\n",
        "#Sin alisado\n",
        "VaRPort_TDC=equantile(PGPort_TDC,1-alpha,Ns) #VaR\n",
        "CVaRPort_TDC= mean(PGPort_TDC[which(PGPort_TDC<VaRPort_TDC)]) #CVaR\n",
        "\n",
        "#Con alisado\n",
        "VaRPort_CA_TDC=wquantile(PGPort_TDC,p_esc,1-alpha) #VaR\n",
        "CVaRPort_CA_TDC= mean(PGPort_TDC[which(PGPort_TDC<VaRPort_CA_TDC)]) #CVaR\n",
        "\n",
        "#Volatilidad\n",
        "#1. Sólo aplica la volatilidad de Opciones de tasa de interés\n",
        "\n",
        "PGPort_VOL=PGfr3T_oir  #Pérdidas y ganancias\n",
        "\n",
        "#Sin alisado\n",
        "VaRPort_VOL=equantile(PGPort_VOL,1-alpha,Ns) #VaR\n",
        "CVaRPort_VOL= mean(PGPort_VOL[which(PGPort_VOL<VaRPort_VOL)]) #CVaR\n",
        "\n",
        "#Con alisado\n",
        "VaRPort_CA_VOL=wquantile(PGPort_VOL,p_esc,1-alpha) #VaR\n",
        "CVaRPort_CA_VOL= mean(PGPort_VOL[which(PGPort_VOL<VaRPort_CA_VOL)]) #CVaR\n",
        "\n",
        "#Medición de riesgo de todo el portafolios\n",
        "#Sumar todos los PGT de todos los instrumentos\n",
        "\n",
        "PGT_Port=PGPort_ACC+PGPort_TI+PGPort_TDC+PGPort_VOL\n",
        "\n",
        "VaRTotal_Port=equantile(PGT_Port,1-alpha,Ns) #VaR\n",
        "CVaRTotal_Port= mean(PGT_Port[which(PGT_Port<VaRTotal_Port)]) #CVaR\n",
        "\n",
        "VaRTotal_CA_Port=wquantile(PGT_Port,p_esc,1-alpha) #VaR\n",
        "CVaRTotal_CA_Port= mean(PGT_Port[which(PGT_Port<VaRTotal_CA_Port)]) #CVaR\n",
        "\n",
        "\n",
        "#Resumen portafolio\n",
        "FR_PORT_VaR_CVaR <- rbind(c(VaRPort_ACC,CVaRPort_ACC, VaRPort_CA_ACC, CVaRPort_CA_ACC),\n",
        "                            c(VaRPort_TI, CVaRPort_TI, VaRPort_CA_TI, CVaRPort_CA_TI),\n",
        "                            c(VaRPort_TDC, CVaRPort_TDC, VaRPort_CA_TDC, CVaRPort_CA_TDC),\n",
        "                            c(VaRPort_VOL, CVaRPort_VOL,VaRPort_CA_VOL, CVaRPort_CA_VOL ),\n",
        "                             c(VaRTotal_Port, CVaRTotal_Port,VaRTotal_CA_Port, CVaRTotal_CA_Port)\n",
        "                          )\n",
        "colnames(FR_PORT_VaR_CVaR ) <-  c(\"VaR SA\", \"CVaR SA\", \"VaR CA\", \"CVaR CA\")\n",
        "rownames(FR_PORT_VaR_CVaR ) <- c(\"Acciones\", \"Tasas de interés\", \"Divisas\", \"Volatilidad\", \"Portafolio\")\n",
        "FR_PORT_VaR_CVaR\n"
      ],
      "execution_count": 298,
      "outputs": [
        {
          "output_type": "stream",
          "name": "stdout",
          "text": [
            "                        VaR SA       CVaR SA        VaR CA       CVaR CA\n",
            "Acciones         -4.702556e+04 -5.799282e+04 -1.513067e+04 -27682.296724\n",
            "Tasas de interés -1.021558e+05 -1.151543e+05 -3.751433e+04 -67264.343365\n",
            "Divisas          -2.722121e+02 -3.375619e+02 -4.081783e+02           NaN\n",
            "Volatilidad      -1.818194e-02 -3.043336e-02 -7.568818e-03     -0.012913\n",
            "Portafolio       -1.479291e+05 -1.730477e+05 -5.204207e+04 -92321.662149\n"
          ]
        }
      ]
    },
    {
      "cell_type": "markdown",
      "source": [
        "# Conclusiones"
      ],
      "metadata": {
        "id": "rJHHcjX9ngpq"
      }
    },
    {
      "cell_type": "markdown",
      "source": [
        "Con un nivel de cofnianza del 98% hemos calculado el Valor en Riesgo y el Valor en Riesgo condicional para cada tipo de instrumento financiero, instrumento individual, factores de riesgo y para el portafolio, de los valores obtenidos podemos concluir lo siguiente.\n"
      ],
      "metadata": {
        "id": "tDtRKjOYnk8t"
      }
    },
    {
      "cell_type": "markdown",
      "source": [
        "Para la posición en **acciones** se espera una pérdida máxima de -47025.56, aproximadamente, que en general bastante grade pero hay que considerar que la posición que se tiene en el Futuro sobre el IPC es bastnte significativa.\n",
        "\n",
        "La pérdida máxima esperada de las **divisas**, considerando el portafolio,  no es muy grande, y esto se debe a que se tienen posiciones y tipos de cambio variados y al considerar el total del portafolio, la pérdida se suaviza.\n",
        "\n",
        "En el caso de los cetes, se observan pérdidas esperadas muy pequeñas, esto debido a que la volatilidad en las tasas gubernamentales no suelen ser muy significativas. Por otro lado en los bondes se tienen distintos rendimientos esperados dependiendo del factor del riesgo.\n",
        "\n",
        "Para los **futuros** los valores varian bastante por la posición y el tipo de factor de riesgo de cada uno.\n",
        "\n",
        "En los **swaps** se esperan pérdidas máximas según la posición y el factor de riesgo, pero en general podríamos decir que en el swap largo se esperan pérdidas mayores, a comparación del swap corto.\n",
        "\n",
        "Para las **opciones europeas** se tienen tasas no tan variables pero las pérdidas se pueden maximizar por las posiciones.\n",
        "\n",
        "Finalmente, el valor total del portafolio es de 561,162.67, de donde con una confianza del 98% se obtuvo un VaR de -147,929.10 , es decir 2 de cada 100 días se espera una pérdida de a lo más 147,929.10, que representa más del 25% del valor del portafolio.\n",
        "\n",
        "\n",
        "\n",
        "\n",
        "\n"
      ],
      "metadata": {
        "id": "tFS4qz2CqdB1"
      }
    }
  ]
}